{
 "cells": [
  {
   "cell_type": "markdown",
   "metadata": {},
   "source": [
    "# Web Scraping Lab\n",
    "\n",
    "You will find in this notebook some scrapy exercises to practise your scraping skills.\n",
    "\n",
    "**Tips:**\n",
    "\n",
    "- Check the response status code for each request to ensure you have obtained the intended contennt.\n",
    "- Print the response text in each request to understand the kind of info you are getting and its format.\n",
    "- Check for patterns in the response text to extract the data/info requested in each question.\n",
    "- Visit each url and take a look at its source through Chrome DevTools. You'll need to identify the html tags, special class names etc. used for the html content you are expected to extract."
   ]
  },
  {
   "cell_type": "markdown",
   "metadata": {},
   "source": [
    "- [Requests library](http://docs.python-requests.org/en/master/#the-user-guide) documentation \n",
    "- [Beautiful Soup Doc](https://www.crummy.com/software/BeautifulSoup/bs4/doc/)\n",
    "- [Urllib](https://docs.python.org/3/library/urllib.html#module-urllib)\n",
    "- [re lib](https://docs.python.org/3/library/re.html)\n",
    "- [lxml lib](https://lxml.de/)\n",
    "- [Scrapy](https://scrapy.org/)\n",
    "- [List of HTTP status codes](https://en.wikipedia.org/wiki/List_of_HTTP_status_codes)\n",
    "- [HTML basics](http://www.simplehtmlguide.com/cheatsheet.php)\n",
    "- [CSS basics](https://www.cssbasics.com/#page_start)"
   ]
  },
  {
   "cell_type": "markdown",
   "metadata": {},
   "source": [
    "#### Below are the libraries and modules you may need. `requests`,  `BeautifulSoup` and `pandas` are imported for you. If you prefer to use additional libraries feel free to uncomment them."
   ]
  },
  {
   "cell_type": "code",
   "execution_count": 1,
   "metadata": {},
   "outputs": [],
   "source": [
    "import requests\n",
    "from bs4 import BeautifulSoup\n",
    "import pandas as pd\n",
    "from pprint import pprint\n",
    "from lxml import html\n",
    "from lxml.html import fromstring\n",
    "import urllib.request\n",
    "from urllib.request import urlopen\n",
    "import random\n",
    "import re\n",
    "import scrapy\n",
    "\n",
    "import webscrapingfunctions as f"
   ]
  },
  {
   "cell_type": "markdown",
   "metadata": {},
   "source": [
    "#### Download, parse (using BeautifulSoup), and print the content from the Trending Developers page from GitHub:"
   ]
  },
  {
   "cell_type": "code",
   "execution_count": 2,
   "metadata": {},
   "outputs": [],
   "source": [
    "# This is the url you will scrape in this exercise\n",
    "url = 'https://github.com/trending/developers'\n",
    "\n",
    "data = requests.get(url).text\n",
    "soup = BeautifulSoup(data, 'html.parser')"
   ]
  },
  {
   "cell_type": "code",
   "execution_count": 3,
   "metadata": {},
   "outputs": [
    {
     "data": {
      "text/plain": "['mattn', 'Andreas Mueller', 'Brian C', 'Erik Schierboom', 'John Sundell']"
     },
     "execution_count": 3,
     "metadata": {},
     "output_type": "execute_result"
    }
   ],
   "source": [
    "#soup\n",
    "soup.find_all('h1')\n",
    "#.find_next_sibling()\n",
    "#[e.select(\".h3 lh-condensed\") for e in soup.find_all('h1')]\n",
    "#soup.a\n",
    "\n",
    "soup.select(\".h3\")\n",
    "#soup.select(\".lh-condensed\")\n",
    "soup.select(\"[class~=h3]\")\n",
    "h1 = soup.select(\"[class~=h3]\")\n",
    "len(h1)\n",
    "\n",
    "# .select isn't working, lets try a different method.\n",
    "\n",
    "headers = soup.find_all(\"h1\", class_=\"h3\")\n",
    "getText = lambda tag: tag.text\n",
    "getText(headers[0]) # testing\n",
    "\n",
    "devs = list(map(getText,headers))\n",
    "devlist = [dev.strip() for dev in devs]\n",
    "devlist[:5] # Show only 5 out of love for the TA's <3\n",
    "\n",
    "\n",
    "    \n",
    "\n"
   ]
  },
  {
   "cell_type": "markdown",
   "metadata": {},
   "source": [
    "#### Display the names of the trending developers retrieved in the previous step.\n",
    "\n",
    "Your output should be a Python list of developer names. Each name should not contain any html tag.\n",
    "\n",
    "**Instructions:**\n",
    "\n",
    "1. Find out the html tag and class names used for the developer names. You can achieve this using Chrome DevTools.\n",
    "\n",
    "1. Use BeautifulSoup to extract all the html elements that contain the developer names.\n",
    "\n",
    "1. Use string manipulation techniques to replace whitespaces and linebreaks (i.e. `\\n`) in the *text* of each html element. Use a list to store the clean names.\n",
    "\n",
    "1. Print the list of names.\n",
    "\n",
    "Your output should look like below:\n",
    "\n",
    "```\n",
    "['trimstray (@trimstray)',\n",
    " 'joewalnes (JoeWalnes)',\n",
    " 'charlax (Charles-AxelDein)',\n",
    " 'ForrestKnight (ForrestKnight)',\n",
    " 'revery-ui (revery-ui)',\n",
    " 'alibaba (Alibaba)',\n",
    " 'Microsoft (Microsoft)',\n",
    " 'github (GitHub)',\n",
    " 'facebook (Facebook)',\n",
    " 'boazsegev (Bo)',\n",
    " 'google (Google)',\n",
    " 'cloudfetch',\n",
    " 'sindresorhus (SindreSorhus)',\n",
    " 'tensorflow',\n",
    " 'apache (TheApacheSoftwareFoundation)',\n",
    " 'DevonCrawford (DevonCrawford)',\n",
    " 'ARMmbed (ArmMbed)',\n",
    " 'vuejs (vuejs)',\n",
    " 'fastai (fast.ai)',\n",
    " 'QiShaoXuan (Qi)',\n",
    " 'joelparkerhenderson (JoelParkerHenderson)',\n",
    " 'torvalds (LinusTorvalds)',\n",
    " 'CyC2018',\n",
    " 'komeiji-satori (神楽坂覚々)',\n",
    " 'script-8']\n",
    " ```"
   ]
  },
  {
   "cell_type": "markdown",
   "metadata": {},
   "source": [
    "#### Display the trending Python repositories in GitHub\n",
    "\n",
    "The steps to solve this problem is similar to the previous one except that you need to find out the repository names instead of developer names."
   ]
  },
  {
   "cell_type": "code",
   "execution_count": 4,
   "metadata": {},
   "outputs": [],
   "source": [
    "# This is the url you will scrape in this exercise\n",
    "url = 'https://github.com/trending/python?since=daily'\n",
    "data = requests.get(url).text\n",
    "soup = BeautifulSoup(data, 'html.parser')"
   ]
  },
  {
   "cell_type": "code",
   "execution_count": 5,
   "metadata": {},
   "outputs": [
    {
     "data": {
      "text/plain": "['BlankerL/DXY-2019-nCoV-Crawler',\n 'gto76/python-cheatsheet',\n 'smicallef/spiderfoot',\n 'sebastianruder/NLP-progress',\n 'rish-16/sight']"
     },
     "execution_count": 5,
     "metadata": {},
     "output_type": "execute_result"
    }
   ],
   "source": [
    "headers = soup.find_all(\"h1\", class_=\"h3\")\n",
    "headers\n",
    "getText(headers[0])\n",
    "\n",
    "repos = list(map(getText,headers))\n",
    "reposlist = [repo.strip() for repo in repos]\n",
    "reposlist\n",
    "\n",
    "stripspaces = lambda str: str.replace(\" \",\"\")\n",
    "striplines = lambda str: str.replace(\"\\n\",\"\")\n",
    "\n",
    "strippedlist = list(map(stripspaces,map(striplines,reposlist)))\n",
    "strippedlist[:5]"
   ]
  },
  {
   "cell_type": "markdown",
   "metadata": {},
   "source": [
    "#### Display all the image links from Walt Disney wikipedia page"
   ]
  },
  {
   "cell_type": "code",
   "execution_count": 6,
   "metadata": {},
   "outputs": [
    {
     "data": {
      "text/plain": "['//upload.wikimedia.org/wikipedia/en/thumb/e/e7/Cscr-featured.svg/20px-Cscr-featured.svg.png',\n '//upload.wikimedia.org/wikipedia/en/thumb/1/1b/Semi-protection-shackle.svg/20px-Semi-protection-shackle.svg.png',\n '//upload.wikimedia.org/wikipedia/commons/thumb/d/df/Walt_Disney_1946.JPG/220px-Walt_Disney_1946.JPG',\n '//upload.wikimedia.org/wikipedia/commons/thumb/8/87/Walt_Disney_1942_signature.svg/150px-Walt_Disney_1942_signature.svg.png',\n '//upload.wikimedia.org/wikipedia/commons/thumb/c/c4/Walt_Disney_envelope_ca._1921.jpg/220px-Walt_Disney_envelope_ca._1921.jpg']"
     },
     "execution_count": 6,
     "metadata": {},
     "output_type": "execute_result"
    }
   ],
   "source": [
    "def getSoup(url):\n",
    "    return BeautifulSoup(requests.get(url).text, 'html.parser')\n",
    "\n",
    "# This is the url you will scrape in this exercise\n",
    "url = 'https://en.wikipedia.org/wiki/Walt_Disney'\n",
    "\n",
    "soup = getSoup(url)\n",
    "imgs = soup.find_all(\"img\")\n",
    "imgs[0][\"src\"] # tag can be used as dict!\n",
    "\n",
    "imglinks = [img[\"src\"] for img in imgs]\n",
    "imglinks[:5]\n",
    "# print(soup)"
   ]
  },
  {
   "cell_type": "markdown",
   "metadata": {},
   "source": [
    "#### Retrieve an arbitary Wikipedia page of \"Python\" and create a list of links on that page"
   ]
  },
  {
   "cell_type": "code",
   "execution_count": 7,
   "metadata": {},
   "outputs": [],
   "source": [
    "# This is the url you will scrape in this exercise\n",
    "url ='https://en.wikipedia.org/wiki/Python_(programming_language)' "
   ]
  },
  {
   "cell_type": "code",
   "execution_count": 8,
   "metadata": {},
   "outputs": [
    {
     "data": {
      "text/plain": "['/wiki/Wikipedia:Good_articles',\n '/wiki/Python_(disambiguation)',\n '/wiki/File:Python_logo_and_wordmark.svg',\n '/wiki/Programming_paradigm',\n '/wiki/Multi-paradigm_programming_language',\n '/wiki/Functional_programming',\n '/wiki/Imperative_programming',\n '/wiki/Object-oriented_programming',\n '/wiki/Reflective_programming',\n '/wiki/Software_design']"
     },
     "execution_count": 8,
     "metadata": {},
     "output_type": "execute_result"
    }
   ],
   "source": [
    "soup = getSoup(url)\n",
    "hlinks = soup.find_all(\"a\",class_=\"external text\")\n",
    "\n",
    "[link[\"href\"] for link in hlinks] # List of external links\n",
    "\n",
    "hlinks = soup.find_all(\"a\")\n",
    "hlinks[9][\"href\"]\n",
    "\n",
    "def processLinks(tag):\n",
    "    try:\n",
    "        return tag[\"href\"]\n",
    "    except:\n",
    "        return None\n",
    "\n",
    "listLinks = map(processLinks, hlinks)\n",
    "allLinks = list(listLinks) # Lista de todos los links, incluidas las citas que llevan hacia el final de la pagina\n",
    "allLinks[:10]\n",
    "\n",
    "\n",
    "extAndWikiLinks = [link for link in allLinks if type(link) == str and \"#\" not in link ]\n",
    "extAndWikiLinks[:10]\n",
    "# Here a list of all links\n",
    "\n"
   ]
  },
  {
   "cell_type": "markdown",
   "metadata": {},
   "source": [
    "#### Number of Titles that have changed in the United States Code since its last release point "
   ]
  },
  {
   "cell_type": "code",
   "execution_count": 9,
   "metadata": {},
   "outputs": [],
   "source": [
    "# This is the url you will scrape in this exercise\n",
    "url = 'http://uscode.house.gov/download/download.shtml'\n",
    "soup = getSoup(url)"
   ]
  },
  {
   "cell_type": "code",
   "execution_count": 10,
   "metadata": {},
   "outputs": [
    {
     "data": {
      "text/plain": "3"
     },
     "execution_count": 10,
     "metadata": {},
     "output_type": "execute_result"
    }
   ],
   "source": [
    "# We can search for: class=\"usctitlechanged\"\n",
    "\n",
    "changedT = soup.find_all(class_=\"usctitlechanged\")\n",
    "len(changedT)"
   ]
  },
  {
   "cell_type": "markdown",
   "metadata": {},
   "source": [
    "#### A Python list with the top ten FBI's Most Wanted names "
   ]
  },
  {
   "cell_type": "code",
   "execution_count": 11,
   "metadata": {},
   "outputs": [],
   "source": [
    "# This is the url you will scrape in this exercise\n",
    "url = 'https://www.fbi.gov/wanted/topten'\n",
    "soup = getSoup(url)"
   ]
  },
  {
   "cell_type": "code",
   "execution_count": 12,
   "metadata": {},
   "outputs": [
    {
     "data": {
      "text/plain": "['JASON DEREK BROWN',\n 'ALEXIS FLORES',\n 'EUGENE PALMER',\n 'SANTIAGO VILLALBA MEDEROS',\n 'RAFAEL CARO-QUINTERO',\n 'ROBERT WILLIAM FISHER',\n 'BHADRESHKUMAR CHETANBHAI PATEL',\n 'ARNOLDO JIMENEZ',\n 'ALEJANDRO ROSALES CASTILLO',\n 'YASER ABDEL SAID']"
     },
     "execution_count": 12,
     "metadata": {},
     "output_type": "execute_result"
    }
   ],
   "source": [
    "wanted = soup.find_all(\"h3\", class_=\"title\")\n",
    "wanted[0].text\n",
    "\n",
    "wantedL = list(map(getText, wanted))\n",
    "wantedClean = list(map(striplines, wantedL))\n",
    "wantedClean"
   ]
  },
  {
   "cell_type": "markdown",
   "metadata": {},
   "source": [
    "####  20 latest earthquakes info (date, time, latitude, longitude and region name) by the EMSC as a pandas dataframe"
   ]
  },
  {
   "cell_type": "code",
   "execution_count": 13,
   "metadata": {},
   "outputs": [],
   "source": [
    "# This is the url you will scrape in this exercise\n",
    "url = 'https://www.emsc-csem.org/Earthquake/'\n",
    "soup = getSoup(url)"
   ]
  },
  {
   "cell_type": "code",
   "execution_count": 109,
   "metadata": {},
   "outputs": [
    {
     "name": "stdout",
     "output_type": "stream",
     "text": "['CitizenResponse', 'Date & Time UTC', 'Latitude degrees', 'Longitude degrees', 'Depth km', 'Mag  [+]', 'Region name  [+]', 'Last update [-]']\nInt64Index([3, 4, 5, 6, 7, 8, 9, 10, 11, 12], dtype='int64')\n"
    },
    {
     "data": {
      "text/html": "<div>\n<style scoped>\n    .dataframe tbody tr th:only-of-type {\n        vertical-align: middle;\n    }\n\n    .dataframe tbody tr th {\n        vertical-align: top;\n    }\n\n    .dataframe thead th {\n        text-align: right;\n    }\n</style>\n<table border=\"1\" class=\"dataframe\">\n  <thead>\n    <tr style=\"text-align: right;\">\n      <th></th>\n      <th>datetime</th>\n      <th>longitude</th>\n      <th>NS</th>\n      <th>latitude</th>\n      <th>EW</th>\n      <th>depth</th>\n      <th>mag</th>\n      <th>location</th>\n      <th>lastupdate</th>\n    </tr>\n  </thead>\n  <tbody>\n    <tr>\n      <th>0</th>\n      <td>earthquake2020-01-30   17:10:22.614min ago</td>\n      <td>20.01</td>\n      <td>N</td>\n      <td>155.62</td>\n      <td>W</td>\n      <td>32</td>\n      <td>2.3</td>\n      <td>HAWAII REGION, HAWAII</td>\n      <td>2020-01-30 17:13</td>\n    </tr>\n    <tr>\n      <th>1</th>\n      <td>earthquake2020-01-30   17:07:34.016min ago</td>\n      <td>36.70</td>\n      <td>N</td>\n      <td>121.33</td>\n      <td>W</td>\n      <td>4</td>\n      <td>2.9</td>\n      <td>CENTRAL CALIFORNIA</td>\n      <td>2020-01-30 17:09</td>\n    </tr>\n    <tr>\n      <th>2</th>\n      <td>earthquake2020-01-30   16:59:40.324min ago</td>\n      <td>19.39</td>\n      <td>N</td>\n      <td>155.28</td>\n      <td>W</td>\n      <td>3</td>\n      <td>2.1</td>\n      <td>ISLAND OF HAWAII, HAWAII</td>\n      <td>2020-01-30 17:02</td>\n    </tr>\n    <tr>\n      <th>3</th>\n      <td>earthquake2020-01-30   16:48:05.936min ago</td>\n      <td>19.42</td>\n      <td>N</td>\n      <td>155.28</td>\n      <td>W</td>\n      <td>10</td>\n      <td>2.2</td>\n      <td>ISLAND OF HAWAII, HAWAII</td>\n      <td>2020-01-30 16:51</td>\n    </tr>\n    <tr>\n      <th>4</th>\n      <td>earthquake2020-01-30   16:24:22.51hr 00min ago</td>\n      <td>35.13</td>\n      <td>N</td>\n      <td>27.95</td>\n      <td>E</td>\n      <td>10</td>\n      <td>3.4</td>\n      <td>DODECANESE ISLANDS, GREECE</td>\n      <td>2020-01-30 16:40</td>\n    </tr>\n  </tbody>\n</table>\n</div>",
      "text/plain": "                                         datetime longitude   NS latitude  \\\n0      earthquake2020-01-30   17:10:22.614min ago    20.01   N    155.62    \n1      earthquake2020-01-30   17:07:34.016min ago    36.70   N    121.33    \n2      earthquake2020-01-30   16:59:40.324min ago    19.39   N    155.28    \n3      earthquake2020-01-30   16:48:05.936min ago    19.42   N    155.28    \n4  earthquake2020-01-30   16:24:22.51hr 00min ago    35.13   N     27.95    \n\n    EW depth  mag                     location        lastupdate  \n0  W      32  2.3        HAWAII REGION, HAWAII  2020-01-30 17:13  \n1  W       4  2.9           CENTRAL CALIFORNIA  2020-01-30 17:09  \n2  W       3  2.1     ISLAND OF HAWAII, HAWAII  2020-01-30 17:02  \n3  W      10  2.2     ISLAND OF HAWAII, HAWAII  2020-01-30 16:51  \n4  E      10  3.4   DODECANESE ISLANDS, GREECE  2020-01-30 16:40  "
     },
     "metadata": {},
     "output_type": "display_data"
    }
   ],
   "source": [
    "# quakeregion = soup.find_all(\"td\", class_=\"tb_region\")\n",
    "# regions = list(map(getText, quakeregion)) # Trying some stuff\n",
    "# regions[0].lstrip('\\xa0') #testing\n",
    "# regionsL = [region.lstrip('\\xa0') for region in regions]\n",
    "# # print(regionsL)\n",
    "\n",
    "# findColumns = lambda x: soup.find_all(\"td\", class_=f\"tabev{x}\")\n",
    "\n",
    "# print(soup.find_all(\"td\", class_=\"tabev1\"))\n",
    "# cols = [findColumns(e) for e in range(1,7)]\n",
    "\n",
    "# empty = []\n",
    "# for e in soup.find_all(\"td\", class_=\"tabev1\"):\n",
    "#     empty.append(e.text)\n",
    "\n",
    "# list(map(f.getText,cols[0]))\n",
    "\n",
    "# cols += regionsL\n",
    "\n",
    "\"\"\"\"\n",
    "Not convinced this will work, lets try something else\n",
    "\"\"\"\n",
    "\n",
    "tables = soup.find_all(\"tr\", class_=\"normal\")\n",
    "\n",
    "text_list = []\n",
    "for text in tables[0]:\n",
    "    text_list.append(text.text)\n",
    "#print(text_list) # testing\n",
    "\n",
    "def cellsToList(table):\n",
    "    return [text.text for text in table]\n",
    "\n",
    "quakes = list(map(cellsToList, tables))\n",
    "\n",
    "# display(pd.DataFrame(quakes).head())\n",
    "\n",
    "df = pd.DataFrame(quakes)      \n",
    "cols = list(df.columns) # getting column names\n",
    "# print(type(cols[0])) # Checking typing to drop columns\n",
    "\n",
    "# Let's drop column 0-2\n",
    "df = df.drop([0,1,2], axis=1)\n",
    "\n",
    "# Getting header names\n",
    "headers = soup.find_all(\"th\")\n",
    "headL = [h.text for h in headers]\n",
    "\n",
    "print(headL)\n",
    "print(df.columns) # I'm going to be done faster by adding the column names, than by trying to match the two\n",
    "\n",
    "dfnew = df.rename(columns={3:\"datetime\",4:\"longitude\",5:\"NS\",6:\"latitude\",7:\"EW\",8:\"depth\",10:\"mag\",11:\"location\",12:\"lastupdate\"})\n",
    "dfnew = dfnew.drop([9], axis=1)\n",
    "display(dfnew.head())\n",
    "\n"
   ]
  },
  {
   "cell_type": "markdown",
   "metadata": {},
   "source": [
    "#### Display the date, days, title, city, country of next 25 hackathon events as a Pandas dataframe table"
   ]
  },
  {
   "cell_type": "code",
   "execution_count": 15,
   "metadata": {},
   "outputs": [],
   "source": [
    "# This is the url you will scrape in this exercise\n",
    "url ='https://hackevents.co/hackathons'\n",
    "\n",
    "# No va el URL, que pena :'("
   ]
  },
  {
   "cell_type": "code",
   "execution_count": 16,
   "metadata": {},
   "outputs": [],
   "source": [
    "#your code"
   ]
  },
  {
   "cell_type": "markdown",
   "metadata": {},
   "source": [
    "#### Count number of tweets by a given Twitter account."
   ]
  },
  {
   "cell_type": "markdown",
   "metadata": {},
   "source": [
    "You will need to include a ***try/except block*** for account names not found. \n",
    "<br>***Hint:*** the program should count the number of tweets for any provided account"
   ]
  },
  {
   "cell_type": "code",
   "execution_count": 137,
   "metadata": {},
   "outputs": [
    {
     "data": {
      "text/plain": "['16.708 Tweets']"
     },
     "execution_count": 137,
     "metadata": {},
     "output_type": "execute_result"
    }
   ],
   "source": [
    "# This is the url you will scrape in this exercise \n",
    "# You will need to add the account credentials to this url\n",
    "url = 'https://twitter.com/LederGames'\n",
    "soup = url)\n",
    "soup.find_all(\"div\",)\n",
    "soup.find_all(\"h2\")\n",
    "#print(soup.find_all(\"a\"))\n",
    "\n",
    "\n",
    "# soup.select(\"[class~=css-901oao]\")\n",
    "#dir=\"auto\", class_=\"css-901oao\")\n",
    "\n",
    "try:\n",
    "soup_TW = soup\n",
    "num_TW = [tag.attrs['title'] for tag in soup_TW.find_all('a', class_=\"ProfileNav-stat ProfileNav-stat--link u-borderUserColor u-textCenter js-tooltip js-nav\")]\n",
    "num_TW"
   ]
  },
  {
   "cell_type": "code",
   "execution_count": 142,
   "metadata": {},
   "outputs": [
    {
     "data": {
      "text/plain": "[]"
     },
     "execution_count": 142,
     "metadata": {},
     "output_type": "execute_result"
    }
   ],
   "source": [
    "url = 'https://twitter.com/LederGames'\n",
    "data = requests.get(url).text\n",
    "soup = BeautifulSoup(data, 'lxml')\n",
    "\n",
    "soup.find_all(\"div\",classs_=\"css-901oao\")\n"
   ]
  },
  {
   "cell_type": "code",
   "execution_count": 147,
   "metadata": {},
   "outputs": [
    {
     "name": "stdout",
     "output_type": "stream",
     "text": "LederGames tweets 16708 number of tweets.\n"
    }
   ],
   "source": [
    "# Me he puesto a buscar soluciones online cuando no me iba.\n",
    "\n",
    "from bs4 import BeautifulSoup\n",
    "import requests\n",
    "\n",
    "handle = input('Input your account name on Twitter: ')\n",
    "temp = requests.get('https://twitter.com/'+handle)\n",
    "bs = BeautifulSoup(temp.text,'lxml')\n",
    "\n",
    "try:\n",
    "    tweet_box = bs.find('li',{'class':'ProfileNav-item ProfileNav-item--tweets is-active'})\n",
    "    tweets= tweet_box.find('a').find('span',{'class':'ProfileNav-value'})\n",
    "    print(\"{} tweets {} number of tweets.\".format(handle,tweets.get('data-count')))\n",
    "\n",
    "except:\n",
    "    print('Account name not found...')"
   ]
  },
  {
   "cell_type": "markdown",
   "metadata": {},
   "source": [
    "#### Number of followers of a given twitter account"
   ]
  },
  {
   "cell_type": "markdown",
   "metadata": {},
   "source": [
    "You will need to include a ***try/except block*** in case account/s name not found. \n",
    "<br>***Hint:*** the program should count the followers for any provided account"
   ]
  },
  {
   "cell_type": "code",
   "execution_count": 185,
   "metadata": {},
   "outputs": [],
   "source": [
    "# This is the url you will scrape in this exercise \n",
    "# You will need to add the account credentials to this url\n",
    "url = 'https://twitter.com/LederGames'\n",
    "\n"
   ]
  },
  {
   "cell_type": "code",
   "execution_count": 186,
   "metadata": {},
   "outputs": [
    {
     "data": {
      "text/plain": "[]"
     },
     "execution_count": 186,
     "metadata": {},
     "output_type": "execute_result"
    }
   ],
   "source": [
    "soup = getSoup(url)\n",
    "\n",
    "user = \"ledergames\"\n",
    "\n",
    "followers = [tag.attrs['title'] for tag in soup.find_all('a', href=\"/\"+user+\"/followers\")]\n",
    "followers\n",
    "\n",
    "# class_=\"css-901oao css-16my406 r-1qd0xha r-ad9z0x r-bcqeeo r-qvutc0\")\n",
    "\n",
    "# No me va pero voy a seguir."
   ]
  },
  {
   "cell_type": "code",
   "execution_count": 150,
   "metadata": {},
   "outputs": [
    {
     "name": "stdout",
     "output_type": "stream",
     "text": "Number of followers: 8287 \n"
    }
   ],
   "source": [
    "# from bs4 import BeautifulSoup\n",
    "# import requests\n",
    "# handle = input('Input your account name on Twitter: ') \n",
    "# temp = requests.get('https://twitter.com/'+handle)\n",
    "# bs = BeautifulSoup(temp.text,'lxml')\n",
    "# try:\n",
    "#     follow_box = bs.find('li',{'class':'ProfileNav-item ProfileNav-item--followers'})\n",
    "#     followers = follow_box.find('a').find('span',{'class':'ProfileNav-value'})\n",
    "#     print(\"Number of followers: {} \".format(followers.get('data-count')))\n",
    "# except:\n",
    "#     print('Account name not found...')\n",
    "  "
   ]
  },
  {
   "cell_type": "markdown",
   "metadata": {},
   "source": [
    "#### List all language names and number of related articles in the order they appear in wikipedia.org"
   ]
  },
  {
   "cell_type": "code",
   "execution_count": 188,
   "metadata": {},
   "outputs": [],
   "source": [
    "# This is the url you will scrape in this exercise\n",
    "url = 'https://www.wikipedia.org/'\n",
    "soup = getSoup(url)"
   ]
  },
  {
   "cell_type": "code",
   "execution_count": 190,
   "metadata": {},
   "outputs": [
    {
     "name": "stdout",
     "output_type": "stream",
     "text": "\nEnglish\n5 994 000+ articles\n\n\næ¥æ¬èª\n1 185 000+ è¨äº\n\n\nDeutsch\n2 385 000+ Artikel\n\n\nEspaÃ±ol\n1 571 000+ artÃ­culos\n\n\nÐ ÑÑÑÐºÐ¸Ð¹\n1 590 000+ ÑÑÐ°ÑÐµÐ¹\n\n\nFranÃ§ais\n2 171 000+ articles\n\n\nItaliano\n1 576 000+ voci\n\n\nä¸­æ\n1 090 000+ æ¢ç®\n\n\nPortuguÃªs\n1 018 000+ artigos\n\n\nPolski\n1 379 000+ haseÅ\n\n"
    }
   ],
   "source": [
    "lang = soup.find_all(\"a\", class_=\"link-box\")\n",
    "# for lang in lang:\n",
    "#     print(lang.text)\n",
    "\n",
    "listlangs = [lang[i].text for i in range(len(lang))]\n",
    "\n",
    "for lang in listlangs:\n",
    "    print(lang)\n",
    "\n"
   ]
  },
  {
   "cell_type": "markdown",
   "metadata": {},
   "source": [
    "#### A list with the different kind of datasets available in data.gov.uk "
   ]
  },
  {
   "cell_type": "code",
   "execution_count": 198,
   "metadata": {},
   "outputs": [],
   "source": [
    "# This is the url you will scrape in this exercise\n",
    "url = 'https://data.gov.uk/'\n",
    "soup = getSoup(url)"
   ]
  },
  {
   "cell_type": "code",
   "execution_count": 206,
   "metadata": {},
   "outputs": [
    {
     "name": "stdout",
     "output_type": "stream",
     "text": "['Business and economy', 'Crime and justice', 'Defence', 'Education', 'Environment', 'Government', 'Government spending', 'Health', 'Mapping', 'Society', 'Towns and cities', 'Transport']\n"
    }
   ],
   "source": [
    "crimes = soup.find_all(\"a\", href=\"/search?filters%5Btopic%5D=Crime+and+justice\")\n",
    "\n",
    "topics = soup.find_all(\"a\", href=re.compile(r'/search*'))\n",
    "\n",
    "listT = [topic.text for topic in topics]\n",
    "print(listT)\n"
   ]
  },
  {
   "cell_type": "markdown",
   "metadata": {},
   "source": [
    "#### Top 10 languages by number of native speakers stored in a Pandas Dataframe"
   ]
  },
  {
   "cell_type": "code",
   "execution_count": 207,
   "metadata": {},
   "outputs": [],
   "source": [
    "# This is the url you will scrape in this exercise\n",
    "url = 'https://en.wikipedia.org/wiki/List_of_languages_by_number_of_native_speakers'\n",
    "soup = getSoup(url)"
   ]
  },
  {
   "cell_type": "code",
   "execution_count": 232,
   "metadata": {},
   "outputs": [
    {
     "data": {
      "text/html": "<div>\n<style scoped>\n    .dataframe tbody tr th:only-of-type {\n        vertical-align: middle;\n    }\n\n    .dataframe tbody tr th {\n        vertical-align: top;\n    }\n\n    .dataframe thead th {\n        text-align: right;\n    }\n</style>\n<table border=\"1\" class=\"dataframe\">\n  <thead>\n    <tr style=\"text-align: right;\">\n      <th></th>\n      <th>Rank</th>\n      <th>Language</th>\n      <th>Nativespeakersin millions2007 (2010)</th>\n      <th>Percentageof worldpopulation(2007)</th>\n    </tr>\n  </thead>\n  <tbody>\n    <tr>\n      <th>0</th>\n      <td>1</td>\n      <td>Mandarin (entire branch)</td>\n      <td>935 (955)</td>\n      <td>14.1%</td>\n    </tr>\n    <tr>\n      <th>1</th>\n      <td>2</td>\n      <td>Spanish</td>\n      <td>390 (405)</td>\n      <td>5.85%</td>\n    </tr>\n    <tr>\n      <th>2</th>\n      <td>3</td>\n      <td>English</td>\n      <td>365 (360)</td>\n      <td>5.52%</td>\n    </tr>\n    <tr>\n      <th>3</th>\n      <td>4</td>\n      <td>Hindi[a]</td>\n      <td>295 (310)</td>\n      <td>4.46%</td>\n    </tr>\n    <tr>\n      <th>4</th>\n      <td>5</td>\n      <td>Arabic</td>\n      <td>280 (295)</td>\n      <td>4.23%</td>\n    </tr>\n    <tr>\n      <th>5</th>\n      <td>6</td>\n      <td>Portuguese</td>\n      <td>205 (215)</td>\n      <td>3.08%</td>\n    </tr>\n    <tr>\n      <th>6</th>\n      <td>7</td>\n      <td>Bengali</td>\n      <td>200 (205)</td>\n      <td>3.05%</td>\n    </tr>\n    <tr>\n      <th>7</th>\n      <td>8</td>\n      <td>Russian</td>\n      <td>160 (155)</td>\n      <td>2.42%</td>\n    </tr>\n    <tr>\n      <th>8</th>\n      <td>9</td>\n      <td>Japanese</td>\n      <td>125 (125)</td>\n      <td>1.92%</td>\n    </tr>\n    <tr>\n      <th>9</th>\n      <td>10</td>\n      <td>Punjabi</td>\n      <td>95 (100)</td>\n      <td>1.44%</td>\n    </tr>\n  </tbody>\n</table>\n</div>",
      "text/plain": "  Rank                  Language Nativespeakersin millions2007 (2010)  \\\n0    1  Mandarin (entire branch)                            935 (955)   \n1    2                   Spanish                            390 (405)   \n2    3                   English                            365 (360)   \n3    4                  Hindi[a]                            295 (310)   \n4    5                    Arabic                            280 (295)   \n5    6                Portuguese                            205 (215)   \n6    7                   Bengali                            200 (205)   \n7    8                   Russian                            160 (155)   \n8    9                  Japanese                            125 (125)   \n9   10                   Punjabi                             95 (100)   \n\n  Percentageof worldpopulation(2007)  \n0                              14.1%  \n1                              5.85%  \n2                              5.52%  \n3                              4.46%  \n4                              4.23%  \n5                              3.08%  \n6                              3.05%  \n7                              2.42%  \n8                              1.92%  \n9                              1.44%  "
     },
     "execution_count": 232,
     "metadata": {},
     "output_type": "execute_result"
    }
   ],
   "source": [
    "import html5lib\n",
    "\n",
    "# soup.find_all(\"span\", class_=\"mw-headline\")\n",
    "\n",
    "tables = soup.find_all(\"table\")\n",
    "len(tables)\n",
    "\n",
    "lTable = tables[2] # Gottem boys\n",
    "type(lTable)\n",
    "strT = str(lTable)\n",
    "\n",
    "df = pd.read_html(strT, header=0)\n",
    "df = df[0]\n",
    "df.head(10)"
   ]
  },
  {
   "cell_type": "markdown",
   "metadata": {},
   "source": [
    "### BONUS QUESTIONS"
   ]
  },
  {
   "cell_type": "markdown",
   "metadata": {},
   "source": [
    "#### Scrape a certain number of tweets of a given Twitter account."
   ]
  },
  {
   "cell_type": "code",
   "execution_count": 27,
   "metadata": {},
   "outputs": [],
   "source": [
    "# This is the url you will scrape in this exercise \n",
    "# You will need to add the account credentials to this url\n",
    "url = 'https://twitter.com/'"
   ]
  },
  {
   "cell_type": "code",
   "execution_count": 28,
   "metadata": {},
   "outputs": [],
   "source": [
    "# your code"
   ]
  },
  {
   "cell_type": "markdown",
   "metadata": {},
   "source": [
    "#### IMDB's Top 250 data (movie name, Initial release, director name and stars) as a pandas dataframe"
   ]
  },
  {
   "cell_type": "code",
   "execution_count": 29,
   "metadata": {},
   "outputs": [],
   "source": [
    "# This is the url you will scrape in this exercise \n",
    "url = 'https://www.imdb.com/chart/top'"
   ]
  },
  {
   "cell_type": "code",
   "execution_count": 30,
   "metadata": {},
   "outputs": [],
   "source": [
    "# your code"
   ]
  },
  {
   "cell_type": "markdown",
   "metadata": {},
   "source": [
    "#### Movie name, year and a brief summary of the top 10 random movies (IMDB) as a pandas dataframe."
   ]
  },
  {
   "cell_type": "code",
   "execution_count": 31,
   "metadata": {},
   "outputs": [],
   "source": [
    "#This is the url you will scrape in this exercise\n",
    "url = 'http://www.imdb.com/chart/top'"
   ]
  },
  {
   "cell_type": "code",
   "execution_count": 32,
   "metadata": {},
   "outputs": [],
   "source": [
    "#your code"
   ]
  },
  {
   "cell_type": "markdown",
   "metadata": {},
   "source": [
    "#### Find the live weather report (temperature, wind speed, description and weather) of a given city."
   ]
  },
  {
   "cell_type": "code",
   "execution_count": 33,
   "metadata": {},
   "outputs": [],
   "source": [
    "#https://openweathermap.org/current\n",
    "city = city=input('Enter the city:')\n",
    "url = 'http://api.openweathermap.org/data/2.5/weather?'+'q='+city+'&APPID=b35975e18dc93725acb092f7272cc6b8&units=metric'"
   ]
  },
  {
   "cell_type": "code",
   "execution_count": 34,
   "metadata": {},
   "outputs": [],
   "source": [
    "# your code"
   ]
  },
  {
   "cell_type": "markdown",
   "metadata": {},
   "source": [
    "#### Book name,price and stock availability as a pandas dataframe."
   ]
  },
  {
   "cell_type": "code",
   "execution_count": 35,
   "metadata": {},
   "outputs": [],
   "source": [
    "# This is the url you will scrape in this exercise. \n",
    "# It is a fictional bookstore created to be scraped. \n",
    "url = 'http://books.toscrape.com/'"
   ]
  },
  {
   "cell_type": "code",
   "execution_count": 36,
   "metadata": {},
   "outputs": [],
   "source": [
    "#your code"
   ]
  }
 ],
 "metadata": {
  "kernelspec": {
   "display_name": "Python 3.7.6 64-bit",
   "language": "python",
   "name": "python37664bitc736265aa96942798be544ff59087e30"
  },
  "language_info": {
   "codemirror_mode": {
    "name": "ipython",
    "version": 3
   },
   "file_extension": ".py",
   "mimetype": "text/x-python",
   "name": "python",
   "nbconvert_exporter": "python",
   "pygments_lexer": "ipython3",
   "version": "3.7.6-final"
  }
 },
 "nbformat": 4,
 "nbformat_minor": 2
}