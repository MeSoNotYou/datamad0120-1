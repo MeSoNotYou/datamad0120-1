{
 "cells": [
  {
   "cell_type": "markdown",
   "metadata": {},
   "source": [
    "# Web Scraping Lab\n",
    "\n",
    "You will find in this notebook some scrapy exercises to practise your scraping skills.\n",
    "\n",
    "**Tips:**\n",
    "\n",
    "- Check the response status code for each request to ensure you have obtained the intended contennt.\n",
    "- Print the response text in each request to understand the kind of info you are getting and its format.\n",
    "- Check for patterns in the response text to extract the data/info requested in each question.\n",
    "- Visit each url and take a look at its source through Chrome DevTools. You'll need to identify the html tags, special class names etc. used for the html content you are expected to extract."
   ]
  },
  {
   "cell_type": "markdown",
   "metadata": {},
   "source": [
    "- [Requests library](http://docs.python-requests.org/en/master/#the-user-guide) documentation \n",
    "- [Beautiful Soup Doc](https://www.crummy.com/software/BeautifulSoup/bs4/doc/)\n",
    "- [Urllib](https://docs.python.org/3/library/urllib.html#module-urllib)\n",
    "- [re lib](https://docs.python.org/3/library/re.html)\n",
    "- [lxml lib](https://lxml.de/)\n",
    "- [Scrapy](https://scrapy.org/)\n",
    "- [List of HTTP status codes](https://en.wikipedia.org/wiki/List_of_HTTP_status_codes)\n",
    "- [HTML basics](http://www.simplehtmlguide.com/cheatsheet.php)\n",
    "- [CSS basics](https://www.cssbasics.com/#page_start)"
   ]
  },
  {
   "cell_type": "markdown",
   "metadata": {},
   "source": [
    "#### Below are the libraries and modules you may need. `requests`,  `BeautifulSoup` and `pandas` are imported for you. If you prefer to use additional libraries feel free to uncomment them."
   ]
  },
  {
   "cell_type": "code",
   "execution_count": 144,
   "metadata": {},
   "outputs": [],
   "source": [
    "import requests\n",
    "from bs4 import BeautifulSoup\n",
    "import pandas as pd\n",
    "from pprint import pprint\n",
    "from lxml import html\n",
    "from lxml.html import fromstring\n",
    "import urllib.request\n",
    "from urllib.request import urlopen\n",
    "import random\n",
    "import re\n",
    "import scrapy"
   ]
  },
  {
   "cell_type": "markdown",
   "metadata": {},
   "source": [
    "#### Download, parse (using BeautifulSoup), and print the content from the Trending Developers page from GitHub:"
   ]
  },
  {
   "cell_type": "code",
   "execution_count": 145,
   "metadata": {},
   "outputs": [],
   "source": [
    "# This is the url you will scrape in this exercise\n",
    "url = 'https://github.com/trending/developers'\n",
    "\n",
    "data = requests.get(url).text\n",
    "soup = BeautifulSoup(data, 'html.parser')"
   ]
  },
  {
   "cell_type": "code",
   "execution_count": 146,
   "metadata": {},
   "outputs": [
    {
     "data": {
      "text/plain": "['mattn', 'Andreas Mueller', 'Brian C', 'Erik Schierboom', 'John Sundell']"
     },
     "execution_count": 146,
     "metadata": {},
     "output_type": "execute_result"
    }
   ],
   "source": [
    "#soup\n",
    "soup.find_all('h1')\n",
    "#.find_next_sibling()\n",
    "#[e.select(\".h3 lh-condensed\") for e in soup.find_all('h1')]\n",
    "#soup.a\n",
    "\n",
    "soup.select(\".h3\")\n",
    "#soup.select(\".lh-condensed\")\n",
    "soup.select(\"[class~=h3]\")\n",
    "h1 = soup.select(\"[class~=h3]\")\n",
    "len(h1)\n",
    "\n",
    "# .select isn't working, lets try a different method.\n",
    "\n",
    "headers = soup.find_all(\"h1\", class_=\"h3\")\n",
    "getText = lambda tag: tag.text\n",
    "getText(headers[0]) # testing\n",
    "\n",
    "devs = list(map(getText,headers))\n",
    "devlist = [dev.strip() for dev in devs]\n",
    "devlist[:5] # Show only 5 out of love for the TA's <3\n",
    "\n",
    "\n",
    "    \n",
    "\n"
   ]
  },
  {
   "cell_type": "markdown",
   "metadata": {},
   "source": [
    "#### Display the names of the trending developers retrieved in the previous step.\n",
    "\n",
    "Your output should be a Python list of developer names. Each name should not contain any html tag.\n",
    "\n",
    "**Instructions:**\n",
    "\n",
    "1. Find out the html tag and class names used for the developer names. You can achieve this using Chrome DevTools.\n",
    "\n",
    "1. Use BeautifulSoup to extract all the html elements that contain the developer names.\n",
    "\n",
    "1. Use string manipulation techniques to replace whitespaces and linebreaks (i.e. `\\n`) in the *text* of each html element. Use a list to store the clean names.\n",
    "\n",
    "1. Print the list of names.\n",
    "\n",
    "Your output should look like below:\n",
    "\n",
    "```\n",
    "['trimstray (@trimstray)',\n",
    " 'joewalnes (JoeWalnes)',\n",
    " 'charlax (Charles-AxelDein)',\n",
    " 'ForrestKnight (ForrestKnight)',\n",
    " 'revery-ui (revery-ui)',\n",
    " 'alibaba (Alibaba)',\n",
    " 'Microsoft (Microsoft)',\n",
    " 'github (GitHub)',\n",
    " 'facebook (Facebook)',\n",
    " 'boazsegev (Bo)',\n",
    " 'google (Google)',\n",
    " 'cloudfetch',\n",
    " 'sindresorhus (SindreSorhus)',\n",
    " 'tensorflow',\n",
    " 'apache (TheApacheSoftwareFoundation)',\n",
    " 'DevonCrawford (DevonCrawford)',\n",
    " 'ARMmbed (ArmMbed)',\n",
    " 'vuejs (vuejs)',\n",
    " 'fastai (fast.ai)',\n",
    " 'QiShaoXuan (Qi)',\n",
    " 'joelparkerhenderson (JoelParkerHenderson)',\n",
    " 'torvalds (LinusTorvalds)',\n",
    " 'CyC2018',\n",
    " 'komeiji-satori (神楽坂覚々)',\n",
    " 'script-8']\n",
    " ```"
   ]
  },
  {
   "cell_type": "markdown",
   "metadata": {},
   "source": [
    "#### Display the trending Python repositories in GitHub\n",
    "\n",
    "The steps to solve this problem is similar to the previous one except that you need to find out the repository names instead of developer names."
   ]
  },
  {
   "cell_type": "code",
   "execution_count": 181,
   "metadata": {},
   "outputs": [],
   "source": [
    "# This is the url you will scrape in this exercise\n",
    "url = 'https://github.com/trending/python?since=daily'\n",
    "data = requests.get(url).text\n",
    "soup = BeautifulSoup(data, 'html.parser')"
   ]
  },
  {
   "cell_type": "code",
   "execution_count": 182,
   "metadata": {},
   "outputs": [
    {
     "data": {
      "text/plain": "['BlankerL/DXY-2019-nCoV-Crawler',\n 'gto76/python-cheatsheet',\n 'smicallef/spiderfoot',\n 'sebastianruder/NLP-progress',\n 'rish-16/sight']"
     },
     "execution_count": 182,
     "metadata": {},
     "output_type": "execute_result"
    }
   ],
   "source": [
    "headers = soup.find_all(\"h1\", class_=\"h3\")\n",
    "headers\n",
    "getText(headers[0])\n",
    "\n",
    "repos = list(map(getText,headers))\n",
    "reposlist = [repo.strip() for repo in repos]\n",
    "reposlist\n",
    "\n",
    "stripspaces = lambda str: str.replace(\" \",\"\")\n",
    "striplines = lambda str: str.replace(\"\\n\",\"\")\n",
    "\n",
    "strippedlist = list(map(stripspaces,map(striplines,reposlist)))\n",
    "strippedlist[:5]"
   ]
  },
  {
   "cell_type": "markdown",
   "metadata": {},
   "source": [
    "#### Display all the image links from Walt Disney wikipedia page"
   ]
  },
  {
   "cell_type": "code",
   "execution_count": 185,
   "metadata": {},
   "outputs": [
    {
     "name": "stdout",
     "output_type": "stream",
     "text": "/li><li class=\"interlanguage-link interwiki-min\"><a class=\"interlanguage-link-target\" href=\"https://min.wikipedia.org/wiki/Walt_Disney\" hreflang=\"min\" lang=\"min\" title=\"Walt Disney – Minangkabau\">Minangkabau</a></li><li class=\"interlanguage-link interwiki-mn\"><a class=\"interlanguage-link-target\" href=\"https://mn.wikipedia.org/wiki/%D0%A3%D0%BE%D0%BB%D1%82_%D0%94%D0%B8%D1%81%D0%BD%D0%B5%D0%B9\" hreflang=\"mn\" lang=\"mn\" title=\"Уолт Дисней – Mongolian\">Монгол</a></li><li class=\"interlanguage-link interwiki-my\"><a class=\"interlanguage-link-target\" href=\"https://my.wikipedia.org/wiki/%E1%80%9D%E1%80%B1%E1%80%AB%E1%80%B7%E1%80%9C%E1%80%BA%E1%80%92%E1%80%85%E1%80%B9%E1%80%85%E1%80%94%E1%80%AE\" hreflang=\"my\" lang=\"my\" title=\"ဝေါ့လ်ဒစ္စနီ – Burmese\">မြန်မာဘာသာ</a></li><li class=\"interlanguage-link interwiki-nah\"><a class=\"interlanguage-link-target\" href=\"https://nah.wikipedia.org/wiki/Walt_Disney\" hreflang=\"nah\" lang=\"nah\" title=\"Walt Disney – Nāhuatl\">Nāhuatl</a></li><li class=\"interlanguage-link interwiki-nl\"><a class=\"interlanguage-link-target\" href=\"https://nl.wikipedia.org/wiki/Walt_Disney\" hreflang=\"nl\" lang=\"nl\" title=\"Walt Disney – Dutch\">Nederlands</a></li><li class=\"interlanguage-link interwiki-ne\"><a class=\"interlanguage-link-target\" href=\"https://ne.wikipedia.org/wiki/%E0%A4%B5%E0%A4%BE%E0%A4%B2%E0%A5%8D%E0%A4%9F_%E0%A4%A1%E0%A4%BF%E0%A4%9C%E0%A5%8D%E0%A4%A8%E0%A5%80\" hreflang=\"ne\" lang=\"ne\" title=\"वाल्ट डिज्नी – Nepali\">नेपाली</a></li><li class=\"interlanguage-link interwiki-new\"><a class=\"interlanguage-link-target\" href=\"https://new.wikipedia.org/wiki/%E0%A4%B5%E0%A4%BE%E0%A4%B2%E0%A5%8D%E0%A4%9F_%E0%A4%A1%E0%A4%BF%E0%A4%9C%E0%A5%8D%E0%A4%A8%E0%A5%80\" hreflang=\"new\" lang=\"new\" title=\"वाल्ट डिज्नी – Newari\">नेपाल भाषा</a></li><li class=\"interlanguage-link interwiki-ja\"><a class=\"interlanguage-link-target\" href=\"https://ja.wikipedia.org/wiki/%E3%82%A6%E3%82%A9%E3%83%AB%E3%83%88%E3%83%BB%E3%83%87%E3%82%A3%E3%82%BA%E3%83%8B%E3%83%BC\" hreflang=\"ja\" lang=\"ja\" title=\"ウォルト・ディズニー – Japanese\">日本語</a></li><li class=\"interlanguage-link interwiki-ce\"><a class=\"interlanguage-link-target\" href=\"https://ce.wikipedia.org/wiki/%D0%94%D0%B8%D1%81%D0%BD%D0%B5%D0%B9,_%D0%A3%D0%BE%D0%BB%D1%82\" hreflang=\"ce\" lang=\"ce\" title=\"Дисней, Уолт – Chechen\">Нохчийн</a></li><li class=\"interlanguage-link interwiki-no\"><a class=\"interlanguage-link-target\" href=\"https://no.wikipedia.org/wiki/Walt_Disney\" hreflang=\"nb\" lang=\"nb\" title=\"Walt Disney – Norwegian Bokmål\">Norsk bokmål</a></li><li class=\"interlanguage-link interwiki-nn\"><a class=\"interlanguage-link-target\" href=\"https://nn.wikipedia.org/wiki/Walt_Disney\" hreflang=\"nn\" lang=\"nn\" title=\"Walt Disney – Norwegian Nynorsk\">Norsk nynorsk</a></li><li class=\"interlanguage-link interwiki-oc\"><a class=\"interlanguage-link-target\" href=\"https://oc.wikipedia.org/wiki/Walt_Disney\" hreflang=\"oc\" lang=\"oc\" title=\"Walt Disney – Occitan\">Occitan</a></li><li class=\"interlanguage-link interwiki-uz\"><a class=\"interlanguage-link-target\" href=\"https://uz.wikipedia.org/wiki/Walt_Disney\" hreflang=\"uz\" lang=\"uz\" title=\"Walt Disney – Uzbek\">Oʻzbekcha/ўзбекча</a></li><li class=\"interlanguage-link interwiki-pa\"><a class=\"interlanguage-link-target\" href=\"https://pa.wikipedia.org/wiki/%E0%A8%B5%E0%A8%BE%E0%A8%B2%E0%A8%9F_%E0%A8%A1%E0%A8%BF%E0%A8%9C%E0%A8%BC%E0%A8%A8%E0%A9%80\" hreflang=\"pa\" lang=\"pa\" title=\"ਵਾਲਟ ਡਿਜ਼ਨੀ – Punjabi\">ਪੰਜਾਬੀ</a></li><li class=\"interlanguage-link interwiki-pnb\"><a class=\"interlanguage-link-target\" href=\"https://pnb.wikipedia.org/wiki/%D9%88%D8%A7%D9%84%D9%B9_%DA%88%D8%B2%D9%86%DB%8C\" hreflang=\"pnb\" lang=\"pnb\" title=\"والٹ ڈزنی – Western Punjabi\">پنجابی</a></li><li class=\"interlanguage-link interwiki-pms\"><a class=\"interlanguage-link-target\" href=\"https://pms.wikipedia.org/wiki/Walt_Disney\" hreflang=\"pms\" lang=\"pms\" title=\"Walt Disney – Piedmontese\">Piemontèis</a></li><li class=\"interlanguage-link interwiki-nds\"><a class=\"interlanguage-link-target\" href=\"https://nds.wikipedia.org/wiki/Walt_Disney\" hreflang=\"nds\" lang=\"nds\" title=\"Walt Disney – Low German\">Plattdüütsch</a></li><li class=\"interlanguage-link interwiki-pl\"><a class=\"interlanguage-link-target\" href=\"https://pl.wikipedia.org/wiki/Walt_Disney\" hreflang=\"pl\" lang=\"pl\" title=\"Walt Disney – Polish\">Polski</a></li><li class=\"interlanguage-link interwiki-pt\"><a class=\"interlanguage-link-target\" href=\"https://pt.wikipedia.org/wiki/Walt_Disney\" hreflang=\"pt\" lang=\"pt\" title=\"Walt Disney – Portuguese\">Português</a></li><li class=\"interlanguage-link interwiki-ro\"><a class=\"interlanguage-link-target\" href=\"https://ro.wikipedia.org/wiki/Walt_Disney\" hreflang=\"ro\" lang=\"ro\" title=\"Walt Disney – Romanian\">Română</a></li><li class=\"interlanguage-link interwiki-qu\"><a class=\"interlanguage-link-target\" href=\"https://qu.wikipedia.org/wiki/Walt_Disney\" hreflang=\"qu\" lang=\"qu\" title=\"Walt Disney – Quechua\">Runa Simi</a></li><li class=\"interlanguage-link interwiki-rue\"><a class=\"interlanguage-link-target\" href=\"https://rue.wikipedia.org/wiki/%D0%A3%D0%BE%D0%BB%D1%82_%D0%94%D1%96%D1%81%D0%BD%D0%B5%D0%B9\" hreflang=\"rue\" lang=\"rue\" title=\"Уолт Дісней – Rusyn\">Русиньскый</a></li><li class=\"interlanguage-link interwiki-ru\"><a class=\"interlanguage-link-target\" href=\"https://ru.wikipedia.org/wiki/%D0%94%D0%B8%D1%81%D0%BD%D0%B5%D0%B9,_%D0%A3%D0%BE%D0%BB%D1%82\" hreflang=\"ru\" lang=\"ru\" title=\"Дисней, Уолт – Russian\">Русский</a></li><li class=\"interlanguage-link interwiki-sah\"><a class=\"interlanguage-link-target\" href=\"https://sah.wikipedia.org/wiki/%D0%A3%D0%BE%D0%BB%D1%82_%D0%94%D0%B8%D1%81%D0%BD%D0%B5%D0%B9\" hreflang=\"sah\" lang=\"sah\" title=\"Уолт Дисней – Sakha\">Саха тыла</a></li><li class=\"interlanguage-link interwiki-sat\"><a class=\"interlanguage-link-target\" href=\"https://sat.wikipedia.org/wiki/%E1%B1%A3%E1%B1%9F%E1%B1%9E%E1%B1%B4_%E1%B1%B0%E1%B1%A4%E1%B1%A5%E1%B1%B1%E1%B1%A4\" hreflang=\"sat\" lang=\"sat\" title=\"ᱣᱟᱞᱴ ᱰᱤᱥᱱᱤ – Santali\">ᱥᱟᱱᱛᱟᱲᱤ</a></li><li class=\"interlanguage-link interwiki-sa\"><a class=\"interlanguage-link-target\" href=\"https://sa.wikipedia.org/wiki/%E0%A4%B5%E0%A4%BE%E0%A4%B2%E0%A5%8D%E0%A4%9F_%E0%A4%A1%E0%A4%BF%E0%A4%9C%E0%A5%8D%E0%A4%A8%E0%A5%80\" hreflang=\"sa\" lang=\"sa\" title=\"वाल्ट डिज्नी – Sanskrit\">संस्कृतम्</a></li><li class=\"interlanguage-link interwiki-sc\"><a class=\"interlanguage-link-target\" href=\"https://sc.wikipedia.org/wiki/Walt_Disney\" hreflang=\"sc\" lang=\"sc\" title=\"Walt Disney – Sardinian\">Sardu</a></li><li class=\"interlanguage-link interwiki-sco\"><a class=\"interlanguage-link-target\" href=\"https://sco.wikipedia.org/wiki/Walt_Disney\" hreflang=\"sco\" lang=\"sco\" title=\"Walt Disney – Scots\">Scots</a></li><li class=\"interlanguage-link interwiki-sq\"><a class=\"interlanguage-link-target\" href=\"https://sq.wikipedia.org/wiki/Walt_Disney\" hreflang=\"sq\" lang=\"sq\" title=\"Walt Disney – Albanian\">Shqip</a></li><li class=\"interlanguage-link interwiki-scn\"><a class=\"interlanguage-link-target\" href=\"https://scn.wikipedia.org/wiki/Walt_Disney\" hreflang=\"scn\" lang=\"scn\" title=\"Walt Disney – Sicilian\">Sicilianu</a></li><li class=\"interlanguage-link interwiki-simple\"><a class=\"interlanguage-link-target\" href=\"https://simple.wikipedia.org/wiki/Walt_Disney\" hreflang=\"en-simple\" lang=\"en-simple\" title=\"Walt Disney – Simple English\">Simple English</a></li><li class=\"interlanguage-link interwiki-sk\"><a class=\"interlanguage-link-target\" href=\"https://sk.wikipedia.org/wiki/Walt_Disney\" hreflang=\"sk\" lang=\"sk\" title=\"Walt Disney – Slovak\">Slovenčina</a></li><li class=\"interlanguage-link interwiki-sl\"><a class=\"interlanguage-link-target\" href=\"https://sl.wikipedia.org/wiki/Walt_Disney\" hreflang=\"sl\" lang=\"sl\" title=\"Walt Disney – Slovenian\">Slovenščina</a></li><li class=\"interlanguage-link interwiki-szl\"><a class=\"interlanguage-link-target\" href=\"https://szl.wikipedia.org/wiki/Walt_Disney\" hreflang=\"szl\" lang=\"szl\" title=\"Walt Disney – Silesian\">Ślůnski</a></li><li class=\"interlanguage-link interwiki-ckb\"><a class=\"interlanguage-link-target\" href=\"https://ckb.wikipedia.org/wiki/%D9%88%D8%A7%DA%B5%D8%AA_%D8%AF%DB%8C%D8%B2%D9%86%DB%8C\" hreflang=\"ckb\" lang=\"ckb\" title=\"واڵت دیزنی – Central Kurdish\">کوردی</a></li><li class=\"interlanguage-link interwiki-sr\"><a class=\"interlanguage-link-target\" href=\"https://sr.wikipedia.org/wiki/%D0%92%D0%BE%D0%BB%D1%82_%D0%94%D0%B8%D0%B7%D0%BD%D0%B8\" hreflang=\"sr\" lang=\"sr\" title=\"Волт Дизни – Serbian\">Српски / srpski</a></li><li class=\"interlanguage-link interwiki-sh\"><a class=\"interlanguage-link-target\" href=\"https://sh.wikipedia.org/wiki/Walt_Disney\" hreflang=\"sh\" lang=\"sh\" title=\"Walt Disney – Serbo-Croatian\">Srpskohrvatski / српскохрватски</a></li><li class=\"interlanguage-link interwiki-su\"><a class=\"interlanguage-link-target\" href=\"https://su.wikipedia.org/wiki/Walt_Disney\" hreflang=\"su\" lang=\"su\" title=\"Walt Disney – Sundanese\">Sunda</a></li><li class=\"interlanguage-link interwiki-fi badge-Q17437798 badge-goodarticle\" title=\"good article\"><a class=\"interlanguage-link-target\" href=\"https://fi.wikipedia.org/wiki/Walt_Disney\" hreflang=\"fi\" lang=\"fi\" title=\"Walt Disney – Finnish\">Suomi</a></li><li class=\"interlanguage-link interwiki-sv\"><a class=\"interlanguage-link-target\" href=\"https://sv.wikipedia.org/wiki/Walt_Disney\" hreflang=\"sv\" lang=\"sv\" title=\"Walt Disney – Swedish\">Svenska</a></li><li class=\"interlanguage-link interwiki-tl\"><a class=\"interlanguage-link-target\" href=\"https://tl.wikipedia.org/wiki/Walt_Disney\" hreflang=\"tl\" lang=\"tl\" title=\"Walt Disney – Tagalog\">Tagalog</a></li><li class=\"interlanguage-link interwiki-ta\"><a class=\"interlanguage-link-target\" href=\"https://ta.wikipedia.org/wiki/%E0%AE%B5%E0%AE%BE%E0%AE%B2%E0%AF%8D%E0%AE%9F%E0%AF%8D_%E0%AE%9F%E0%AE%BF%E0%AE%B8%E0%AF%8D%E0%AE%A9%E0%AE%BF\" hreflang=\"ta\" lang=\"ta\" title=\"வால்ட் டிஸ்னி – Tamil\">தமிழ்</a></li><li class=\"interlanguage-link interwiki-tt\"><a class=\"interlanguage-link-target\" href=\"https://tt.wikipedia.org/wiki/%D0%A3%D0%BE%D0%BB%D1%82_%D0%94%D0%B8%D1%81%D0%BD%D0%B5%D0%B9\" hreflang=\"tt\" lang=\"tt\" title=\"Уолт Дисней – Tatar\">Татарча/tatarça</a></li><li class=\"interlanguage-link interwiki-te\"><a class=\"interlanguage-link-target\" href=\"https://te.wikipedia.org/wiki/%E0%B0%B5%E0%B0%BE%E0%B0%B2%E0%B1%8D%E0%B0%9F%E0%B1%8D_%E0%B0%A1%E0%B0%BF%E0%B0%B8%E0%B1%8D%E0%B0%A8%E0%B1%80\" hreflang=\"te\" lang=\"te\" title=\"వాల్ట్ డిస్నీ – Telugu\">తెలుగు</a></li><li class=\"interlanguage-link interwiki-th\"><a class=\"interlanguage-link-target\" href=\"https://th.wikipedia.org/wiki/%E0%B8%A7%E0%B8%AD%E0%B8%A5%E0%B8%95%E0%B9%8C_%E0%B8%94%E0%B8%B4%E0%B8%AA%E0%B8%99%E0%B8%B5%E0%B8%A2%E0%B9%8C\" hreflang=\"th\" lang=\"th\" title=\"วอลต์ ดิสนีย์ – Thai\">ไทย</a></li><li class=\"interlanguage-link interwiki-tg\"><a class=\"interlanguage-link-target\" href=\"https://tg.wikipedia.org/wiki/%D0%A3%D0%BE%D0%BB%D1%82_%D0%94%D0%B8%D1%81%D0%BD%D0%B5%D0%B9\" hreflang=\"tg\" lang=\"tg\" title=\"Уолт Дисней – Tajik\">Тоҷикӣ</a></li><li class=\"interlanguage-link interwiki-tr\"><a class=\"interlanguage-link-target\" href=\"https://tr.wikipedia.org/wiki/Walt_Disney\" hreflang=\"tr\" lang=\"tr\" title=\"Walt Disney – Turkish\">Türkçe</a></li><li class=\"interlanguage-link interwiki-uk\"><a class=\"interlanguage-link-target\" href=\"https://uk.wikipedia.org/wiki/%D0%92%D0%BE%D0%BB%D1%82_%D0%94%D1%96%D1%81%D0%BD%D0%B5%D0%B9\" hreflang=\"uk\" lang=\"uk\" title=\"Волт Дісней – Ukrainian\">Українська</a></li><li class=\"interlanguage-link interwiki-ur\"><a class=\"interlanguage-link-target\" href=\"https://ur.wikipedia.org/wiki/%D9%88%D8%A7%D9%84%D9%B9_%DA%88%D8%B2%D9%86%DB%8C\" hreflang=\"ur\" lang=\"ur\" title=\"والٹ ڈزنی – Urdu\">اردو</a></li><li class=\"interlanguage-link interwiki-vec\"><a class=\"interlanguage-link-target\" href=\"https://vec.wikipedia.org/wiki/Walt_Disney\" hreflang=\"vec\" lang=\"vec\" title=\"Walt Disney – Venetian\">Vèneto</a></li><li class=\"interlanguage-link interwiki-vep\"><a class=\"interlanguage-link-target\" href=\"https://vep.wikipedia.org/wiki/Disnei_Uolt\" hreflang=\"vep\" lang=\"vep\" title=\"Disnei Uolt – Veps\">Vepsän kel’</a></li><li class=\"interlanguage-link interwiki-vi\"><a class=\"interlanguage-link-target\" href=\"https://vi.wikipedia.org/wiki/Walt_Disney\" hreflang=\"vi\" lang=\"vi\" title=\"Walt Disney – Vietnamese\">Tiếng Việt</a></li><li class=\"interlanguage-link interwiki-vo\"><a class=\"interlanguage-link-target\" href=\"https://vo.wikipedia.org/wiki/Walt_Disney\" hreflang=\"vo\" lang=\"vo\" title=\"Walt Disney – Volapük\">Volapük</a></li><li class=\"interlanguage-link interwiki-wa\"><a class=\"interlanguage-link-target\" href=\"https://wa.wikipedia.org/wiki/Walt_Disney\" hreflang=\"wa\" lang=\"wa\" title=\"Walt Disney – Walloon\">Walon</a></li><li class=\"interlanguage-link interwiki-war\"><a class=\"interlanguage-link-target\" href=\"https://war.wikipedia.org/wiki/Walt_Disney\" hreflang=\"war\" lang=\"war\" title=\"Walt Disney – Waray\">Winaray</a></li><li class=\"interlanguage-link interwiki-wuu\"><a class=\"interlanguage-link-target\" href=\"https://wuu.wikipedia.org/wiki/%E5%8D%8E%E8%84%B1%C2%B7%E8%BF%AA%E5%A3%AB%E5%B0%BC\" hreflang=\"wuu\" lang=\"wuu\" title=\"华脱·迪士尼 – Wu Chinese\">吴语</a></li><li class=\"interlanguage-link interwiki-yi\"><a class=\"interlanguage-link-target\" href=\"https://yi.wikipedia.org/wiki/%D7%95%D7%95%D7%90%D7%9C%D7%98_%D7%93%D7%99%D7%96%D7%A0%D7%99\" hreflang=\"yi\" lang=\"yi\" title=\"וואלט דיזני – Yiddish\">ייִדיש</a></li><li class=\"interlanguage-link interwiki-yo\"><a class=\"interlanguage-link-target\" href=\"https://yo.wikipedia.org/wiki/Walt_Disney\" hreflang=\"yo\" lang=\"yo\" title=\"Walt Disney – Yoruba\">Yorùbá</a></li><li class=\"interlanguage-link interwiki-zh-yue\"><a class=\"interlanguage-link-target\" href=\"https://zh-yue.wikipedia.org/wiki/%E5%92%8C%E8%B7%AF%E8%BF%AA%E5%A3%AB%E5%B0%BC\" hreflang=\"yue\" lang=\"yue\" title=\"和路迪士尼 – Cantonese\">粵語</a></li><li class=\"interlanguage-link interwiki-bat-smg\"><a class=\"interlanguage-link-target\" href=\"https://bat-smg.wikipedia.org/wiki/Volts_D%C4%97sniejos\" hreflang=\"sgs\" lang=\"sgs\" title=\"Volts Dėsniejos – Samogitian\">Žemaitėška</a></li><li class=\"interlanguage-link interwiki-zh\"><a class=\"interlanguage-link-target\" href=\"https://zh.wikipedia.org/wiki/%E8%8F%AF%E7%89%B9%C2%B7%E8%BF%AA%E5%A3%AB%E5%B0%BC\" hreflang=\"zh\" lang=\"zh\" title=\"華特·迪士尼 – Chinese\">中文</a></li><li class=\"interlanguage-link interwiki-gcr\"><a class=\"interlanguage-link-target\" href=\"https://gcr.wikipedia.org/wiki/Walt_Disney\" hreflang=\"gcr\" lang=\"gcr\" title=\"Walt Disney – Guianan Creole\">Kriyòl gwiyannen</a></li> </ul>\n<div class=\"after-portlet after-portlet-lang\"><span class=\"wb-langlinks-edit wb-langlinks-link\"><a class=\"wbc-editpage\" href=\"https://www.wikidata.org/wiki/Special:EntityPage/Q8704#sitelinks-wikipedia\" title=\"Edit interlanguage links\">Edit links</a></span></div> </div>\n</div>\n</div>\n</div>\n<div id=\"footer\" role=\"contentinfo\">\n<ul id=\"footer-info\">\n<li id=\"footer-info-lastmod\"> This page was last edited on 29 January 2020, at 00:33<span class=\"anonymous-show\"> (UTC)</span>.</li>\n<li id=\"footer-info-copyright\">Text is available under the <a href=\"//en.wikipedia.org/wiki/Wikipedia:Text_of_Creative_Commons_Attribution-ShareAlike_3.0_Unported_License\" rel=\"license\">Creative Commons Attribution-ShareAlike License</a><a href=\"//creativecommons.org/licenses/by-sa/3.0/\" rel=\"license\" style=\"display:none;\"></a>;\nadditional terms may apply.  By using this site, you agree to the <a href=\"//foundation.wikimedia.org/wiki/Terms_of_Use\">Terms of Use</a> and <a href=\"//foundation.wikimedia.org/wiki/Privacy_policy\">Privacy Policy</a>. Wikipedia® is a registered trademark of the <a href=\"//www.wikimediafoundation.org/\">Wikimedia Foundation, Inc.</a>, a non-profit organization.</li>\n</ul>\n<ul id=\"footer-places\">\n<li id=\"footer-places-privacy\"><a class=\"extiw\" href=\"https://foundation.wikimedia.org/wiki/Privacy_policy\" title=\"wmf:Privacy policy\">Privacy policy</a></li>\n<li id=\"footer-places-about\"><a href=\"/wiki/Wikipedia:About\" title=\"Wikipedia:About\">About Wikipedia</a></li>\n<li id=\"footer-places-disclaimer\"><a href=\"/wiki/Wikipedia:General_disclaimer\" title=\"Wikipedia:General disclaimer\">Disclaimers</a></li>\n<li id=\"footer-places-contact\"><a href=\"//en.wikipedia.org/wiki/Wikipedia:Contact_us\">Contact Wikipedia</a></li>\n<li id=\"footer-places-developers\"><a href=\"https://www.mediawiki.org/wiki/Special:MyLanguage/How_to_contribute\">Developers</a></li>\n<li id=\"footer-places-statslink\"><a href=\"https://stats.wikimedia.org/v2/#/en.wikipedia.org\">Statistics</a></li>\n<li id=\"footer-places-cookiestatement\"><a href=\"https://foundation.wikimedia.org/wiki/Cookie_statement\">Cookie statement</a></li>\n<li id=\"footer-places-mobileview\"><a class=\"noprint stopMobileRedirectToggle\" href=\"//en.m.wikipedia.org/w/index.php?title=Walt_Disney&amp;mobileaction=toggle_view_mobile\">Mobile view</a></li>\n</ul>\n<ul class=\"noprint\" id=\"footer-icons\">\n<li id=\"footer-copyrightico\">\n<a href=\"https://wikimediafoundation.org/\"><img alt=\"Wikimedia Foundation\" height=\"31\" src=\"/static/images/wikimedia-button.png\" srcset=\"/static/images/wikimedia-button-1.5x.png 1.5x, /static/images/wikimedia-button-2x.png 2x\" width=\"88\"/></a> </li>\n<li id=\"footer-poweredbyico\">\n<a href=\"https://www.mediawiki.org/\"><img alt=\"Powered by MediaWiki\" height=\"31\" src=\"/static/images/poweredby_mediawiki_88x31.png\" srcset=\"/static/images/poweredby_mediawiki_132x47.png 1.5x, /static/images/poweredby_mediawiki_176x62.png 2x\" width=\"88\"/></a> </li>\n</ul>\n<div style=\"clear: both;\"></div>\n</div>\n<script>(RLQ=window.RLQ||[]).push(function(){mw.config.set({\"wgPageParseReport\":{\"limitreport\":{\"cputime\":\"3.900\",\"walltime\":\"6.337\",\"ppvisitednodes\":{\"value\":15004,\"limit\":1000000},\"ppgeneratednodes\":{\"value\":0,\"limit\":1500000},\"postexpandincludesize\":{\"value\":378570,\"limit\":2097152},\"templateargumentsize\":{\"value\":60768,\"limit\":2097152},\"expansiondepth\":{\"value\":26,\"limit\":40},\"expensivefunctioncount\":{\"value\":43,\"limit\":500},\"unstrip-depth\":{\"value\":1,\"limit\":20},\"unstrip-size\":{\"value\":398169,\"limit\":5000000},\"entityaccesscount\":{\"value\":4,\"limit\":400},\"timingprofile\":[\"100.00% 5610.852      1 -total\",\" 24.54% 1377.166      2 Template:Reflist\",\" 18.79% 1054.538      1 Template:Infobox_person\",\" 18.10% 1015.633      1 Template:Infobox\",\" 16.33%  916.066      5 Template:Br_separated_entries\",\" 15.73%  882.422      1 Template:Birth_date\",\"  8.88%  498.109     32 Template:Cite_news\",\"  8.27%  464.208     41 Template:Cite_web\",\"  7.64%  428.611    146 Template:Sfn\",\"  7.07%  396.768     28 Template:Efn\"]},\"scribunto\":{\"limitreport-timeusage\":{\"value\":\"2.241\",\"limit\":\"10.000\"},\"limitreport-memusage\":{\"value\":32085498,\"limit\":52428800},\"limitreport-profile\":[[\"recursiveClone \\u003CmwInit.lua:41\\u003E\",\"280\",\"12.3\"],[\"Scribunto_LuaSandboxCallback::callParserFunction\",\"280\",\"12.3\"],[\"Scribunto_LuaSandboxCallback::getEntity\",\"240\",\"10.5\"],[\"?\",\"240\",\"10.5\"],[\"Scribunto_LuaSandboxCallback::match\",\"180\",\"7.9\"],[\"dataWrapper \\u003Cmw.lua:661\\u003E\",\"120\",\"5.3\"],[\"type\",\"100\",\"4.4\"],[\"\\u003Cmw.lua:683\\u003E\",\"80\",\"3.5\"],[\"Scribunto_LuaSandboxCallback::getExpandedArgument\",\"80\",\"3.5\"],[\"Scribunto_LuaSandboxCallback::plain\",\"40\",\"1.8\"],[\"[others]\",\"640\",\"28.1\"]]},\"cachereport\":{\"origin\":\"mw1264\",\"timestamp\":\"20200129141237\",\"ttl\":3600,\"transientcontent\":true}}});});</script>\n<script type=\"application/ld+json\">{\"@context\":\"https:\\/\\/schema.org\",\"@type\":\"Article\",\"name\":\"Walt Disney\",\"url\":\"https:\\/\\/en.wikipedia.org\\/wiki\\/Walt_Disney\",\"sameAs\":\"http:\\/\\/www.wikidata.org\\/entity\\/Q8704\",\"mainEntity\":\"http:\\/\\/www.wikidata.org\\/entity\\/Q8704\",\"author\":{\"@type\":\"Organization\",\"name\":\"Contributors to Wikimedia projects\"},\"publisher\":{\"@type\":\"Organization\",\"name\":\"Wikimedia Foundation, Inc.\",\"logo\":{\"@type\":\"ImageObject\",\"url\":\"https:\\/\\/www.wikimedia.org\\/static\\/images\\/wmf-hor-googpub.png\"}},\"datePublished\":\"2001-10-07T20:36:47Z\",\"dateModified\":\"2020-01-29T00:33:05Z\",\"image\":\"https:\\/\\/upload.wikimedia.org\\/wikipedia\\/commons\\/d\\/df\\/Walt_Disney_1946.JPG\",\"headline\":\"American film producer and businessman\"}</script>\n<script>(RLQ=window.RLQ||[]).push(function(){mw.config.set({\"wgBackendResponseTime\":6799,\"wgHostname\":\"mw1264\"});});</script>\n</body>\n</html>\n\n"
    }
   ],
   "source": [
    "def getSoup(url):\n",
    "    return BeautifulSoup(requests.get(url).text, 'html.parser')\n",
    "\n",
    "# This is the url you will scrape in this exercise\n",
    "url = 'https://en.wikipedia.org/wiki/Walt_Disney'\n",
    "\n",
    "soup = getSoup(url)\n",
    "print(soup)"
   ]
  },
  {
   "cell_type": "code",
   "execution_count": 150,
   "metadata": {},
   "outputs": [],
   "source": [
    "#your code"
   ]
  },
  {
   "cell_type": "markdown",
   "metadata": {},
   "source": [
    "#### Retrieve an arbitary Wikipedia page of \"Python\" and create a list of links on that page"
   ]
  },
  {
   "cell_type": "code",
   "execution_count": 151,
   "metadata": {},
   "outputs": [],
   "source": [
    "# This is the url you will scrape in this exercise\n",
    "url ='https://en.wikipedia.org/wiki/Python' "
   ]
  },
  {
   "cell_type": "code",
   "execution_count": 152,
   "metadata": {},
   "outputs": [],
   "source": [
    "#your code"
   ]
  },
  {
   "cell_type": "markdown",
   "metadata": {},
   "source": [
    "#### Number of Titles that have changed in the United States Code since its last release point "
   ]
  },
  {
   "cell_type": "code",
   "execution_count": 153,
   "metadata": {},
   "outputs": [],
   "source": [
    "# This is the url you will scrape in this exercise\n",
    "url = 'http://uscode.house.gov/download/download.shtml'"
   ]
  },
  {
   "cell_type": "code",
   "execution_count": 154,
   "metadata": {},
   "outputs": [],
   "source": [
    "#your code"
   ]
  },
  {
   "cell_type": "markdown",
   "metadata": {},
   "source": [
    "#### A Python list with the top ten FBI's Most Wanted names "
   ]
  },
  {
   "cell_type": "code",
   "execution_count": 155,
   "metadata": {},
   "outputs": [],
   "source": [
    "# This is the url you will scrape in this exercise\n",
    "url = 'https://www.fbi.gov/wanted/topten'"
   ]
  },
  {
   "cell_type": "code",
   "execution_count": 156,
   "metadata": {},
   "outputs": [],
   "source": [
    "#your code "
   ]
  },
  {
   "cell_type": "markdown",
   "metadata": {},
   "source": [
    "####  20 latest earthquakes info (date, time, latitude, longitude and region name) by the EMSC as a pandas dataframe"
   ]
  },
  {
   "cell_type": "code",
   "execution_count": 157,
   "metadata": {},
   "outputs": [],
   "source": [
    "# This is the url you will scrape in this exercise\n",
    "url = 'https://www.emsc-csem.org/Earthquake/'"
   ]
  },
  {
   "cell_type": "code",
   "execution_count": 158,
   "metadata": {},
   "outputs": [],
   "source": [
    "#your code"
   ]
  },
  {
   "cell_type": "markdown",
   "metadata": {},
   "source": [
    "#### Display the date, days, title, city, country of next 25 hackathon events as a Pandas dataframe table"
   ]
  },
  {
   "cell_type": "code",
   "execution_count": 159,
   "metadata": {},
   "outputs": [],
   "source": [
    "# This is the url you will scrape in this exercise\n",
    "url ='https://hackevents.co/hackathons'"
   ]
  },
  {
   "cell_type": "code",
   "execution_count": 160,
   "metadata": {},
   "outputs": [],
   "source": [
    "#your code"
   ]
  },
  {
   "cell_type": "markdown",
   "metadata": {},
   "source": [
    "#### Count number of tweets by a given Twitter account."
   ]
  },
  {
   "cell_type": "markdown",
   "metadata": {},
   "source": [
    "You will need to include a ***try/except block*** for account names not found. \n",
    "<br>***Hint:*** the program should count the number of tweets for any provided account"
   ]
  },
  {
   "cell_type": "code",
   "execution_count": 161,
   "metadata": {},
   "outputs": [],
   "source": [
    "# This is the url you will scrape in this exercise \n",
    "# You will need to add the account credentials to this url\n",
    "url = 'https://twitter.com/'"
   ]
  },
  {
   "cell_type": "code",
   "execution_count": 162,
   "metadata": {},
   "outputs": [],
   "source": [
    "#your code"
   ]
  },
  {
   "cell_type": "markdown",
   "metadata": {},
   "source": [
    "#### Number of followers of a given twitter account"
   ]
  },
  {
   "cell_type": "markdown",
   "metadata": {},
   "source": [
    "You will need to include a ***try/except block*** in case account/s name not found. \n",
    "<br>***Hint:*** the program should count the followers for any provided account"
   ]
  },
  {
   "cell_type": "code",
   "execution_count": 163,
   "metadata": {},
   "outputs": [],
   "source": [
    "# This is the url you will scrape in this exercise \n",
    "# You will need to add the account credentials to this url\n",
    "url = 'https://twitter.com/'"
   ]
  },
  {
   "cell_type": "code",
   "execution_count": 164,
   "metadata": {},
   "outputs": [],
   "source": [
    "#your code"
   ]
  },
  {
   "cell_type": "markdown",
   "metadata": {},
   "source": [
    "#### List all language names and number of related articles in the order they appear in wikipedia.org"
   ]
  },
  {
   "cell_type": "code",
   "execution_count": 165,
   "metadata": {},
   "outputs": [],
   "source": [
    "# This is the url you will scrape in this exercise\n",
    "url = 'https://www.wikipedia.org/'"
   ]
  },
  {
   "cell_type": "code",
   "execution_count": 166,
   "metadata": {},
   "outputs": [],
   "source": [
    "#your code"
   ]
  },
  {
   "cell_type": "markdown",
   "metadata": {},
   "source": [
    "#### A list with the different kind of datasets available in data.gov.uk "
   ]
  },
  {
   "cell_type": "code",
   "execution_count": 167,
   "metadata": {},
   "outputs": [],
   "source": [
    "# This is the url you will scrape in this exercise\n",
    "url = 'https://data.gov.uk/'"
   ]
  },
  {
   "cell_type": "code",
   "execution_count": 168,
   "metadata": {},
   "outputs": [],
   "source": [
    "#your code "
   ]
  },
  {
   "cell_type": "markdown",
   "metadata": {},
   "source": [
    "#### Top 10 languages by number of native speakers stored in a Pandas Dataframe"
   ]
  },
  {
   "cell_type": "code",
   "execution_count": 169,
   "metadata": {},
   "outputs": [],
   "source": [
    "# This is the url you will scrape in this exercise\n",
    "url = 'https://en.wikipedia.org/wiki/List_of_languages_by_number_of_native_speakers'"
   ]
  },
  {
   "cell_type": "code",
   "execution_count": 170,
   "metadata": {},
   "outputs": [],
   "source": [
    "#your code"
   ]
  },
  {
   "cell_type": "markdown",
   "metadata": {},
   "source": [
    "### BONUS QUESTIONS"
   ]
  },
  {
   "cell_type": "markdown",
   "metadata": {},
   "source": [
    "#### Scrape a certain number of tweets of a given Twitter account."
   ]
  },
  {
   "cell_type": "code",
   "execution_count": 171,
   "metadata": {},
   "outputs": [],
   "source": [
    "# This is the url you will scrape in this exercise \n",
    "# You will need to add the account credentials to this url\n",
    "url = 'https://twitter.com/'"
   ]
  },
  {
   "cell_type": "code",
   "execution_count": 172,
   "metadata": {},
   "outputs": [],
   "source": [
    "# your code"
   ]
  },
  {
   "cell_type": "markdown",
   "metadata": {},
   "source": [
    "#### IMDB's Top 250 data (movie name, Initial release, director name and stars) as a pandas dataframe"
   ]
  },
  {
   "cell_type": "code",
   "execution_count": 173,
   "metadata": {},
   "outputs": [],
   "source": [
    "# This is the url you will scrape in this exercise \n",
    "url = 'https://www.imdb.com/chart/top'"
   ]
  },
  {
   "cell_type": "code",
   "execution_count": 174,
   "metadata": {},
   "outputs": [],
   "source": [
    "# your code"
   ]
  },
  {
   "cell_type": "markdown",
   "metadata": {},
   "source": [
    "#### Movie name, year and a brief summary of the top 10 random movies (IMDB) as a pandas dataframe."
   ]
  },
  {
   "cell_type": "code",
   "execution_count": 175,
   "metadata": {},
   "outputs": [],
   "source": [
    "#This is the url you will scrape in this exercise\n",
    "url = 'http://www.imdb.com/chart/top'"
   ]
  },
  {
   "cell_type": "code",
   "execution_count": 176,
   "metadata": {},
   "outputs": [],
   "source": [
    "#your code"
   ]
  },
  {
   "cell_type": "markdown",
   "metadata": {},
   "source": [
    "#### Find the live weather report (temperature, wind speed, description and weather) of a given city."
   ]
  },
  {
   "cell_type": "code",
   "execution_count": 177,
   "metadata": {},
   "outputs": [],
   "source": [
    "#https://openweathermap.org/current\n",
    "city = city=input('Enter the city:')\n",
    "url = 'http://api.openweathermap.org/data/2.5/weather?'+'q='+city+'&APPID=b35975e18dc93725acb092f7272cc6b8&units=metric'"
   ]
  },
  {
   "cell_type": "code",
   "execution_count": 178,
   "metadata": {},
   "outputs": [],
   "source": [
    "# your code"
   ]
  },
  {
   "cell_type": "markdown",
   "metadata": {},
   "source": [
    "#### Book name,price and stock availability as a pandas dataframe."
   ]
  },
  {
   "cell_type": "code",
   "execution_count": 179,
   "metadata": {},
   "outputs": [],
   "source": [
    "# This is the url you will scrape in this exercise. \n",
    "# It is a fictional bookstore created to be scraped. \n",
    "url = 'http://books.toscrape.com/'"
   ]
  },
  {
   "cell_type": "code",
   "execution_count": 180,
   "metadata": {},
   "outputs": [],
   "source": [
    "#your code"
   ]
  }
 ],
 "metadata": {
  "kernelspec": {
   "display_name": "Python 3.7.6 64-bit",
   "language": "python",
   "name": "python37664bitc736265aa96942798be544ff59087e30"
  },
  "language_info": {
   "codemirror_mode": {
    "name": "ipython",
    "version": 3
   },
   "file_extension": ".py",
   "mimetype": "text/x-python",
   "name": "python",
   "nbconvert_exporter": "python",
   "pygments_lexer": "ipython3",
   "version": "3.7.6-final"
  }
 },
 "nbformat": 4,
 "nbformat_minor": 2
}