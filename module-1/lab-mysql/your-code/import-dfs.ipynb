{
 "nbformat": 4,
 "nbformat_minor": 2,
 "metadata": {
  "language_info": {
   "name": "python",
   "codemirror_mode": {
    "name": "ipython",
    "version": 3
   },
   "version": "3.7.6-final"
  },
  "orig_nbformat": 2,
  "file_extension": ".py",
  "mimetype": "text/x-python",
  "name": "python",
  "npconvert_exporter": "python",
  "pygments_lexer": "ipython3",
  "version": 3,
  "kernelspec": {
   "name": "python37664bitc736265aa96942798be544ff59087e30",
   "display_name": "Python 3.7.6 64-bit"
  }
 },
 "cells": [
  {
   "cell_type": "code",
   "execution_count": 2,
   "metadata": {},
   "outputs": [],
   "source": [
    "import os\n",
    "import pandas as pd\n",
    "\n",
    "\n",
    "\n",
    "dfCars = pd.read_csv('cars.txt','\\t',lineterminator='\\n') \n",
    "\n",
    "dfCustomers = pd.read_csv('customers.txt', sep='\\t', lineterminator='\\n')\n",
    "\n",
    "dfSalespersons = pd.read_csv('salespersons.txt', sep='\\t', lineterminator='\\n')\n",
    "\n",
    "dfInvoices = pd.read_csv('invoices.txt', sep='\\t', lineterminator='\\n')\n",
    "\n",
    "\n",
    "\n"
   ]
  },
  {
   "cell_type": "code",
   "execution_count": 3,
   "metadata": {},
   "outputs": [
    {
     "data": {
      "text/html": "<div>\n<style scoped>\n    .dataframe tbody tr th:only-of-type {\n        vertical-align: middle;\n    }\n\n    .dataframe tbody tr th {\n        vertical-align: top;\n    }\n\n    .dataframe thead th {\n        text-align: right;\n    }\n</style>\n<table border=\"1\" class=\"dataframe\">\n  <thead>\n    <tr style=\"text-align: right;\">\n      <th></th>\n      <th>ID</th>\n      <th>VIN</th>\n      <th>Manufacturer</th>\n      <th>Model</th>\n      <th>Year</th>\n      <th>Color</th>\n    </tr>\n  </thead>\n  <tbody>\n    <tr>\n      <th>0</th>\n      <td>0</td>\n      <td>3K096I98581DHSNUP</td>\n      <td>Volkswagen</td>\n      <td>Tiguan</td>\n      <td>2019</td>\n      <td>Blue</td>\n    </tr>\n    <tr>\n      <th>1</th>\n      <td>1</td>\n      <td>ZM8G7BEUQZ97IH46V</td>\n      <td>Peugeot</td>\n      <td>Rifter</td>\n      <td>2019</td>\n      <td>Red</td>\n    </tr>\n    <tr>\n      <th>2</th>\n      <td>2</td>\n      <td>RKXVNNIHLVVZOUB4M</td>\n      <td>Ford</td>\n      <td>Fusion</td>\n      <td>2018</td>\n      <td>White</td>\n    </tr>\n    <tr>\n      <th>3</th>\n      <td>3</td>\n      <td>HKNDGS7CU31E9Z7JW</td>\n      <td>Toyota</td>\n      <td>RAV4</td>\n      <td>2018</td>\n      <td>Silver</td>\n    </tr>\n    <tr>\n      <th>4</th>\n      <td>4</td>\n      <td>DAM41UDN3CHU2WVF6</td>\n      <td>Volvo</td>\n      <td>V60</td>\n      <td>2019</td>\n      <td>Gray</td>\n    </tr>\n    <tr>\n      <th>5</th>\n      <td>5</td>\n      <td>DAM41UDN3CHU2WVF6</td>\n      <td>Volvo</td>\n      <td>V60 Cross Country</td>\n      <td>2019</td>\n      <td>Gray</td>\n    </tr>\n  </tbody>\n</table>\n</div>",
      "text/plain": "   ID                VIN Manufacturer              Model  Year   Color\n0   0  3K096I98581DHSNUP   Volkswagen             Tiguan  2019    Blue\n1   1  ZM8G7BEUQZ97IH46V      Peugeot             Rifter  2019     Red\n2   2  RKXVNNIHLVVZOUB4M         Ford             Fusion  2018   White\n3   3  HKNDGS7CU31E9Z7JW       Toyota               RAV4  2018  Silver\n4   4  DAM41UDN3CHU2WVF6        Volvo                V60  2019    Gray\n5   5  DAM41UDN3CHU2WVF6        Volvo  V60 Cross Country  2019    Gray"
     },
     "metadata": {},
     "output_type": "display_data"
    }
   ],
   "source": [
    "display(dfCars)"
   ]
  },
  {
   "cell_type": "code",
   "execution_count": 4,
   "metadata": {},
   "outputs": [
    {
     "data": {
      "text/html": "<div>\n<style scoped>\n    .dataframe tbody tr th:only-of-type {\n        vertical-align: middle;\n    }\n\n    .dataframe tbody tr th {\n        vertical-align: top;\n    }\n\n    .dataframe thead th {\n        text-align: right;\n    }\n</style>\n<table border=\"1\" class=\"dataframe\">\n  <thead>\n    <tr style=\"text-align: right;\">\n      <th></th>\n      <th>ID</th>\n      <th>Customer ID</th>\n      <th>Name</th>\n      <th>Phone</th>\n      <th>Email</th>\n      <th>Address</th>\n      <th>City</th>\n      <th>State/Province</th>\n      <th>Country</th>\n      <th>Postal</th>\n    </tr>\n  </thead>\n  <tbody>\n    <tr>\n      <th>0</th>\n      <td>0</td>\n      <td>10001</td>\n      <td>Pablo Picasso</td>\n      <td>+34 636 17 63 82</td>\n      <td>-</td>\n      <td>Paseo de la Chopera, 14</td>\n      <td>Madrid</td>\n      <td>Madrid</td>\n      <td>Spain</td>\n      <td>28045</td>\n    </tr>\n    <tr>\n      <th>1</th>\n      <td>1</td>\n      <td>20001</td>\n      <td>Abraham Lincoln</td>\n      <td>+1 305 907 7086</td>\n      <td>-</td>\n      <td>120 SW 8th St</td>\n      <td>Miami</td>\n      <td>Florida</td>\n      <td>United States</td>\n      <td>33130</td>\n    </tr>\n    <tr>\n      <th>2</th>\n      <td>2</td>\n      <td>30001</td>\n      <td>Napoléon Bonaparte</td>\n      <td>+33 1 79 75 40 00</td>\n      <td>-</td>\n      <td>40 Rue du Colisée</td>\n      <td>Paris</td>\n      <td>Île-de-France</td>\n      <td>France</td>\n      <td>75008</td>\n    </tr>\n  </tbody>\n</table>\n</div>",
      "text/plain": "   ID  Customer ID                Name              Phone Email  \\\n0   0        10001       Pablo Picasso   +34 636 17 63 82     -   \n1   1        20001     Abraham Lincoln    +1 305 907 7086     -   \n2   2        30001  Napoléon Bonaparte  +33 1 79 75 40 00     -   \n\n                   Address    City State/Province        Country  Postal  \n0  Paseo de la Chopera, 14  Madrid         Madrid          Spain   28045  \n1            120 SW 8th St   Miami        Florida  United States   33130  \n2        40 Rue du Colisée   Paris  Île-de-France         France   75008  "
     },
     "metadata": {},
     "output_type": "display_data"
    }
   ],
   "source": [
    "display(dfCustomers)"
   ]
  },
  {
   "cell_type": "code",
   "execution_count": 5,
   "metadata": {},
   "outputs": [
    {
     "data": {
      "text/html": "<div>\n<style scoped>\n    .dataframe tbody tr th:only-of-type {\n        vertical-align: middle;\n    }\n\n    .dataframe tbody tr th {\n        vertical-align: top;\n    }\n\n    .dataframe thead th {\n        text-align: right;\n    }\n</style>\n<table border=\"1\" class=\"dataframe\">\n  <thead>\n    <tr style=\"text-align: right;\">\n      <th></th>\n      <th>ID</th>\n      <th>Staff ID</th>\n      <th>Name</th>\n      <th>Store</th>\n    </tr>\n  </thead>\n  <tbody>\n    <tr>\n      <th>0</th>\n      <td>0</td>\n      <td>1</td>\n      <td>Petey Cruiser</td>\n      <td>Madrid</td>\n    </tr>\n    <tr>\n      <th>1</th>\n      <td>1</td>\n      <td>2</td>\n      <td>Anna Sthesia</td>\n      <td>Barcelona</td>\n    </tr>\n    <tr>\n      <th>2</th>\n      <td>2</td>\n      <td>3</td>\n      <td>Paul Molive</td>\n      <td>Berlin</td>\n    </tr>\n    <tr>\n      <th>3</th>\n      <td>3</td>\n      <td>4</td>\n      <td>Gail Forcewind</td>\n      <td>Paris</td>\n    </tr>\n    <tr>\n      <th>4</th>\n      <td>4</td>\n      <td>5</td>\n      <td>Paige Turner</td>\n      <td>Mimia</td>\n    </tr>\n    <tr>\n      <th>5</th>\n      <td>5</td>\n      <td>6</td>\n      <td>Bob Frapples</td>\n      <td>Mexico City</td>\n    </tr>\n    <tr>\n      <th>6</th>\n      <td>6</td>\n      <td>7</td>\n      <td>Walter Melon</td>\n      <td>Amsterdam</td>\n    </tr>\n    <tr>\n      <th>7</th>\n      <td>7</td>\n      <td>8</td>\n      <td>Shonda Leer</td>\n      <td>São Paulo</td>\n    </tr>\n  </tbody>\n</table>\n</div>",
      "text/plain": "   ID  Staff ID            Name        Store\n0   0         1   Petey Cruiser       Madrid\n1   1         2    Anna Sthesia    Barcelona\n2   2         3     Paul Molive       Berlin\n3   3         4  Gail Forcewind        Paris\n4   4         5    Paige Turner        Mimia\n5   5         6    Bob Frapples  Mexico City\n6   6         7    Walter Melon    Amsterdam\n7   7         8     Shonda Leer    São Paulo"
     },
     "metadata": {},
     "output_type": "display_data"
    }
   ],
   "source": [
    "display(dfSalespersons)"
   ]
  },
  {
   "cell_type": "code",
   "execution_count": 6,
   "metadata": {},
   "outputs": [
    {
     "data": {
      "text/html": "<div>\n<style scoped>\n    .dataframe tbody tr th:only-of-type {\n        vertical-align: middle;\n    }\n\n    .dataframe tbody tr th {\n        vertical-align: top;\n    }\n\n    .dataframe thead th {\n        text-align: right;\n    }\n</style>\n<table border=\"1\" class=\"dataframe\">\n  <thead>\n    <tr style=\"text-align: right;\">\n      <th></th>\n      <th>ID</th>\n      <th>Invoice Number</th>\n      <th>Date</th>\n      <th>Car</th>\n      <th>Customer</th>\n      <th>Sales Person</th>\n    </tr>\n  </thead>\n  <tbody>\n    <tr>\n      <th>0</th>\n      <td>0</td>\n      <td>852399038</td>\n      <td>22-08-2018</td>\n      <td>0</td>\n      <td>1</td>\n      <td>3</td>\n    </tr>\n    <tr>\n      <th>1</th>\n      <td>1</td>\n      <td>731166526</td>\n      <td>31-12-2018</td>\n      <td>3</td>\n      <td>0</td>\n      <td>5</td>\n    </tr>\n    <tr>\n      <th>2</th>\n      <td>2</td>\n      <td>271135104</td>\n      <td>22-01-2019</td>\n      <td>2</td>\n      <td>2</td>\n      <td>7</td>\n    </tr>\n  </tbody>\n</table>\n</div>",
      "text/plain": "   ID  Invoice Number        Date  Car  Customer  Sales Person\n0   0       852399038  22-08-2018    0         1             3\n1   1       731166526  31-12-2018    3         0             5\n2   2       271135104  22-01-2019    2         2             7"
     },
     "metadata": {},
     "output_type": "display_data"
    }
   ],
   "source": [
    "display(dfInvoices)"
   ]
  },
  {
   "cell_type": "code",
   "execution_count": 10,
   "metadata": {},
   "outputs": [
    {
     "name": "stdout",
     "output_type": "stream",
     "text": "[[0, '3K096I98581DHSNUP', 'Volkswagen', 'Tiguan', 2019, 'Blue'], [1, 'ZM8G7BEUQZ97IH46V', 'Peugeot', 'Rifter', 2019, 'Red'], [2, 'RKXVNNIHLVVZOUB4M', 'Ford', 'Fusion', 2018, 'White'], [3, 'HKNDGS7CU31E9Z7JW', 'Toyota', 'RAV4', 2018, 'Silver'], [4, 'DAM41UDN3CHU2WVF6', 'Volvo', 'V60', 2019, 'Gray'], [5, 'DAM41UDN3CHU2WVF6', 'Volvo', 'V60 Cross Country', 2019, 'Gray']]\n"
    }
   ],
   "source": [
    "carsL = dfCars.values.tolist()\n",
    "print(carsL)\n",
    "#flatCars = [item for item in carsL for item in item]"
   ]
  },
  {
   "cell_type": "code",
   "execution_count": 18,
   "metadata": {},
   "outputs": [
    {
     "name": "stdout",
     "output_type": "stream",
     "text": "[[0, 10001, 'Pablo Picasso', '+34 636 17 63 82', '-', 'Paseo de la Chopera, 14', 'Madrid', 'Madrid', 'Spain', 28045], [1, 20001, 'Abraham Lincoln', '+1 305 907 7086', '-', '120 SW 8th St', 'Miami', 'Florida', 'United States', 33130], [2, 30001, 'Napoléon Bonaparte', '+33 1 79 75 40 00', '-', '40 Rue du Colisée', 'Paris', 'Île-de-France', 'France', 75008]]\n((0, 10001, 'Pablo Picasso', '+34 636 17 63 82', '-', 'Paseo de la Chopera, 14', 'Madrid', 'Madrid', 'Spain', 28045), (1, 20001, 'Abraham Lincoln', '+1 305 907 7086', '-', '120 SW 8th St', 'Miami', 'Florida', 'United States', 33130), (2, 30001, 'Napoléon Bonaparte', '+33 1 79 75 40 00', '-', '40 Rue du Colisée', 'Paris', 'Île-de-France', 'France', 75008))\n"
    }
   ],
   "source": [
    "customerL = dfCustomers.values.tolist()\n",
    "print(customerL)\n",
    "cust = str(customerL)\n",
    "cust2 = cust.replace('[','(')\n",
    "print(cust2.replace(']',')'))\n",
    "#[item for item in customerL for item in item]"
   ]
  },
  {
   "cell_type": "code",
   "execution_count": 12,
   "metadata": {},
   "outputs": [
    {
     "name": "stdout",
     "output_type": "stream",
     "text": "[[0, 1, 'Petey Cruiser', 'Madrid'], [1, 2, 'Anna Sthesia', 'Barcelona'], [2, 3, 'Paul Molive', 'Berlin'], [3, 4, 'Gail Forcewind', 'Paris'], [4, 5, 'Paige Turner', 'Mimia'], [5, 6, 'Bob Frapples', 'Mexico City'], [6, 7, 'Walter Melon', 'Amsterdam'], [7, 8, 'Shonda Leer', 'São Paulo']]\n"
    }
   ],
   "source": [
    "salesPersons= dfSalespersons.values.tolist() \n",
    "print(salesPersons)\n",
    "#[item for item in salesPersons for item in item]"
   ]
  }
 ]
}