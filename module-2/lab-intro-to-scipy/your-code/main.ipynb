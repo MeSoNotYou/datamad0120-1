{
 "cells": [
  {
   "cell_type": "markdown",
   "metadata": {},
   "source": [
    "# Before your start:\n",
    "- Read the README.md file\n",
    "- Comment as much as you can and use the resources (README.md file)\n",
    "- Happy learning!"
   ]
  },
  {
   "cell_type": "code",
   "execution_count": 1,
   "metadata": {},
   "outputs": [],
   "source": [
    "#import numpy and pandas\n",
    "import numpy as np\n",
    "import pandas as pd"
   ]
  },
  {
   "cell_type": "markdown",
   "metadata": {},
   "source": [
    "# Challenge 1 - The `stats` Submodule\n",
    "\n",
    "This submodule contains statistical functions for conducting hypothesis tests, producing various distributions and other useful tools. Let's examine this submodule using the KickStarter dataset. We will load the dataset below."
   ]
  },
  {
   "cell_type": "code",
   "execution_count": 2,
   "metadata": {},
   "outputs": [],
   "source": [
    "# Run this code:\n",
    "\n",
    "df = pd.read_csv('../ks-projects-201801.csv')"
   ]
  },
  {
   "cell_type": "markdown",
   "metadata": {},
   "source": [
    "Now print the `head` function to examine the dataset."
   ]
  },
  {
   "cell_type": "code",
   "execution_count": 3,
   "metadata": {},
   "outputs": [
    {
     "data": {
      "text/html": "<div>\n<style scoped>\n    .dataframe tbody tr th:only-of-type {\n        vertical-align: middle;\n    }\n\n    .dataframe tbody tr th {\n        vertical-align: top;\n    }\n\n    .dataframe thead th {\n        text-align: right;\n    }\n</style>\n<table border=\"1\" class=\"dataframe\">\n  <thead>\n    <tr style=\"text-align: right;\">\n      <th></th>\n      <th>ID</th>\n      <th>name</th>\n      <th>category</th>\n      <th>main_category</th>\n      <th>currency</th>\n      <th>deadline</th>\n      <th>goal</th>\n      <th>launched</th>\n      <th>pledged</th>\n      <th>state</th>\n      <th>backers</th>\n      <th>country</th>\n      <th>usd pledged</th>\n      <th>usd_pledged_real</th>\n      <th>usd_goal_real</th>\n    </tr>\n  </thead>\n  <tbody>\n    <tr>\n      <th>0</th>\n      <td>1000002330</td>\n      <td>The Songs of Adelaide &amp; Abullah</td>\n      <td>Poetry</td>\n      <td>Publishing</td>\n      <td>GBP</td>\n      <td>2015-10-09</td>\n      <td>1000.0</td>\n      <td>2015-08-11 12:12:28</td>\n      <td>0.0</td>\n      <td>failed</td>\n      <td>0</td>\n      <td>GB</td>\n      <td>0.0</td>\n      <td>0.0</td>\n      <td>1533.95</td>\n    </tr>\n    <tr>\n      <th>1</th>\n      <td>1000003930</td>\n      <td>Greeting From Earth: ZGAC Arts Capsule For ET</td>\n      <td>Narrative Film</td>\n      <td>Film &amp; Video</td>\n      <td>USD</td>\n      <td>2017-11-01</td>\n      <td>30000.0</td>\n      <td>2017-09-02 04:43:57</td>\n      <td>2421.0</td>\n      <td>failed</td>\n      <td>15</td>\n      <td>US</td>\n      <td>100.0</td>\n      <td>2421.0</td>\n      <td>30000.00</td>\n    </tr>\n    <tr>\n      <th>2</th>\n      <td>1000004038</td>\n      <td>Where is Hank?</td>\n      <td>Narrative Film</td>\n      <td>Film &amp; Video</td>\n      <td>USD</td>\n      <td>2013-02-26</td>\n      <td>45000.0</td>\n      <td>2013-01-12 00:20:50</td>\n      <td>220.0</td>\n      <td>failed</td>\n      <td>3</td>\n      <td>US</td>\n      <td>220.0</td>\n      <td>220.0</td>\n      <td>45000.00</td>\n    </tr>\n    <tr>\n      <th>3</th>\n      <td>1000007540</td>\n      <td>ToshiCapital Rekordz Needs Help to Complete Album</td>\n      <td>Music</td>\n      <td>Music</td>\n      <td>USD</td>\n      <td>2012-04-16</td>\n      <td>5000.0</td>\n      <td>2012-03-17 03:24:11</td>\n      <td>1.0</td>\n      <td>failed</td>\n      <td>1</td>\n      <td>US</td>\n      <td>1.0</td>\n      <td>1.0</td>\n      <td>5000.00</td>\n    </tr>\n    <tr>\n      <th>4</th>\n      <td>1000011046</td>\n      <td>Community Film Project: The Art of Neighborhoo...</td>\n      <td>Film &amp; Video</td>\n      <td>Film &amp; Video</td>\n      <td>USD</td>\n      <td>2015-08-29</td>\n      <td>19500.0</td>\n      <td>2015-07-04 08:35:03</td>\n      <td>1283.0</td>\n      <td>canceled</td>\n      <td>14</td>\n      <td>US</td>\n      <td>1283.0</td>\n      <td>1283.0</td>\n      <td>19500.00</td>\n    </tr>\n  </tbody>\n</table>\n</div>",
      "text/plain": "           ID                                               name  \\\n0  1000002330                    The Songs of Adelaide & Abullah   \n1  1000003930      Greeting From Earth: ZGAC Arts Capsule For ET   \n2  1000004038                                     Where is Hank?   \n3  1000007540  ToshiCapital Rekordz Needs Help to Complete Album   \n4  1000011046  Community Film Project: The Art of Neighborhoo...   \n\n         category main_category currency    deadline     goal  \\\n0          Poetry    Publishing      GBP  2015-10-09   1000.0   \n1  Narrative Film  Film & Video      USD  2017-11-01  30000.0   \n2  Narrative Film  Film & Video      USD  2013-02-26  45000.0   \n3           Music         Music      USD  2012-04-16   5000.0   \n4    Film & Video  Film & Video      USD  2015-08-29  19500.0   \n\n              launched  pledged     state  backers country  usd pledged  \\\n0  2015-08-11 12:12:28      0.0    failed        0      GB          0.0   \n1  2017-09-02 04:43:57   2421.0    failed       15      US        100.0   \n2  2013-01-12 00:20:50    220.0    failed        3      US        220.0   \n3  2012-03-17 03:24:11      1.0    failed        1      US          1.0   \n4  2015-07-04 08:35:03   1283.0  canceled       14      US       1283.0   \n\n   usd_pledged_real  usd_goal_real  \n0               0.0        1533.95  \n1            2421.0       30000.00  \n2             220.0       45000.00  \n3               1.0        5000.00  \n4            1283.0       19500.00  "
     },
     "metadata": {},
     "output_type": "display_data"
    },
    {
     "data": {
      "text/plain": "(378661, 15)"
     },
     "execution_count": 3,
     "metadata": {},
     "output_type": "execute_result"
    }
   ],
   "source": [
    "# Your code here:\n",
    "\n",
    "display(df.head())\n",
    "df.shape"
   ]
  },
  {
   "cell_type": "markdown",
   "metadata": {},
   "source": [
    "Import the `mode` function from `scipy.stats` and find the mode of the `country` and `currency` column."
   ]
  },
  {
   "cell_type": "code",
   "execution_count": 4,
   "metadata": {},
   "outputs": [
    {
     "name": "stdout",
     "output_type": "stream",
     "text": "ModeResult(mode=array(['US'], dtype=object), count=array([292627]))\nModeResult(mode=array(['USD'], dtype=object), count=array([295365]))\n"
    }
   ],
   "source": [
    "# Your code here:\n",
    "from scipy.stats import mode\n",
    "\n",
    "print(mode(df.country)) #US\n",
    "print(mode(df.currency)) #USD\n"
   ]
  },
  {
   "cell_type": "markdown",
   "metadata": {},
   "source": [
    "The trimmed mean is a function that computes the mean of the data with observations removed. The most common way to compute a trimmed mean is by specifying a percentage and then removing elements from both ends. However, we can also specify a threshold on both ends. The goal of this function is to create a more robust method of computing the mean that is less influenced by outliers. SciPy contains a function called `tmean` for computing the trimmed mean. \n",
    "\n",
    "In the cell below, import the `tmean` function and then find the 75th percentile of the `goal` column. Compute the trimmed mean between 0 and the 75th percentile of the column. Read more about the `tmean` function [here](https://docs.scipy.org/doc/scipy/reference/generated/scipy.stats.tmean.html#scipy.stats.tmean)."
   ]
  },
  {
   "cell_type": "code",
   "execution_count": 5,
   "metadata": {},
   "outputs": [
    {
     "data": {
      "text/plain": "count    3.786610e+05\nmean     4.908079e+04\nstd      1.183391e+06\nmin      1.000000e-02\n25%      2.000000e+03\n50%      5.200000e+03\n75%      1.600000e+04\nmax      1.000000e+08\nName: goal, dtype: float64"
     },
     "metadata": {},
     "output_type": "display_data"
    }
   ],
   "source": [
    "from scipy.stats import tmean\n",
    "\n",
    "# Trimmed mean of goal\n",
    "display(df.goal.describe())\n",
    "#tmean(df.goal, limits)\n",
    "\n",
    "\n"
   ]
  },
  {
   "cell_type": "code",
   "execution_count": 6,
   "metadata": {},
   "outputs": [
    {
     "data": {
      "text/plain": "4874.150287106898"
     },
     "execution_count": 6,
     "metadata": {},
     "output_type": "execute_result"
    }
   ],
   "source": [
    "tmean(df.goal, limits=(0,1.6E+4))"
   ]
  },
  {
   "cell_type": "markdown",
   "metadata": {},
   "source": [
    "#### SciPy contains various statistical tests. One of the tests is Fisher's exact test. This test is used for contingency tables. \n",
    "\n",
    "The test originates from the \"Lady Tasting Tea\" experiment. In 1935, Fisher published the results of the experiment in his book. The experiment was based on a claim by Muriel Bristol that she can taste whether tea or milk was first poured into the cup. Fisher devised this test to disprove her claim. The null hypothesis is that the treatments do not affect outcomes, while the alternative hypothesis is that the treatment does affect outcome. To read more about Fisher's exact test, click [here](https://en.wikipedia.org/wiki/Fisher%27s_exact_test).\n",
    "\n",
    "Let's perform Fisher's exact test on our KickStarter data. We intend to test the hypothesis that the choice of currency has an impact on meeting the pledge goal. We'll start by creating two derived columns in our dataframe. The first will contain 1 if the amount of money in `usd_pledged_real` is greater than the amount of money in `usd_goal_real`. We can compute this by using the `np.where` function. If the amount in one column is greater than the other, enter a value of 1, otherwise enter a value of zero. Add this column to the dataframe and name it `goal_met`."
   ]
  },
  {
   "cell_type": "code",
   "execution_count": 7,
   "metadata": {},
   "outputs": [
    {
     "data": {
      "text/html": "<div>\n<style scoped>\n    .dataframe tbody tr th:only-of-type {\n        vertical-align: middle;\n    }\n\n    .dataframe tbody tr th {\n        vertical-align: top;\n    }\n\n    .dataframe thead th {\n        text-align: right;\n    }\n</style>\n<table border=\"1\" class=\"dataframe\">\n  <thead>\n    <tr style=\"text-align: right;\">\n      <th></th>\n      <th>ID</th>\n      <th>name</th>\n      <th>category</th>\n      <th>main_category</th>\n      <th>currency</th>\n      <th>deadline</th>\n      <th>goal</th>\n      <th>launched</th>\n      <th>pledged</th>\n      <th>state</th>\n      <th>backers</th>\n      <th>country</th>\n      <th>usd pledged</th>\n      <th>usd_pledged_real</th>\n      <th>usd_goal_real</th>\n      <th>goal_met</th>\n    </tr>\n  </thead>\n  <tbody>\n    <tr>\n      <th>0</th>\n      <td>1000002330</td>\n      <td>The Songs of Adelaide &amp; Abullah</td>\n      <td>Poetry</td>\n      <td>Publishing</td>\n      <td>GBP</td>\n      <td>2015-10-09</td>\n      <td>1000.0</td>\n      <td>2015-08-11 12:12:28</td>\n      <td>0.0</td>\n      <td>failed</td>\n      <td>0</td>\n      <td>GB</td>\n      <td>0.0</td>\n      <td>0.0</td>\n      <td>1533.95</td>\n      <td>0</td>\n    </tr>\n    <tr>\n      <th>1</th>\n      <td>1000003930</td>\n      <td>Greeting From Earth: ZGAC Arts Capsule For ET</td>\n      <td>Narrative Film</td>\n      <td>Film &amp; Video</td>\n      <td>USD</td>\n      <td>2017-11-01</td>\n      <td>30000.0</td>\n      <td>2017-09-02 04:43:57</td>\n      <td>2421.0</td>\n      <td>failed</td>\n      <td>15</td>\n      <td>US</td>\n      <td>100.0</td>\n      <td>2421.0</td>\n      <td>30000.00</td>\n      <td>0</td>\n    </tr>\n    <tr>\n      <th>2</th>\n      <td>1000004038</td>\n      <td>Where is Hank?</td>\n      <td>Narrative Film</td>\n      <td>Film &amp; Video</td>\n      <td>USD</td>\n      <td>2013-02-26</td>\n      <td>45000.0</td>\n      <td>2013-01-12 00:20:50</td>\n      <td>220.0</td>\n      <td>failed</td>\n      <td>3</td>\n      <td>US</td>\n      <td>220.0</td>\n      <td>220.0</td>\n      <td>45000.00</td>\n      <td>0</td>\n    </tr>\n    <tr>\n      <th>3</th>\n      <td>1000007540</td>\n      <td>ToshiCapital Rekordz Needs Help to Complete Album</td>\n      <td>Music</td>\n      <td>Music</td>\n      <td>USD</td>\n      <td>2012-04-16</td>\n      <td>5000.0</td>\n      <td>2012-03-17 03:24:11</td>\n      <td>1.0</td>\n      <td>failed</td>\n      <td>1</td>\n      <td>US</td>\n      <td>1.0</td>\n      <td>1.0</td>\n      <td>5000.00</td>\n      <td>0</td>\n    </tr>\n    <tr>\n      <th>4</th>\n      <td>1000011046</td>\n      <td>Community Film Project: The Art of Neighborhoo...</td>\n      <td>Film &amp; Video</td>\n      <td>Film &amp; Video</td>\n      <td>USD</td>\n      <td>2015-08-29</td>\n      <td>19500.0</td>\n      <td>2015-07-04 08:35:03</td>\n      <td>1283.0</td>\n      <td>canceled</td>\n      <td>14</td>\n      <td>US</td>\n      <td>1283.0</td>\n      <td>1283.0</td>\n      <td>19500.00</td>\n      <td>0</td>\n    </tr>\n  </tbody>\n</table>\n</div>",
      "text/plain": "           ID                                               name  \\\n0  1000002330                    The Songs of Adelaide & Abullah   \n1  1000003930      Greeting From Earth: ZGAC Arts Capsule For ET   \n2  1000004038                                     Where is Hank?   \n3  1000007540  ToshiCapital Rekordz Needs Help to Complete Album   \n4  1000011046  Community Film Project: The Art of Neighborhoo...   \n\n         category main_category currency    deadline     goal  \\\n0          Poetry    Publishing      GBP  2015-10-09   1000.0   \n1  Narrative Film  Film & Video      USD  2017-11-01  30000.0   \n2  Narrative Film  Film & Video      USD  2013-02-26  45000.0   \n3           Music         Music      USD  2012-04-16   5000.0   \n4    Film & Video  Film & Video      USD  2015-08-29  19500.0   \n\n              launched  pledged     state  backers country  usd pledged  \\\n0  2015-08-11 12:12:28      0.0    failed        0      GB          0.0   \n1  2017-09-02 04:43:57   2421.0    failed       15      US        100.0   \n2  2013-01-12 00:20:50    220.0    failed        3      US        220.0   \n3  2012-03-17 03:24:11      1.0    failed        1      US          1.0   \n4  2015-07-04 08:35:03   1283.0  canceled       14      US       1283.0   \n\n   usd_pledged_real  usd_goal_real  goal_met  \n0               0.0        1533.95         0  \n1            2421.0       30000.00         0  \n2             220.0       45000.00         0  \n3               1.0        5000.00         0  \n4            1283.0       19500.00         0  "
     },
     "execution_count": 7,
     "metadata": {},
     "output_type": "execute_result"
    }
   ],
   "source": [
    "# Your code here:\n",
    "df['goal_met'] = np.where(df['usd_pledged_real'] > df['usd_goal_real'], 1, 0)\n",
    "df.head()"
   ]
  },
  {
   "cell_type": "markdown",
   "metadata": {},
   "source": [
    "Next, create a column that checks whether the currency of the project is in US Dollars. Create a column called `usd` using the `np.where` function where if the currency is US Dollars, assign a value of 1 to the row and 0 otherwise."
   ]
  },
  {
   "cell_type": "code",
   "execution_count": 8,
   "metadata": {},
   "outputs": [
    {
     "data": {
      "text/html": "<div>\n<style scoped>\n    .dataframe tbody tr th:only-of-type {\n        vertical-align: middle;\n    }\n\n    .dataframe tbody tr th {\n        vertical-align: top;\n    }\n\n    .dataframe thead th {\n        text-align: right;\n    }\n</style>\n<table border=\"1\" class=\"dataframe\">\n  <thead>\n    <tr style=\"text-align: right;\">\n      <th></th>\n      <th>ID</th>\n      <th>name</th>\n      <th>category</th>\n      <th>main_category</th>\n      <th>currency</th>\n      <th>deadline</th>\n      <th>goal</th>\n      <th>launched</th>\n      <th>pledged</th>\n      <th>state</th>\n      <th>backers</th>\n      <th>country</th>\n      <th>usd pledged</th>\n      <th>usd_pledged_real</th>\n      <th>usd_goal_real</th>\n      <th>goal_met</th>\n      <th>usd</th>\n    </tr>\n  </thead>\n  <tbody>\n    <tr>\n      <th>0</th>\n      <td>1000002330</td>\n      <td>The Songs of Adelaide &amp; Abullah</td>\n      <td>Poetry</td>\n      <td>Publishing</td>\n      <td>GBP</td>\n      <td>2015-10-09</td>\n      <td>1000.0</td>\n      <td>2015-08-11 12:12:28</td>\n      <td>0.0</td>\n      <td>failed</td>\n      <td>0</td>\n      <td>GB</td>\n      <td>0.0</td>\n      <td>0.0</td>\n      <td>1533.95</td>\n      <td>0</td>\n      <td>0</td>\n    </tr>\n    <tr>\n      <th>1</th>\n      <td>1000003930</td>\n      <td>Greeting From Earth: ZGAC Arts Capsule For ET</td>\n      <td>Narrative Film</td>\n      <td>Film &amp; Video</td>\n      <td>USD</td>\n      <td>2017-11-01</td>\n      <td>30000.0</td>\n      <td>2017-09-02 04:43:57</td>\n      <td>2421.0</td>\n      <td>failed</td>\n      <td>15</td>\n      <td>US</td>\n      <td>100.0</td>\n      <td>2421.0</td>\n      <td>30000.00</td>\n      <td>0</td>\n      <td>1</td>\n    </tr>\n    <tr>\n      <th>2</th>\n      <td>1000004038</td>\n      <td>Where is Hank?</td>\n      <td>Narrative Film</td>\n      <td>Film &amp; Video</td>\n      <td>USD</td>\n      <td>2013-02-26</td>\n      <td>45000.0</td>\n      <td>2013-01-12 00:20:50</td>\n      <td>220.0</td>\n      <td>failed</td>\n      <td>3</td>\n      <td>US</td>\n      <td>220.0</td>\n      <td>220.0</td>\n      <td>45000.00</td>\n      <td>0</td>\n      <td>1</td>\n    </tr>\n    <tr>\n      <th>3</th>\n      <td>1000007540</td>\n      <td>ToshiCapital Rekordz Needs Help to Complete Album</td>\n      <td>Music</td>\n      <td>Music</td>\n      <td>USD</td>\n      <td>2012-04-16</td>\n      <td>5000.0</td>\n      <td>2012-03-17 03:24:11</td>\n      <td>1.0</td>\n      <td>failed</td>\n      <td>1</td>\n      <td>US</td>\n      <td>1.0</td>\n      <td>1.0</td>\n      <td>5000.00</td>\n      <td>0</td>\n      <td>1</td>\n    </tr>\n    <tr>\n      <th>4</th>\n      <td>1000011046</td>\n      <td>Community Film Project: The Art of Neighborhoo...</td>\n      <td>Film &amp; Video</td>\n      <td>Film &amp; Video</td>\n      <td>USD</td>\n      <td>2015-08-29</td>\n      <td>19500.0</td>\n      <td>2015-07-04 08:35:03</td>\n      <td>1283.0</td>\n      <td>canceled</td>\n      <td>14</td>\n      <td>US</td>\n      <td>1283.0</td>\n      <td>1283.0</td>\n      <td>19500.00</td>\n      <td>0</td>\n      <td>1</td>\n    </tr>\n  </tbody>\n</table>\n</div>",
      "text/plain": "           ID                                               name  \\\n0  1000002330                    The Songs of Adelaide & Abullah   \n1  1000003930      Greeting From Earth: ZGAC Arts Capsule For ET   \n2  1000004038                                     Where is Hank?   \n3  1000007540  ToshiCapital Rekordz Needs Help to Complete Album   \n4  1000011046  Community Film Project: The Art of Neighborhoo...   \n\n         category main_category currency    deadline     goal  \\\n0          Poetry    Publishing      GBP  2015-10-09   1000.0   \n1  Narrative Film  Film & Video      USD  2017-11-01  30000.0   \n2  Narrative Film  Film & Video      USD  2013-02-26  45000.0   \n3           Music         Music      USD  2012-04-16   5000.0   \n4    Film & Video  Film & Video      USD  2015-08-29  19500.0   \n\n              launched  pledged     state  backers country  usd pledged  \\\n0  2015-08-11 12:12:28      0.0    failed        0      GB          0.0   \n1  2017-09-02 04:43:57   2421.0    failed       15      US        100.0   \n2  2013-01-12 00:20:50    220.0    failed        3      US        220.0   \n3  2012-03-17 03:24:11      1.0    failed        1      US          1.0   \n4  2015-07-04 08:35:03   1283.0  canceled       14      US       1283.0   \n\n   usd_pledged_real  usd_goal_real  goal_met  usd  \n0               0.0        1533.95         0    0  \n1            2421.0       30000.00         0    1  \n2             220.0       45000.00         0    1  \n3               1.0        5000.00         0    1  \n4            1283.0       19500.00         0    1  "
     },
     "execution_count": 8,
     "metadata": {},
     "output_type": "execute_result"
    }
   ],
   "source": [
    "df['usd'] = np.where(df['currency'] == 'USD', 1, 0)\n",
    "df.head()"
   ]
  },
  {
   "cell_type": "markdown",
   "metadata": {},
   "source": [
    "Now create a contingency table using the `pd.crosstab` function in the cell below to compare the `goal_met` and `usd` columns."
   ]
  },
  {
   "cell_type": "code",
   "execution_count": 9,
   "metadata": {},
   "outputs": [
    {
     "data": {
      "text/html": "<div>\n<style scoped>\n    .dataframe tbody tr th:only-of-type {\n        vertical-align: middle;\n    }\n\n    .dataframe tbody tr th {\n        vertical-align: top;\n    }\n\n    .dataframe thead th {\n        text-align: right;\n    }\n</style>\n<table border=\"1\" class=\"dataframe\">\n  <thead>\n    <tr style=\"text-align: right;\">\n      <th>usd</th>\n      <th>0</th>\n      <th>1</th>\n    </tr>\n    <tr>\n      <th>goal_met</th>\n      <th></th>\n      <th></th>\n    </tr>\n  </thead>\n  <tbody>\n    <tr>\n      <th>0</th>\n      <td>58685</td>\n      <td>187130</td>\n    </tr>\n    <tr>\n      <th>1</th>\n      <td>24611</td>\n      <td>108235</td>\n    </tr>\n  </tbody>\n</table>\n</div>",
      "text/plain": "usd           0       1\ngoal_met               \n0         58685  187130\n1         24611  108235"
     },
     "metadata": {},
     "output_type": "display_data"
    }
   ],
   "source": [
    "crosst = pd.crosstab(df.goal_met, df.usd)\n",
    "display(crosst)"
   ]
  },
  {
   "cell_type": "markdown",
   "metadata": {},
   "source": [
    "Import the `fisher_exact` function from `scipy.stats` and conduct the hypothesis test on the contingency table that you have generated above. You can read more about the `fisher_exact` function [here](https://docs.scipy.org/doc/scipy/reference/generated/scipy.stats.fisher_exact.html#scipy.stats.fisher_exact). The output of the function should be the odds ratio and the p-value. The p-value will provide you with the outcome of the test."
   ]
  },
  {
   "cell_type": "code",
   "execution_count": 10,
   "metadata": {},
   "outputs": [
    {
     "data": {
      "text/plain": "(1.3791838163150314, 9.78e-321)"
     },
     "execution_count": 10,
     "metadata": {},
     "output_type": "execute_result"
    }
   ],
   "source": [
    "from scipy.stats import fisher_exact\n",
    "\n",
    "fisher_exact(crosst)\n",
    "# OR and p-value (definitely under p < 0.05)"
   ]
  },
  {
   "cell_type": "markdown",
   "metadata": {},
   "source": [
    "# Challenge 2 - The `linalg` submodule\n",
    "\n",
    "This submodule allows us to perform various linear algebra calculations. \n",
    "\n",
    "Using the solve function, find the solution of the equation system 5x + 2y = 3 and 3x + y = 2 in the cell below."
   ]
  },
  {
   "cell_type": "code",
   "execution_count": 11,
   "metadata": {},
   "outputs": [
    {
     "name": "stdout",
     "output_type": "stream",
     "text": "[[5 2]\n [3 1]]\n[3 2]\n"
    }
   ],
   "source": [
    "from scipy import linalg\n",
    "\n",
    "left = np.array([[5,2],[3,1]])\n",
    "right = np.array([3,2])\n",
    "print(left)\n",
    "print(right)"
   ]
  },
  {
   "cell_type": "code",
   "execution_count": 12,
   "metadata": {},
   "outputs": [
    {
     "data": {
      "text/plain": "'x=1.0, y=-1.0'"
     },
     "execution_count": 12,
     "metadata": {},
     "output_type": "execute_result"
    }
   ],
   "source": [
    "x,y = linalg.solve(left,right)\n",
    "f'x={round(x)}, y={round(y)}'"
   ]
  },
  {
   "cell_type": "markdown",
   "metadata": {},
   "source": [
    "# Challenge 3 - The `interpolate` submodule\n",
    "\n",
    "This submodule allows us to interpolate between two points and create a continuous distribution based on the observed data.\n",
    "\n",
    "In the cell below, import the `interp1d` function and first take a sample of 10 rows from `kickstarter`. "
   ]
  },
  {
   "cell_type": "code",
   "execution_count": 13,
   "metadata": {},
   "outputs": [
    {
     "data": {
      "text/html": "<div>\n<style scoped>\n    .dataframe tbody tr th:only-of-type {\n        vertical-align: middle;\n    }\n\n    .dataframe tbody tr th {\n        vertical-align: top;\n    }\n\n    .dataframe thead th {\n        text-align: right;\n    }\n</style>\n<table border=\"1\" class=\"dataframe\">\n  <thead>\n    <tr style=\"text-align: right;\">\n      <th></th>\n      <th>ID</th>\n      <th>name</th>\n      <th>category</th>\n      <th>main_category</th>\n      <th>currency</th>\n      <th>deadline</th>\n      <th>goal</th>\n      <th>launched</th>\n      <th>pledged</th>\n      <th>state</th>\n      <th>backers</th>\n      <th>country</th>\n      <th>usd pledged</th>\n      <th>usd_pledged_real</th>\n      <th>usd_goal_real</th>\n      <th>goal_met</th>\n      <th>usd</th>\n    </tr>\n  </thead>\n  <tbody>\n    <tr>\n      <th>0</th>\n      <td>1000002330</td>\n      <td>The Songs of Adelaide &amp; Abullah</td>\n      <td>Poetry</td>\n      <td>Publishing</td>\n      <td>GBP</td>\n      <td>2015-10-09</td>\n      <td>1000.0</td>\n      <td>2015-08-11 12:12:28</td>\n      <td>0.0</td>\n      <td>failed</td>\n      <td>0</td>\n      <td>GB</td>\n      <td>0.0</td>\n      <td>0.0</td>\n      <td>1533.95</td>\n      <td>0</td>\n      <td>0</td>\n    </tr>\n    <tr>\n      <th>1</th>\n      <td>1000003930</td>\n      <td>Greeting From Earth: ZGAC Arts Capsule For ET</td>\n      <td>Narrative Film</td>\n      <td>Film &amp; Video</td>\n      <td>USD</td>\n      <td>2017-11-01</td>\n      <td>30000.0</td>\n      <td>2017-09-02 04:43:57</td>\n      <td>2421.0</td>\n      <td>failed</td>\n      <td>15</td>\n      <td>US</td>\n      <td>100.0</td>\n      <td>2421.0</td>\n      <td>30000.00</td>\n      <td>0</td>\n      <td>1</td>\n    </tr>\n    <tr>\n      <th>2</th>\n      <td>1000004038</td>\n      <td>Where is Hank?</td>\n      <td>Narrative Film</td>\n      <td>Film &amp; Video</td>\n      <td>USD</td>\n      <td>2013-02-26</td>\n      <td>45000.0</td>\n      <td>2013-01-12 00:20:50</td>\n      <td>220.0</td>\n      <td>failed</td>\n      <td>3</td>\n      <td>US</td>\n      <td>220.0</td>\n      <td>220.0</td>\n      <td>45000.00</td>\n      <td>0</td>\n      <td>1</td>\n    </tr>\n    <tr>\n      <th>3</th>\n      <td>1000007540</td>\n      <td>ToshiCapital Rekordz Needs Help to Complete Album</td>\n      <td>Music</td>\n      <td>Music</td>\n      <td>USD</td>\n      <td>2012-04-16</td>\n      <td>5000.0</td>\n      <td>2012-03-17 03:24:11</td>\n      <td>1.0</td>\n      <td>failed</td>\n      <td>1</td>\n      <td>US</td>\n      <td>1.0</td>\n      <td>1.0</td>\n      <td>5000.00</td>\n      <td>0</td>\n      <td>1</td>\n    </tr>\n    <tr>\n      <th>4</th>\n      <td>1000011046</td>\n      <td>Community Film Project: The Art of Neighborhoo...</td>\n      <td>Film &amp; Video</td>\n      <td>Film &amp; Video</td>\n      <td>USD</td>\n      <td>2015-08-29</td>\n      <td>19500.0</td>\n      <td>2015-07-04 08:35:03</td>\n      <td>1283.0</td>\n      <td>canceled</td>\n      <td>14</td>\n      <td>US</td>\n      <td>1283.0</td>\n      <td>1283.0</td>\n      <td>19500.00</td>\n      <td>0</td>\n      <td>1</td>\n    </tr>\n  </tbody>\n</table>\n</div>",
      "text/plain": "           ID                                               name  \\\n0  1000002330                    The Songs of Adelaide & Abullah   \n1  1000003930      Greeting From Earth: ZGAC Arts Capsule For ET   \n2  1000004038                                     Where is Hank?   \n3  1000007540  ToshiCapital Rekordz Needs Help to Complete Album   \n4  1000011046  Community Film Project: The Art of Neighborhoo...   \n\n         category main_category currency    deadline     goal  \\\n0          Poetry    Publishing      GBP  2015-10-09   1000.0   \n1  Narrative Film  Film & Video      USD  2017-11-01  30000.0   \n2  Narrative Film  Film & Video      USD  2013-02-26  45000.0   \n3           Music         Music      USD  2012-04-16   5000.0   \n4    Film & Video  Film & Video      USD  2015-08-29  19500.0   \n\n              launched  pledged     state  backers country  usd pledged  \\\n0  2015-08-11 12:12:28      0.0    failed        0      GB          0.0   \n1  2017-09-02 04:43:57   2421.0    failed       15      US        100.0   \n2  2013-01-12 00:20:50    220.0    failed        3      US        220.0   \n3  2012-03-17 03:24:11      1.0    failed        1      US          1.0   \n4  2015-07-04 08:35:03   1283.0  canceled       14      US       1283.0   \n\n   usd_pledged_real  usd_goal_real  goal_met  usd  \n0               0.0        1533.95         0    0  \n1            2421.0       30000.00         0    1  \n2             220.0       45000.00         0    1  \n3               1.0        5000.00         0    1  \n4            1283.0       19500.00         0    1  "
     },
     "execution_count": 13,
     "metadata": {},
     "output_type": "execute_result"
    }
   ],
   "source": [
    "# Your code here:\n",
    "from scipy.interpolate import interp1d\n",
    "\n",
    "# rows = df.take(range(10),axis=1)\n",
    "# rows.head()\n",
    "# I do not see the point of taking a sample of rows if we need specific ones...\n",
    "df.head()\n"
   ]
  },
  {
   "cell_type": "markdown",
   "metadata": {},
   "source": [
    "Next, create a linear interpolation of the backers as a function of `usd_pledged_real`. Create a function `f` that generates a linear interpolation of backers as predicted by the amount of real pledged dollars."
   ]
  },
  {
   "cell_type": "code",
   "execution_count": 31,
   "metadata": {},
   "outputs": [],
   "source": [
    "f = interp1d(sorted(df.usd_pledged_real), sorted(df.backers))\n",
    "\n"
   ]
  },
  {
   "cell_type": "markdown",
   "metadata": {},
   "source": [
    "Now create a new variable called `x_new`. This variable will contain all integers between the minimum number of backers in our sample and the maximum number of backers. The goal here is to take the dataset that contains few obeservations due to sampling and fill all observations with a value using the interpolation function. \n",
    "\n",
    "Hint: one option is the `np.arange` function."
   ]
  },
  {
   "cell_type": "code",
   "execution_count": 32,
   "metadata": {},
   "outputs": [
    {
     "name": "stdout",
     "output_type": "stream",
     "text": "219382 0\n"
    }
   ],
   "source": [
    "maxbackers = df.backers.max()\n",
    "minbackers = df.backers.min()\n",
    "print(maxbackers, minbackers)"
   ]
  },
  {
   "cell_type": "code",
   "execution_count": 33,
   "metadata": {},
   "outputs": [
    {
     "data": {
      "text/plain": "array([     0,      1,      2, ..., 219380, 219381, 219382])"
     },
     "execution_count": 33,
     "metadata": {},
     "output_type": "execute_result"
    }
   ],
   "source": [
    "x_new = np.arange(219383)\n",
    "x_new"
   ]
  },
  {
   "cell_type": "markdown",
   "metadata": {},
   "source": [
    "Plot function f for all values of `x_new`. Run the code below."
   ]
  },
  {
   "cell_type": "code",
   "execution_count": 34,
   "metadata": {},
   "outputs": [
    {
     "data": {
      "text/plain": "[<matplotlib.lines.Line2D at 0x7fd8f31d2590>]"
     },
     "execution_count": 34,
     "metadata": {},
     "output_type": "execute_result"
    },
    {
     "data": {
      "image/png": "[encoded data removed]",
      "image/svg+xml": "<?xml version=\"1.0\" encoding=\"utf-8\" standalone=\"no\"?>\n<!DOCTYPE svg PUBLIC \"-//W3C//DTD SVG 1.1//EN\"\n  \"http://www.w3.org/Graphics/SVG/1.1/DTD/svg11.dtd\">\n<!-- Created with matplotlib (https://matplotlib.org/) -->\n<svg height=\"248.518125pt\" version=\"1.1\" viewBox=\"0 0 381.65 248.518125\" width=\"381.65pt\" xmlns=\"http://www.w3.org/2000/svg\" xmlns:xlink=\"http://www.w3.org/1999/xlink\">\n <defs>\n  <style type=\"text/css\">\n*{stroke-linecap:butt;stroke-linejoin:round;}\n  </style>\n </defs>\n <g id=\"figure_1\">\n  <g id=\"patch_1\">\n   <path d=\"M -0 248.518125 \nL 381.65 248.518125 \nL 381.65 0 \nL -0 0 \nz\n\" style=\"fill:none;\"/>\n  </g>\n  <g id=\"axes_1\">\n   <g id=\"patch_2\">\n    <path d=\"M 39.65 224.64 \nL 374.45 224.64 \nL 374.45 7.2 \nL 39.65 7.2 \nz\n\" style=\"fill:#ffffff;\"/>\n   </g>\n   <g id=\"matplotlib.axis_1\">\n    <g id=\"xtick_1\">\n     <g id=\"line2d_1\">\n      <defs>\n       <path d=\"M 0 0 \nL 0 3.5 \n\" id=\"m2a077942dc\" style=\"stroke:#000000;stroke-width:0.8;\"/>\n      </defs>\n      <g>\n       <use style=\"stroke:#000000;stroke-width:0.8;\" x=\"54.868182\" xlink:href=\"#m2a077942dc\" y=\"224.64\"/>\n      </g>\n     </g>\n     <g id=\"text_1\">\n      <!-- 0 -->\n      <defs>\n       <path d=\"M 31.78125 66.40625 \nQ 24.171875 66.40625 20.328125 58.90625 \nQ 16.5 51.421875 16.5 36.375 \nQ 16.5 21.390625 20.328125 13.890625 \nQ 24.171875 6.390625 31.78125 6.390625 \nQ 39.453125 6.390625 43.28125 13.890625 \nQ 47.125 21.390625 47.125 36.375 \nQ 47.125 51.421875 43.28125 58.90625 \nQ 39.453125 66.40625 31.78125 66.40625 \nz\nM 31.78125 74.21875 \nQ 44.046875 74.21875 50.515625 64.515625 \nQ 56.984375 54.828125 56.984375 36.375 \nQ 56.984375 17.96875 50.515625 8.265625 \nQ 44.046875 -1.421875 31.78125 -1.421875 \nQ 19.53125 -1.421875 13.0625 8.265625 \nQ 6.59375 17.96875 6.59375 36.375 \nQ 6.59375 54.828125 13.0625 64.515625 \nQ 19.53125 74.21875 31.78125 74.21875 \nz\n\" id=\"DejaVuSans-48\"/>\n      </defs>\n      <g transform=\"translate(51.686932 239.238437)scale(0.1 -0.1)\">\n       <use xlink:href=\"#DejaVuSans-48\"/>\n      </g>\n     </g>\n    </g>\n    <g id=\"xtick_2\">\n     <g id=\"line2d_2\">\n      <g>\n       <use style=\"stroke:#000000;stroke-width:0.8;\" x=\"124.236598\" xlink:href=\"#m2a077942dc\" y=\"224.64\"/>\n      </g>\n     </g>\n     <g id=\"text_2\">\n      <!-- 50000 -->\n      <defs>\n       <path d=\"M 10.796875 72.90625 \nL 49.515625 72.90625 \nL 49.515625 64.59375 \nL 19.828125 64.59375 \nL 19.828125 46.734375 \nQ 21.96875 47.46875 24.109375 47.828125 \nQ 26.265625 48.1875 28.421875 48.1875 \nQ 40.625 48.1875 47.75 41.5 \nQ 54.890625 34.8125 54.890625 23.390625 \nQ 54.890625 11.625 47.5625 5.09375 \nQ 40.234375 -1.421875 26.90625 -1.421875 \nQ 22.3125 -1.421875 17.546875 -0.640625 \nQ 12.796875 0.140625 7.71875 1.703125 \nL 7.71875 11.625 \nQ 12.109375 9.234375 16.796875 8.0625 \nQ 21.484375 6.890625 26.703125 6.890625 \nQ 35.15625 6.890625 40.078125 11.328125 \nQ 45.015625 15.765625 45.015625 23.390625 \nQ 45.015625 31 40.078125 35.4375 \nQ 35.15625 39.890625 26.703125 39.890625 \nQ 22.75 39.890625 18.8125 39.015625 \nQ 14.890625 38.140625 10.796875 36.28125 \nz\n\" id=\"DejaVuSans-53\"/>\n      </defs>\n      <g transform=\"translate(108.330348 239.238437)scale(0.1 -0.1)\">\n       <use xlink:href=\"#DejaVuSans-53\"/>\n       <use x=\"63.623047\" xlink:href=\"#DejaVuSans-48\"/>\n       <use x=\"127.246094\" xlink:href=\"#DejaVuSans-48\"/>\n       <use x=\"190.869141\" xlink:href=\"#DejaVuSans-48\"/>\n       <use x=\"254.492188\" xlink:href=\"#DejaVuSans-48\"/>\n      </g>\n     </g>\n    </g>\n    <g id=\"xtick_3\">\n     <g id=\"line2d_3\">\n      <g>\n       <use style=\"stroke:#000000;stroke-width:0.8;\" x=\"193.605014\" xlink:href=\"#m2a077942dc\" y=\"224.64\"/>\n      </g>\n     </g>\n     <g id=\"text_3\">\n      <!-- 100000 -->\n      <defs>\n       <path d=\"M 12.40625 8.296875 \nL 28.515625 8.296875 \nL 28.515625 63.921875 \nL 10.984375 60.40625 \nL 10.984375 69.390625 \nL 28.421875 72.90625 \nL 38.28125 72.90625 \nL 38.28125 8.296875 \nL 54.390625 8.296875 \nL 54.390625 0 \nL 12.40625 0 \nz\n\" id=\"DejaVuSans-49\"/>\n      </defs>\n      <g transform=\"translate(174.517514 239.238437)scale(0.1 -0.1)\">\n       <use xlink:href=\"#DejaVuSans-49\"/>\n       <use x=\"63.623047\" xlink:href=\"#DejaVuSans-48\"/>\n       <use x=\"127.246094\" xlink:href=\"#DejaVuSans-48\"/>\n       <use x=\"190.869141\" xlink:href=\"#DejaVuSans-48\"/>\n       <use x=\"254.492188\" xlink:href=\"#DejaVuSans-48\"/>\n       <use x=\"318.115234\" xlink:href=\"#DejaVuSans-48\"/>\n      </g>\n     </g>\n    </g>\n    <g id=\"xtick_4\">\n     <g id=\"line2d_4\">\n      <g>\n       <use style=\"stroke:#000000;stroke-width:0.8;\" x=\"262.97343\" xlink:href=\"#m2a077942dc\" y=\"224.64\"/>\n      </g>\n     </g>\n     <g id=\"text_4\">\n      <!-- 150000 -->\n      <g transform=\"translate(243.88593 239.238437)scale(0.1 -0.1)\">\n       <use xlink:href=\"#DejaVuSans-49\"/>\n       <use x=\"63.623047\" xlink:href=\"#DejaVuSans-53\"/>\n       <use x=\"127.246094\" xlink:href=\"#DejaVuSans-48\"/>\n       <use x=\"190.869141\" xlink:href=\"#DejaVuSans-48\"/>\n       <use x=\"254.492188\" xlink:href=\"#DejaVuSans-48\"/>\n       <use x=\"318.115234\" xlink:href=\"#DejaVuSans-48\"/>\n      </g>\n     </g>\n    </g>\n    <g id=\"xtick_5\">\n     <g id=\"line2d_5\">\n      <g>\n       <use style=\"stroke:#000000;stroke-width:0.8;\" x=\"332.341845\" xlink:href=\"#m2a077942dc\" y=\"224.64\"/>\n      </g>\n     </g>\n     <g id=\"text_5\">\n      <!-- 200000 -->\n      <defs>\n       <path d=\"M 19.1875 8.296875 \nL 53.609375 8.296875 \nL 53.609375 0 \nL 7.328125 0 \nL 7.328125 8.296875 \nQ 12.9375 14.109375 22.625 23.890625 \nQ 32.328125 33.6875 34.8125 36.53125 \nQ 39.546875 41.84375 41.421875 45.53125 \nQ 43.3125 49.21875 43.3125 52.78125 \nQ 43.3125 58.59375 39.234375 62.25 \nQ 35.15625 65.921875 28.609375 65.921875 \nQ 23.96875 65.921875 18.8125 64.3125 \nQ 13.671875 62.703125 7.8125 59.421875 \nL 7.8125 69.390625 \nQ 13.765625 71.78125 18.9375 73 \nQ 24.125 74.21875 28.421875 74.21875 \nQ 39.75 74.21875 46.484375 68.546875 \nQ 53.21875 62.890625 53.21875 53.421875 \nQ 53.21875 48.921875 51.53125 44.890625 \nQ 49.859375 40.875 45.40625 35.40625 \nQ 44.1875 33.984375 37.640625 27.21875 \nQ 31.109375 20.453125 19.1875 8.296875 \nz\n\" id=\"DejaVuSans-50\"/>\n      </defs>\n      <g transform=\"translate(313.254345 239.238437)scale(0.1 -0.1)\">\n       <use xlink:href=\"#DejaVuSans-50\"/>\n       <use x=\"63.623047\" xlink:href=\"#DejaVuSans-48\"/>\n       <use x=\"127.246094\" xlink:href=\"#DejaVuSans-48\"/>\n       <use x=\"190.869141\" xlink:href=\"#DejaVuSans-48\"/>\n       <use x=\"254.492188\" xlink:href=\"#DejaVuSans-48\"/>\n       <use x=\"318.115234\" xlink:href=\"#DejaVuSans-48\"/>\n      </g>\n     </g>\n    </g>\n   </g>\n   <g id=\"matplotlib.axis_2\">\n    <g id=\"ytick_1\">\n     <g id=\"line2d_6\">\n      <defs>\n       <path d=\"M 0 0 \nL -3.5 0 \n\" id=\"m51becaff2c\" style=\"stroke:#000000;stroke-width:0.8;\"/>\n      </defs>\n      <g>\n       <use style=\"stroke:#000000;stroke-width:0.8;\" x=\"39.65\" xlink:href=\"#m51becaff2c\" y=\"214.756364\"/>\n      </g>\n     </g>\n     <g id=\"text_6\">\n      <!-- 0 -->\n      <g transform=\"translate(26.2875 218.555582)scale(0.1 -0.1)\">\n       <use xlink:href=\"#DejaVuSans-48\"/>\n      </g>\n     </g>\n    </g>\n    <g id=\"ytick_2\">\n     <g id=\"line2d_7\">\n      <g>\n       <use style=\"stroke:#000000;stroke-width:0.8;\" x=\"39.65\" xlink:href=\"#m51becaff2c\" y=\"175.761861\"/>\n      </g>\n     </g>\n     <g id=\"text_7\">\n      <!-- 500 -->\n      <g transform=\"translate(13.5625 179.56108)scale(0.1 -0.1)\">\n       <use xlink:href=\"#DejaVuSans-53\"/>\n       <use x=\"63.623047\" xlink:href=\"#DejaVuSans-48\"/>\n       <use x=\"127.246094\" xlink:href=\"#DejaVuSans-48\"/>\n      </g>\n     </g>\n    </g>\n    <g id=\"ytick_3\">\n     <g id=\"line2d_8\">\n      <g>\n       <use style=\"stroke:#000000;stroke-width:0.8;\" x=\"39.65\" xlink:href=\"#m51becaff2c\" y=\"136.767359\"/>\n      </g>\n     </g>\n     <g id=\"text_8\">\n      <!-- 1000 -->\n      <g transform=\"translate(7.2 140.566577)scale(0.1 -0.1)\">\n       <use xlink:href=\"#DejaVuSans-49\"/>\n       <use x=\"63.623047\" xlink:href=\"#DejaVuSans-48\"/>\n       <use x=\"127.246094\" xlink:href=\"#DejaVuSans-48\"/>\n       <use x=\"190.869141\" xlink:href=\"#DejaVuSans-48\"/>\n      </g>\n     </g>\n    </g>\n    <g id=\"ytick_4\">\n     <g id=\"line2d_9\">\n      <g>\n       <use style=\"stroke:#000000;stroke-width:0.8;\" x=\"39.65\" xlink:href=\"#m51becaff2c\" y=\"97.772856\"/>\n      </g>\n     </g>\n     <g id=\"text_9\">\n      <!-- 1500 -->\n      <g transform=\"translate(7.2 101.572075)scale(0.1 -0.1)\">\n       <use xlink:href=\"#DejaVuSans-49\"/>\n       <use x=\"63.623047\" xlink:href=\"#DejaVuSans-53\"/>\n       <use x=\"127.246094\" xlink:href=\"#DejaVuSans-48\"/>\n       <use x=\"190.869141\" xlink:href=\"#DejaVuSans-48\"/>\n      </g>\n     </g>\n    </g>\n    <g id=\"ytick_5\">\n     <g id=\"line2d_10\">\n      <g>\n       <use style=\"stroke:#000000;stroke-width:0.8;\" x=\"39.65\" xlink:href=\"#m51becaff2c\" y=\"58.778354\"/>\n      </g>\n     </g>\n     <g id=\"text_10\">\n      <!-- 2000 -->\n      <g transform=\"translate(7.2 62.577572)scale(0.1 -0.1)\">\n       <use xlink:href=\"#DejaVuSans-50\"/>\n       <use x=\"63.623047\" xlink:href=\"#DejaVuSans-48\"/>\n       <use x=\"127.246094\" xlink:href=\"#DejaVuSans-48\"/>\n       <use x=\"190.869141\" xlink:href=\"#DejaVuSans-48\"/>\n      </g>\n     </g>\n    </g>\n    <g id=\"ytick_6\">\n     <g id=\"line2d_11\">\n      <g>\n       <use style=\"stroke:#000000;stroke-width:0.8;\" x=\"39.65\" xlink:href=\"#m51becaff2c\" y=\"19.783851\"/>\n      </g>\n     </g>\n     <g id=\"text_11\">\n      <!-- 2500 -->\n      <g transform=\"translate(7.2 23.58307)scale(0.1 -0.1)\">\n       <use xlink:href=\"#DejaVuSans-50\"/>\n       <use x=\"63.623047\" xlink:href=\"#DejaVuSans-53\"/>\n       <use x=\"127.246094\" xlink:href=\"#DejaVuSans-48\"/>\n       <use x=\"190.869141\" xlink:href=\"#DejaVuSans-48\"/>\n      </g>\n     </g>\n    </g>\n   </g>\n   <g id=\"line2d_12\">\n    <path clip-path=\"url(#pd013afa220)\" d=\"M 54.868182 214.756364 \nL 54.983333 214.522397 \nL 55.109584 214.444408 \nL 55.223348 214.28843 \nL 55.360698 214.210441 \nL 55.474462 214.054463 \nL 55.624298 213.976474 \nL 55.738062 213.820496 \nL 55.893447 213.742507 \nL 56.007211 213.586529 \nL 56.194506 213.50854 \nL 56.30827 213.352562 \nL 56.470592 213.274573 \nL 56.584356 213.118595 \nL 56.774426 213.040606 \nL 56.886803 212.962617 \nL 56.990855 212.884628 \nL 57.10462 212.72865 \nL 57.30995 212.650661 \nL 57.422327 212.572671 \nL 57.562451 212.494682 \nL 57.676215 212.338704 \nL 57.852411 212.260715 \nL 57.966175 212.104737 \nL 58.197866 212.026748 \nL 58.310243 211.948759 \nL 58.412908 211.87077 \nL 58.526672 211.714792 \nL 58.75975 211.636803 \nL 58.872127 211.558814 \nL 59.030287 211.480825 \nL 59.144051 211.324847 \nL 59.2814 211.246858 \nL 59.395165 211.09088 \nL 59.615756 211.012891 \nL 59.72952 210.856913 \nL 59.926527 210.778924 \nL 60.038904 210.700935 \nL 60.181802 210.622946 \nL 60.294179 210.544957 \nL 60.449565 210.466968 \nL 60.563329 210.31099 \nL 60.785308 210.233001 \nL 60.897685 210.155012 \nL 61.064169 210.077023 \nL 61.176546 209.999034 \nL 61.34303 209.921045 \nL 61.455407 209.843056 \nL 61.678773 209.765067 \nL 61.79115 209.687078 \nL 61.877167 209.609089 \nL 61.990931 209.453111 \nL 62.118569 209.375122 \nL 62.232333 209.219144 \nL 62.408529 209.141155 \nL 62.522293 208.985177 \nL 62.724849 208.907188 \nL 62.837225 208.829199 \nL 62.984286 208.75121 \nL 63.096663 208.673221 \nL 63.24095 208.595232 \nL 63.354714 208.439254 \nL 63.561432 208.361265 \nL 63.673809 208.283276 \nL 63.806996 208.205287 \nL 63.92076 208.049309 \nL 64.188522 207.97132 \nL 64.300899 207.893331 \nL 64.490968 207.815342 \nL 64.603345 207.737353 \nL 64.726821 207.659364 \nL 64.839198 207.581375 \nL 64.994583 207.503386 \nL 65.10696 207.425397 \nL 65.272057 207.347408 \nL 65.385821 207.19143 \nL 65.632773 207.113441 \nL 65.746537 206.957463 \nL 65.99765 206.879474 \nL 66.111415 206.723496 \nL 66.325069 206.645507 \nL 66.437446 206.567518 \nL 66.591444 206.489529 \nL 66.703821 206.41154 \nL 66.852269 206.333551 \nL 66.964646 206.255562 \nL 67.168589 206.177573 \nL 67.280966 206.099584 \nL 67.486297 206.021595 \nL 67.598674 205.943606 \nL 67.762383 205.865617 \nL 67.87476 205.787628 \nL 68.102288 205.709639 \nL 68.214665 205.63165 \nL 68.492139 205.553661 \nL 68.604516 205.475672 \nL 68.775162 205.397683 \nL 68.888926 205.241705 \nL 68.974943 205.163716 \nL 69.088707 205.007738 \nL 69.209408 204.929749 \nL 69.323172 204.773771 \nL 69.449423 204.695782 \nL 69.563187 204.539804 \nL 69.713023 204.461815 \nL 69.826787 204.305837 \nL 70.00437 204.227848 \nL 70.116747 204.149859 \nL 70.234673 204.07187 \nL 70.348438 203.915892 \nL 70.580128 203.837903 \nL 70.693892 203.681925 \nL 70.956105 203.603936 \nL 71.068482 203.525947 \nL 71.246065 203.447958 \nL 71.358442 203.369969 \nL 71.524926 203.29198 \nL 71.63869 203.136002 \nL 71.825985 203.058013 \nL 71.938362 202.980024 \nL 72.082648 202.902035 \nL 72.195025 202.824046 \nL 72.303239 202.746057 \nL 72.417004 202.590079 \nL 72.626496 202.51209 \nL 72.738873 202.434101 \nL 72.928943 202.356112 \nL 73.041319 202.278123 \nL 73.177282 202.200134 \nL 73.289658 202.122145 \nL 73.438107 202.044156 \nL 73.550484 201.966167 \nL 73.735004 201.888178 \nL 73.84738 201.810189 \nL 74.062422 201.7322 \nL 74.174799 201.654211 \nL 74.366256 201.576222 \nL 74.478633 201.498233 \nL 74.667315 201.420244 \nL 74.779692 201.342255 \nL 74.985022 201.264266 \nL 75.097399 201.186277 \nL 75.32909 201.108288 \nL 75.441467 201.030299 \nL 75.681481 200.95231 \nL 75.795246 200.796332 \nL 75.870163 200.703759 \nL 75.983928 200.562365 \nL 76.110178 200.484376 \nL 76.223942 200.328398 \nL 76.393201 200.250409 \nL 76.506965 200.094431 \nL 76.702584 200.016442 \nL 76.816349 199.860464 \nL 77.043877 199.782475 \nL 77.157641 199.626497 \nL 77.301928 199.548508 \nL 77.415692 199.39253 \nL 77.600212 199.314541 \nL 77.713976 199.158563 \nL 77.948441 199.080574 \nL 78.060818 199.002585 \nL 78.216203 198.924596 \nL 78.32858 198.846607 \nL 78.517262 198.768618 \nL 78.629639 198.690629 \nL 78.772538 198.61264 \nL 78.884915 198.534651 \nL 79.022264 198.456662 \nL 79.134641 198.378673 \nL 79.27754 198.300684 \nL 79.389917 198.222695 \nL 79.552239 198.144706 \nL 79.664616 198.066717 \nL 79.836649 197.969377 \nL 79.840812 197.988728 \nL 79.95735 197.83275 \nL 80.225113 197.754761 \nL 80.337489 197.676772 \nL 80.449866 197.566941 \nL 80.562243 197.520794 \nL 80.741214 197.442805 \nL 80.85359 197.364816 \nL 81.018687 197.286827 \nL 81.131064 197.208838 \nL 81.305872 197.130849 \nL 81.418249 197.05286 \nL 81.637454 196.974871 \nL 81.74983 196.896881 \nL 81.93435 196.818892 \nL 82.046727 196.740903 \nL 82.252058 196.639463 \nL 82.364435 196.584925 \nL 82.622485 196.506936 \nL 82.736249 196.350958 \nL 82.872211 196.272969 \nL 82.985976 196.116991 \nL 83.113613 196.039002 \nL 83.227378 195.883024 \nL 83.371664 195.805035 \nL 83.485428 195.649057 \nL 83.651912 195.571068 \nL 83.765677 195.41509 \nL 83.994592 195.337101 \nL 84.108356 195.181123 \nL 84.340047 195.079683 \nL 84.452424 195.025145 \nL 84.556476 194.947156 \nL 84.670241 194.791178 \nL 84.870022 194.713189 \nL 84.983786 194.557211 \nL 85.172468 194.448027 \nL 85.28762 194.401233 \nL 85.473527 194.323244 \nL 85.585904 194.245255 \nL 85.726028 194.167266 \nL 85.838405 194.089277 \nL 85.949394 194.011288 \nL 86.061771 193.933299 \nL 86.271264 193.85531 \nL 86.385028 193.777321 \nL 86.572323 193.699332 \nL 86.684699 193.621343 \nL 86.842859 193.543354 \nL 86.956624 193.387376 \nL 87.231323 193.309387 \nL 87.343699 193.231398 \nL 87.507409 193.153409 \nL 87.619786 193.07542 \nL 87.78627 192.997431 \nL 87.898647 192.919442 \nL 88.088716 192.841453 \nL 88.201093 192.763464 \nL 88.374514 192.685475 \nL 88.486891 192.607486 \nL 88.743554 192.529497 \nL 88.855931 192.451508 \nL 89.040451 192.369415 \nL 89.154215 192.29553 \nL 89.372032 192.217541 \nL 89.484409 192.139552 \nL 89.584299 192.061563 \nL 89.698063 191.905585 \nL 89.809053 191.827596 \nL 89.922817 191.671618 \nL 90.006059 191.593629 \nL 90.118436 191.51564 \nL 90.193354 191.437651 \nL 90.307118 191.281673 \nL 90.44863 191.177688 \nL 90.566556 191.047706 \nL 90.73859 190.969717 \nL 90.852354 190.813739 \nL 91.013289 190.714275 \nL 91.12844 190.579772 \nL 91.325446 190.501783 \nL 91.439211 190.345805 \nL 91.600145 190.267816 \nL 91.71391 190.111838 \nL 91.928952 190.033849 \nL 92.041329 189.95586 \nL 92.137057 189.877871 \nL 92.249434 189.799882 \nL 92.364585 189.721893 \nL 92.483899 189.62695 \nL 92.605987 189.487926 \nL 92.82103 189.409937 \nL 92.934794 189.253959 \nL 93.133187 189.17597 \nL 93.246952 189.019992 \nL 93.496678 188.910436 \nL 93.610442 188.786025 \nL 93.853232 188.708036 \nL 93.966996 188.552058 \nL 94.231983 188.474069 \nL 94.34436 188.39608 \nL 94.456737 188.318091 \nL 94.569114 188.240102 \nL 94.757796 188.130546 \nL 94.87156 188.084124 \nL 94.992261 188.006135 \nL 95.106025 187.850157 \nL 95.352977 187.772168 \nL 95.465354 187.694179 \nL 95.624901 187.61619 \nL 95.738665 187.538201 \nL 95.863528 187.460212 \nL 95.975905 187.382223 \nL 96.218695 187.292022 \nL 96.332459 187.226245 \nL 96.530852 187.121517 \nL 96.644617 186.992278 \nL 96.733408 186.914289 \nL 96.847172 186.758311 \nL 96.997008 186.680322 \nL 97.110772 186.524344 \nL 97.300842 186.446355 \nL 97.414606 186.290377 \nL 97.563054 186.212388 \nL 97.676819 186.05641 \nL 97.821105 185.978421 \nL 97.933482 185.900432 \nL 98.077768 185.791247 \nL 98.190145 185.744454 \nL 98.287261 185.666465 \nL 98.401025 185.588476 \nL 98.50924 185.510487 \nL 98.623004 185.354509 \nL 98.733993 185.252618 \nL 98.860244 185.120542 \nL 99.093322 185.031297 \nL 99.205699 184.964564 \nL 99.293103 184.886575 \nL 99.406867 184.730597 \nL 99.548379 184.652608 \nL 99.664917 184.49663 \nL 99.79533 184.418641 \nL 99.903545 184.28216 \nL 99.907707 184.310068 \nL 100.022858 184.262663 \nL 100.201829 184.176967 \nL 100.315593 184.106685 \nL 100.408547 184.028696 \nL 100.522311 183.872718 \nL 100.71793 183.763903 \nL 100.840018 183.638751 \nL 101.00789 183.53529 \nL 101.121654 183.482773 \nL 101.225707 183.404784 \nL 101.339471 183.248806 \nL 101.590585 183.170817 \nL 101.704349 183.092828 \nL 101.891644 182.992556 \nL 102.019281 182.858861 \nL 102.170505 182.780872 \nL 102.282881 182.702883 \nL 102.402195 182.611402 \nL 102.515959 182.546905 \nL 102.654696 182.443093 \nL 102.76846 182.390927 \nL 102.882225 182.286941 \nL 103.000151 182.15696 \nL 103.266526 182.058221 \nL 103.383065 182.000982 \nL 103.534288 181.922993 \nL 103.648052 181.767015 \nL 103.736843 181.689026 \nL 103.853382 181.533048 \nL 104.004606 181.455059 \nL 104.11837 181.29908 \nL 104.305664 181.221091 \nL 104.419429 181.065113 \nL 104.529031 180.987124 \nL 104.642795 180.831146 \nL 104.820378 180.753157 \nL 104.936917 180.597179 \nL 105.151959 180.51919 \nL 105.265723 180.370687 \nL 105.393361 180.285223 \nL 105.555683 180.207234 \nL 105.66806 180.129245 \nL 105.763789 180.051256 \nL 105.880328 179.895278 \nL 106.014902 179.803754 \nL 106.019064 179.817289 \nL 106.130054 179.7393 \nL 106.234106 179.631168 \nL 106.349258 179.583322 \nL 106.497706 179.505333 \nL 106.611471 179.349355 \nL 106.757144 179.24537 \nL 106.875071 179.115388 \nL 107.056816 179.037399 \nL 107.17058 178.881421 \nL 107.313479 178.783984 \nL 107.428631 178.725443 \nL 107.500774 178.626116 \nL 107.615925 178.569465 \nL 107.733852 178.491476 \nL 107.846228 178.413487 \nL 108.048784 178.335498 \nL 108.161161 178.257509 \nL 108.441409 178.17952 \nL 108.553786 178.101531 \nL 108.684199 178.005531 \nL 108.79935 177.945553 \nL 108.945024 177.838318 \nL 109.074049 177.789575 \nL 109.261344 177.711586 \nL 109.373721 177.633597 \nL 109.538818 177.524936 \nL 109.694203 177.39963 \nL 109.889822 177.289146 \nL 110.006361 177.243652 \nL 110.14371 177.165663 \nL 110.256087 177.087674 \nL 110.417022 177.009685 \nL 110.532173 176.775718 \nL 110.730567 176.697729 \nL 110.845719 176.541751 \nL 110.933123 176.442159 \nL 111.052437 176.307784 \nL 111.134291 176.210445 \nL 111.248056 176.073817 \nL 111.46171 175.995828 \nL 111.575474 175.917839 \nL 111.726698 175.83985 \nL 111.839074 175.761861 \nL 111.965325 175.605883 \nL 112.167881 175.527894 \nL 112.281645 175.371916 \nL 112.43703 175.293927 \nL 112.550794 175.213667 \nL 112.670108 175.137949 \nL 112.819944 175.033964 \nL 112.953131 174.903982 \nL 113.115453 174.805069 \nL 113.241704 174.670015 \nL 113.445647 174.58367 \nL 113.558024 174.514037 \nL 113.677337 174.404116 \nL 113.792489 174.358059 \nL 113.900704 174.257787 \nL 114.014468 174.202081 \nL 114.112971 174.096055 \nL 114.22951 173.968114 \nL 114.450102 173.862723 \nL 114.562478 173.812136 \nL 114.644333 173.721531 \nL 114.75671 173.656158 \nL 114.878798 173.578169 \nL 114.991175 173.50018 \nL 115.181245 173.422191 \nL 115.293622 173.344202 \nL 115.498952 173.246716 \nL 115.619653 173.110235 \nL 115.747291 173.032246 \nL 115.859668 172.954257 \nL 116.023377 172.848272 \nL 116.137141 172.798279 \nL 116.334148 172.72029 \nL 116.446525 172.642301 \nL 116.703188 172.564312 \nL 116.816952 172.408334 \nL 117.12356 172.330345 \nL 117.235937 172.252356 \nL 117.335828 172.174367 \nL 117.449592 172.096378 \nL 117.538383 171.987287 \nL 117.685445 171.862411 \nL 117.86164 171.762075 \nL 117.975405 171.706433 \nL 118.05171 171.607174 \nL 118.168249 171.550455 \nL 118.326409 171.442486 \nL 118.440173 171.394477 \nL 118.551162 171.296991 \nL 118.666314 171.238499 \nL 118.791177 171.16051 \nL 118.907716 171.004532 \nL 119.089461 170.926543 \nL 119.201838 170.848554 \nL 119.479312 170.770565 \nL 119.591689 170.692576 \nL 119.766497 170.59509 \nL 119.881649 170.536598 \nL 119.991251 170.432612 \nL 120.10779 170.38062 \nL 120.295084 170.277456 \nL 120.415785 170.224642 \nL 120.569783 170.122449 \nL 120.68771 169.990675 \nL 120.868067 169.884057 \nL 120.981832 169.834697 \nL 121.28844 169.744811 \nL 121.400817 169.675135 \nL 121.527067 169.522741 \nL 121.733785 169.428414 \nL 121.847549 169.366763 \nL 122.001547 169.262777 \nL 122.122248 169.210785 \nL 122.340065 169.101704 \nL 122.466316 169.054807 \nL 122.593954 168.946516 \nL 122.710493 168.898829 \nL 122.893625 168.802233 \nL 123.008777 168.742851 \nL 123.183585 168.664862 \nL 123.297349 168.586873 \nL 123.617831 168.482887 \nL 123.731596 168.430895 \nL 124.05069 168.324528 \nL 124.168617 168.274917 \nL 124.275444 168.176019 \nL 124.394758 168.04095 \nL 124.461351 167.938389 \nL 124.57789 167.728994 \nL 124.699979 167.651005 \nL 124.813743 167.495027 \nL 124.962191 167.417038 \nL 125.07873 167.26106 \nL 125.170297 167.183071 \nL 125.282673 167.105082 \nL 125.335393 167.001096 \nL 125.457482 166.793126 \nL 125.657263 166.686673 \nL 125.773802 166.559159 \nL 125.894503 166.48117 \nL 126.008267 166.325192 \nL 126.105383 166.221206 \nL 126.230246 166.091225 \nL 126.353722 166.013236 \nL 126.468873 165.779269 \nL 126.615934 165.675283 \nL 126.733861 165.545301 \nL 126.804616 165.448337 \nL 126.925318 165.311334 \nL 127.06128 165.214952 \nL 127.181981 165.077367 \nL 127.294357 164.977096 \nL 127.421995 164.8434 \nL 127.652299 164.765411 \nL 127.766063 164.609433 \nL 127.956132 164.500249 \nL 128.078221 164.375466 \nL 128.171174 164.297477 \nL 128.284938 164.141499 \nL 128.419513 164.06351 \nL 128.533277 163.907532 \nL 128.721959 163.797272 \nL 128.910642 163.673565 \nL 129.088225 163.595576 \nL 129.201989 163.439598 \nL 129.328239 163.335526 \nL 129.446166 163.205631 \nL 129.632073 163.127642 \nL 129.74445 163.049653 \nL 129.852665 162.943831 \nL 129.998338 162.815686 \nL 130.153724 162.709338 \nL 130.277199 162.581719 \nL 130.471431 162.476964 \nL 130.585195 162.425741 \nL 130.669825 162.347752 \nL 130.786364 162.191774 \nL 130.969496 162.081357 \nL 131.084648 162.035796 \nL 131.255294 161.957807 \nL 131.367671 161.879818 \nL 131.438427 161.801829 \nL 131.552191 161.645851 \nL 131.650694 161.545387 \nL 131.778332 161.411884 \nL 131.915681 161.333895 \nL 132.029446 161.177917 \nL 132.096039 161.078144 \nL 132.215353 160.94395 \nL 132.376288 160.865961 \nL 132.488664 160.787972 \nL 132.675959 160.682174 \nL 132.807759 160.554005 \nL 132.904875 160.476016 \nL 133.021414 160.320038 \nL 133.142115 160.212486 \nL 133.301662 160.008082 \nL 133.48202 159.898898 \nL 133.604109 159.774115 \nL 133.791403 159.696126 \nL 133.90378 159.618137 \nL 134.01477 159.511084 \nL 134.132696 159.462159 \nL 134.218713 159.358174 \nL 134.336639 159.228192 \nL 134.440692 159.120554 \nL 134.565555 158.994225 \nL 134.693193 158.916236 \nL 134.806957 158.760258 \nL 134.969279 158.656741 \nL 135.085818 158.60428 \nL 135.256464 158.526291 \nL 135.368841 158.448302 \nL 135.507578 158.337476 \nL 135.665738 158.214335 \nL 135.879393 158.136346 \nL 135.993157 157.980368 \nL 136.097209 157.876383 \nL 136.210974 157.82439 \nL 136.496772 157.724202 \nL 136.614698 157.668412 \nL 136.849163 157.558976 \nL 136.967089 157.512434 \nL 137.315319 157.403249 \nL 137.433245 157.356456 \nL 137.626089 157.25134 \nL 137.742628 157.200478 \nL 137.974319 157.092911 \nL 138.092245 157.0445 \nL 138.219883 156.966511 \nL 138.336422 156.810533 \nL 138.482096 156.732544 \nL 138.59586 156.576566 \nL 138.698525 156.498577 \nL 138.812289 156.342599 \nL 139.01762 156.241082 \nL 139.135546 156.186621 \nL 139.263184 156.084701 \nL 139.404696 155.874665 \nL 139.589216 155.765687 \nL 139.725178 155.584991 \nL 139.863914 155.48472 \nL 140.006813 155.377082 \nL 140.121965 155.328742 \nL 140.238504 155.219557 \nL 140.360592 155.094775 \nL 140.629742 154.987076 \nL 140.794839 154.860808 \nL 140.955773 154.782819 \nL 141.069538 154.626841 \nL 141.263769 154.522855 \nL 141.388632 154.392874 \nL 141.611999 154.288801 \nL 141.729925 154.158907 \nL 141.940805 154.062109 \nL 142.053182 153.985598 \nL 142.187756 153.846951 \nL 142.298746 153.737078 \nL 142.43887 153.690973 \nL 142.547085 153.581557 \nL 142.798198 153.379017 \nL 142.93971 153.295251 \nL 143.056249 153.14505 \nL 143.261579 153.035865 \nL 143.376731 152.989072 \nL 143.626457 152.895485 \nL 143.740222 152.833094 \nL 143.910868 152.734254 \nL 144.031569 152.599127 \nL 144.177243 152.492308 \nL 144.296556 152.443149 \nL 144.445005 152.339163 \nL 144.578192 152.209182 \nL 144.764099 152.103339 \nL 144.887575 151.975215 \nL 145.020762 151.868493 \nL 145.15395 151.741248 \nL 145.362055 151.6316 \nL 145.484144 151.507281 \nL 145.618718 151.403121 \nL 145.732482 151.351303 \nL 145.846247 151.247317 \nL 145.97111 151.117336 \nL 146.079325 151.009118 \nL 146.201413 150.883369 \nL 146.41923 150.773538 \nL 146.581552 150.649402 \nL 146.883998 150.539881 \nL 147.09904 150.415435 \nL 147.165634 150.337446 \nL 147.282173 150.181468 \nL 147.529124 150.077482 \nL 147.651213 149.869511 \nL 148.016091 149.791522 \nL 148.128468 149.713533 \nL 148.160377 149.609067 \nL 148.289402 149.479566 \nL 148.576587 149.375745 \nL 148.691739 149.323588 \nL 148.87071 149.212516 \nL 148.999735 149.089621 \nL 149.21339 148.992135 \nL 149.33964 148.783189 \nL 149.454792 148.777665 \nL 149.647636 148.680179 \nL 149.651798 148.699676 \nL 149.762787 148.621687 \nL 149.92511 148.510861 \nL 150.083269 148.38772 \nL 150.260853 148.282808 \nL 150.392653 148.153753 \nL 150.602145 148.046751 \nL 150.718684 147.997775 \nL 150.961474 147.891372 \nL 151.084949 147.841797 \nL 151.234785 147.763808 \nL 151.351324 147.60783 \nL 151.813318 147.500595 \nL 151.931244 147.451852 \nL 152.088017 147.340955 \nL 152.204556 147.139896 \nL 152.346067 147.033235 \nL 152.490354 146.905929 \nL 152.659612 146.795458 \nL 152.799737 146.749951 \nL 153.005067 146.638944 \nL 153.143804 146.515984 \nL 153.29364 146.41047 \nL 153.424052 146.282017 \nL 153.603023 146.173756 \nL 153.766732 146.04805 \nL 154.07889 145.970061 \nL 154.191267 145.892072 \nL 154.280059 145.781236 \nL 154.409084 145.736094 \nL 154.540884 145.628062 \nL 154.678233 145.580116 \nL 154.830844 145.47228 \nL 154.973743 145.346149 \nL 155.109705 145.236436 \nL 155.226244 145.190171 \nL 155.499555 145.080572 \nL 155.757606 144.878215 \nL 155.95045 144.769608 \nL 156.085025 144.722237 \nL 156.230699 144.644248 \nL 156.343075 144.566259 \nL 156.427705 144.461447 \nL 156.567829 144.332292 \nL 156.766223 144.227121 \nL 156.884149 144.098325 \nL 156.970166 143.990638 \nL 157.103353 143.942347 \nL 157.287873 143.833779 \nL 157.427997 143.70838 \nL 157.586157 143.597732 \nL 157.724894 143.474413 \nL 157.941324 143.396424 \nL 158.0537 143.318435 \nL 158.16469 143.21501 \nL 158.282616 143.162457 \nL 158.553153 143.053272 \nL 158.675241 142.92849 \nL 158.995724 142.822465 \nL 159.155271 142.616534 \nL 159.231576 142.506274 \nL 159.37725 142.382567 \nL 159.466041 142.304578 \nL 159.579806 142.1486 \nL 159.686633 142.044701 \nL 159.807334 141.855084 \nL 159.954395 141.680666 \nL 160.126429 141.571227 \nL 160.284589 141.446699 \nL 160.365056 141.337461 \nL 160.488532 141.212732 \nL 160.58981 141.106022 \nL 160.753519 140.900776 \nL 160.849248 140.793611 \nL 161.014344 140.58882 \nL 161.355637 140.483445 \nL 161.498536 140.354853 \nL 161.59149 140.276864 \nL 161.705254 140.120886 \nL 161.868963 140.029185 \nL 161.984115 139.964908 \nL 162.047934 139.863428 \nL 162.161698 139.80893 \nL 162.393389 139.730941 \nL 162.505765 139.652952 \nL 162.630629 139.574963 \nL 162.744393 139.496974 \nL 163.191125 139.386752 \nL 163.364546 139.263007 \nL 163.417266 139.153231 \nL 163.535193 139.107029 \nL 163.844576 138.998173 \nL 164.013835 138.873062 \nL 164.178932 138.763076 \nL 164.384262 138.561106 \nL 164.600692 138.450402 \nL 164.718618 138.405128 \nL 164.940597 138.298562 \nL 165.073784 138.171161 \nL 165.330447 138.061555 \nL 165.595435 137.859205 \nL 165.732784 137.751104 \nL 165.904818 137.625238 \nL 166.096275 137.51512 \nL 166.624862 136.923337 \nL 166.798283 136.814437 \nL 166.916209 136.68937 \nL 167.117378 136.580512 \nL 167.294961 136.455403 \nL 167.440635 136.348671 \nL 167.571047 136.221436 \nL 167.756954 136.143447 \nL 167.873493 135.987469 \nL 168.019167 135.876409 \nL 168.157904 135.753502 \nL 168.321613 135.675513 \nL 168.435378 135.563066 \nL 168.561628 135.441546 \nL 168.689266 135.332903 \nL 168.904308 135.12959 \nL 169.106864 135.051601 \nL 169.220628 134.973612 \nL 169.327455 134.873741 \nL 169.448156 134.739645 \nL 169.740891 134.630679 \nL 169.876853 134.583667 \nL 169.948996 134.505678 \nL 170.061373 134.427689 \nL 170.30555 134.349699 \nL 170.419314 134.193721 \nL 170.576087 134.084358 \nL 170.773093 133.881765 \nL 171.061666 133.771015 \nL 171.219826 133.647798 \nL 171.554182 133.569809 \nL 171.672108 133.335842 \nL 171.880213 133.227613 \nL 172.055022 133.101875 \nL 172.339432 132.991391 \nL 172.633554 132.867908 \nL 172.83056 132.758127 \nL 172.987333 132.633941 \nL 173.087224 132.532319 \nL 173.20515 132.399974 \nL 173.406318 132.313013 \nL 173.518695 132.243996 \nL 173.578352 132.146219 \nL 173.692116 132.010029 \nL 173.829466 131.91222 \nL 173.946005 131.854051 \nL 174.133299 131.748793 \nL 174.245676 131.698073 \nL 174.315045 131.591039 \nL 174.451007 131.464106 \nL 174.706282 131.353001 \nL 174.826983 131.230139 \nL 175.039251 131.122904 \nL 175.168276 131.074161 \nL 175.22932 130.96587 \nL 175.36112 130.918183 \nL 175.544253 130.814198 \nL 175.659404 130.734263 \nL 177.400552 129.59237 \nL 177.512929 129.514381 \nL 177.876419 129.407146 \nL 178.005444 129.280414 \nL 178.144181 129.171009 \nL 178.275981 129.124436 \nL 178.510446 129.014452 \nL 178.731038 128.890469 \nL 179.07233 128.81248 \nL 179.184707 128.685406 \nL 180.302926 128.110579 \nL 180.44305 128.03259 \nL 180.559589 127.720215 \nL 181.006322 127.564656 \nL 181.204716 127.453601 \nL 181.505775 127.2527 \nL 181.71388 127.148715 \nL 181.837356 127.02937 \nL 182.063497 126.940744 \nL 182.178648 126.833181 \nL 182.310448 126.718041 \nL 182.447798 126.706777 \nL 182.608732 126.602792 \nL 182.726659 126.47281 \nL 182.876494 126.394821 \nL 182.991646 126.238843 \nL 183.260795 126.128949 \nL 183.398145 126.082865 \nL 183.589602 125.974271 \nL 183.756086 125.848898 \nL 184.091829 125.739375 \nL 184.306871 125.512127 \nL 184.699496 125.224986 \nL 184.947835 125.1275 \nL 185.076861 124.877865 \nL 185.1934 124.835041 \nL 185.364046 124.724316 \nL 186.072991 124.367107 \nL 186.34769 124.260963 \nL 186.469778 124.211129 \nL 186.600191 124.10343 \nL 186.765288 123.977162 \nL 187.314686 123.866693 \nL 187.470071 123.821184 \nL 187.714248 123.710975 \nL 188.040279 123.509228 \nL 188.242835 123.4016 \nL 188.37186 123.35325 \nL 188.448166 123.245313 \nL 188.577191 123.197272 \nL 188.964267 123.088765 \nL 189.086355 123.041294 \nL 189.218155 122.931048 \nL 189.395738 122.807327 \nL 189.639915 122.704288 \nL 189.773102 122.57336 \nL 190.161565 122.463484 \nL 190.436264 122.339393 \nL 190.674892 122.229587 \nL 190.831664 122.105426 \nL 191.129949 121.997267 \nL 191.257586 121.949448 \nL 191.496214 121.840213 \nL 191.636338 121.715481 \nL 191.924911 121.605673 \nL 192.09417 121.559503 \nL 192.103881 121.458908 \nL 192.221807 121.403525 \nL 192.553388 121.293387 \nL 192.682414 121.247547 \nL 193.240136 121.137062 \nL 193.466277 121.01358 \nL 193.846416 120.903973 \nL 194.368066 120.311679 \nL 194.498479 120.207693 \nL 194.61918 120.155701 \nL 194.898041 120.048539 \nL 195.018742 119.999723 \nL 195.082561 119.921734 \nL 195.196325 119.765756 \nL 195.257369 119.687767 \nL 195.373908 119.531789 \nL 195.644445 119.432491 \nL 195.763759 119.297822 \nL 195.833127 119.219833 \nL 195.945504 119.108201 \nL 196.277085 118.907877 \nL 196.393624 118.829888 \nL 196.506001 118.751899 \nL 196.597567 118.643244 \nL 196.739079 118.439942 \nL 197.162226 118.329824 \nL 197.389754 118.127986 \nL 197.617283 118.017467 \nL 197.815676 117.972008 \nL 197.932215 117.865943 \nL 198.073727 117.738041 \nL 198.294319 117.626992 \nL 198.523234 117.426085 \nL 198.668908 117.315601 \nL 198.807645 117.192118 \nL 199.309872 117.088972 \nL 199.444447 116.880162 \nL 199.554049 116.772496 \nL 199.723308 116.646195 \nL 199.802388 116.536824 \nL 199.943899 116.490217 \nL 200.006331 116.383824 \nL 200.154779 116.202514 \nL 200.376758 115.944294 \nL 200.62371 115.834947 \nL 201.023272 115.47636 \nL 201.260512 115.365845 \nL 201.671173 115.042087 \nL 201.931998 114.774459 \nL 202.036051 114.665312 \nL 202.159527 114.618481 \nL 202.326011 114.511781 \nL 202.450874 114.384514 \nL 202.88512 114.306525 \nL 203.000272 114.072558 \nL 203.079352 113.968573 \nL 203.200053 113.838591 \nL 203.430356 113.728016 \nL 203.782748 113.28244 \nL 205.28943 112.044844 \nL 205.594651 111.935681 \nL 205.783333 111.810877 \nL 205.901259 111.704259 \nL 206.041383 111.475705 \nL 206.347992 111.264954 \nL 206.510314 111.172901 \nL 206.629627 110.958456 \nL 206.951497 110.719031 \nL 207.201223 110.609846 \nL 207.360771 110.563053 \nL 207.516156 110.453489 \nL 207.65073 110.329086 \nL 207.851899 110.219227 \nL 208.094688 110.01713 \nL 208.252848 109.906587 \nL 208.474827 109.549196 \nL 208.648248 109.439732 \nL 208.929884 109.081262 \nL 209.039486 109.003273 \nL 209.156025 108.691317 \nL 209.233718 108.580868 \nL 209.361356 108.535339 \nL 209.520903 108.437853 \nL 209.636055 108.379361 \nL 209.984284 108.268585 \nL 210.127183 108.223383 \nL 210.414368 108.116178 \nL 210.585014 107.919366 \nL 210.960991 107.755449 \nL 211.166322 107.645257 \nL 211.31477 107.521482 \nL 211.370265 107.410407 \nL 211.615829 107.209526 \nL 211.744854 107.09849 \nL 211.977932 106.975559 \nL 212.102795 106.865681 \nL 212.383044 106.741592 \nL 212.455187 106.632092 \nL 212.577275 106.585614 \nL 213.205753 106.479617 \nL 213.341715 106.195669 \nL 213.673296 106.085101 \nL 213.967418 105.961702 \nL 214.183848 105.851913 \nL 214.482132 105.649746 \nL 214.586185 105.538761 \nL 214.837298 105.259801 \nL 215.030143 105.148867 \nL 215.507397 104.617891 \nL 215.689143 104.323933 \nL 215.904185 104.214011 \nL 216.094254 104.011977 \nL 216.332881 103.906814 \nL 216.453582 103.700021 \nL 216.550698 103.591742 \nL 216.721345 103.466054 \nL 216.842046 103.358781 \nL 216.983557 103.232087 \nL 217.169465 103.122081 \nL 217.550991 102.842141 \nL 217.607873 102.731785 \nL 217.813203 102.530185 \nL 217.90477 102.423837 \nL 218.042119 102.296218 \nL 218.207216 102.185495 \nL 218.888414 101.828284 \nL 218.934197 101.717249 \nL 219.072934 101.594317 \nL 219.310174 101.516328 \nL 219.426713 101.282361 \nL 219.672277 101.175068 \nL 219.806852 101.126383 \nL 219.920616 101.015899 \nL 220.225837 100.744648 \nL 220.422843 100.736438 \nL 220.870963 100.625669 \nL 221.153986 100.502471 \nL 221.370416 100.391987 \nL 223.079654 98.942691 \nL 223.215616 98.833507 \nL 223.957858 97.850845 \nL 224.121567 97.741863 \nL 224.324123 97.616878 \nL 224.683451 97.506093 \nL 224.80554 97.4609 \nL 224.969249 97.350614 \nL 225.213426 97.148944 \nL 225.503386 97.038842 \nL 225.632411 96.992966 \nL 225.82803 96.882048 \nL 226.130476 96.68101 \nL 226.356618 96.570908 \nL 226.560561 96.447043 \nL 226.595245 96.336903 \nL 226.795026 96.057098 \nL 227.121057 95.951436 \nL 227.243146 95.823131 \nL 227.331937 95.716177 \nL 227.4679 95.589164 \nL 227.788382 95.48035 \nL 228.128287 95.043241 \nL 228.323906 94.936892 \nL 228.445994 94.887263 \nL 228.512588 94.777818 \nL 228.702657 94.528556 \nL 228.9066 94.419329 \nL 229.229857 94.308254 \nL 229.636356 94.107373 \nL 229.88192 93.997388 \nL 230.102512 93.873406 \nL 230.296744 93.763975 \nL 230.472939 93.717428 \nL 230.800358 93.611188 \nL 230.934933 93.446114 \nL 231.165236 93.405472 \nL 231.348369 93.295495 \nL 231.470457 93.249494 \nL 231.682724 93.138774 \nL 232.39167 92.78156 \nL 232.706602 92.675585 \nL 232.823141 92.625582 \nL 232.999337 92.517014 \nL 233.149173 92.469604 \nL 233.618103 92.359278 \nL 233.844244 92.313626 \nL 234.092583 92.203839 \nL 234.388093 92.020797 \nL 234.673891 92.00167 \nL 234.714124 91.891243 \nL 234.866735 91.767703 \nL 235.337053 91.663761 \nL 235.461916 91.533736 \nL 235.690832 91.424072 \nL 235.915585 91.065802 \nL 236.206933 90.95539 \nL 236.344282 90.909824 \nL 236.473307 90.799339 \nL 236.716097 90.675857 \nL 236.789627 90.580537 \nL 236.911716 90.446794 \nL 238.004962 89.895967 \nL 238.133987 89.793497 \nL 238.267175 89.584011 \nL 238.644539 89.473861 \nL 239.291052 89.038088 \nL 239.877909 88.928155 \nL 240.098501 88.726132 \nL 240.244174 88.615895 \nL 240.524423 88.414176 \nL 241.126541 88.303363 \nL 241.294412 88.258198 \nL 241.940926 88.159146 \nL 242.057465 88.024231 \nL 242.469513 87.914481 \nL 242.656808 87.868253 \nL 242.981452 87.774128 \nL 243.093829 87.712275 \nL 243.238115 87.601646 \nL 243.492004 87.556297 \nL 243.677911 87.44595 \nL 243.970646 87.400318 \nL 244.035852 87.291166 \nL 244.195399 87.166351 \nL 244.227309 87.087666 \nL 244.34246 86.86672 \nL 244.478422 86.849104 \nL 244.79613 86.698417 \nL 244.837751 86.588974 \nL 244.969551 86.46445 \nL 245.271997 86.358674 \nL 245.414896 86.152494 \nL 245.444031 86.042392 \nL 245.6341 85.840538 \nL 245.728441 85.732593 \nL 245.840818 85.664052 \nL 246.280614 85.216626 \nL 246.402702 85.084469 \nL 247.376635 84.748692 \nL 247.686018 84.637617 \nL 247.885799 84.514725 \nL 248.056445 84.405214 \nL 248.172984 84.299747 \nL 248.601681 84.202769 \nL 248.912452 84.12478 \nL 249.026216 83.965566 \nL 249.438264 83.734835 \nL 249.724062 83.624254 \nL 250.322018 83.266901 \nL 250.516249 83.156472 \nL 251.534578 82.643946 \nL 251.961887 82.431908 \nL 252.11311 82.331033 \nL 252.296243 82.220209 \nL 253.078719 81.697704 \nL 253.336769 81.551143 \nL 253.413074 81.441849 \nL 253.560135 81.395165 \nL 253.786277 81.300685 \nL 253.900041 81.216211 \nL 254.077624 81.083209 \nL 254.235784 80.973423 \nL 255.556559 79.835385 \nL 255.931148 79.724444 \nL 256.060173 79.596443 \nL 256.214171 79.484434 \nL 256.493032 79.28412 \nL 256.751083 79.133484 \nL 257.132609 79.055495 \nL 257.246373 78.708029 \nL 257.546045 78.411116 \nL 257.736114 78.353594 \nL 258.28135 78.243649 \nL 258.622642 78.041638 \nL 259.008331 77.93145 \nL 259.223373 77.807671 \nL 259.518882 77.703686 \nL 259.638196 77.529139 \nL 259.901796 77.339737 \nL 260.248638 77.229518 \nL 260.428996 76.966827 \nL 260.544148 76.949792 \nL 261.046375 76.838764 \nL 261.400154 76.574944 \nL 264.936556 74.442451 \nL 265.080842 74.184964 \nL 265.580295 73.708459 \nL 265.695446 73.600855 \nL 265.882741 73.362298 \nL 266.161602 73.252782 \nL 266.351671 73.128331 \nL 266.540353 73.017413 \nL 267.467116 72.036485 \nL 267.623888 71.92925 \nL 267.768174 71.826136 \nL 268.060909 71.56855 \nL 268.153863 71.458047 \nL 268.355031 71.100616 \nL 268.486831 70.990529 \nL 269.106985 70.632682 \nL 269.174966 70.524698 \nL 269.334513 70.325386 \nL 269.573141 70.067189 \nL 269.686905 69.988394 \nL 271.071498 69.235264 \nL 271.210235 69.136839 \nL 271.964964 68.838935 \nL 272.013521 68.728411 \nL 272.167519 68.682957 \nL 272.243825 68.574451 \nL 272.474128 68.303285 \nL 272.848717 68.137034 \nL 273.166425 68.027062 \nL 273.373142 67.981056 \nL 273.713048 67.870349 \nL 274.148681 67.6691 \nL 274.219437 67.576357 \nL 274.335976 67.484881 \nL 275.670624 66.645567 \nL 275.805199 66.484188 \nL 276.131231 66.276439 \nL 276.258869 66.146961 \nL 276.727799 65.875353 \nL 276.926193 65.765401 \nL 277.393736 65.485408 \nL 277.635138 65.375105 \nL 278.353795 64.939485 \nL 278.475883 64.8315 \nL 278.654854 64.54954 \nL 278.867121 64.459283 \nL 278.987822 64.303368 \nL 279.485887 63.76965 \nL 279.6163 63.660563 \nL 279.863251 63.483973 \nL 280.028348 63.318714 \nL 280.333569 62.97048 \nL 281.228422 62.403038 \nL 281.354672 62.365848 \nL 281.899908 62.254822 \nL 282.293921 62.073389 \nL 282.43682 61.975903 \nL 282.922399 61.866873 \nL 283.070847 61.663947 \nL 283.518967 61.553503 \nL 284.112761 61.274002 \nL 284.366649 61.16816 \nL 284.531746 60.962046 \nL 284.996514 60.851635 \nL 285.416887 60.65009 \nL 285.677712 60.54014 \nL 285.85252 60.494112 \nL 285.914952 60.385184 \nL 286.032878 60.338134 \nL 286.597537 60.229513 \nL 286.794544 60.063838 \nL 287.318969 59.480255 \nL 287.527074 59.369274 \nL 288.581474 58.700365 \nL 289.058729 58.58946 \nL 289.30568 58.466398 \nL 289.547082 58.360049 \nL 289.671945 58.076453 \nL 289.842592 57.965982 \nL 290.353143 57.53053 \nL 290.490493 57.423892 \nL 290.65004 57.211694 \nL 291.106484 56.672651 \nL 291.18279 56.564023 \nL 291.315977 56.438684 \nL 291.41448 56.330389 \nL 291.540731 56.282706 \nL 291.802943 56.187184 \nL 291.916707 56.126728 \nL 292.242739 56.016144 \nL 292.349566 55.815665 \nL 292.586806 55.346837 \nL 292.896189 55.242852 \nL 293.041863 55.034881 \nL 293.191699 54.925387 \nL 293.41784 54.800914 \nL 293.612071 54.690379 \nL 293.816015 54.59407 \nL 294.101812 54.393643 \nL 294.377899 54.177002 \nL 295.564099 54.066518 \nL 295.702836 53.943035 \nL 295.827699 53.833851 \nL 295.947012 53.732912 \nL 296.755848 53.475101 \nL 296.848802 53.366056 \nL 297.02361 53.241134 \nL 297.567459 53.13009 \nL 298.342997 52.876433 \nL 298.809153 52.539233 \nL 299.411271 52.428129 \nL 299.771987 52.227277 \nL 299.884364 52.149288 \nL 300.127153 52.038396 \nL 300.361618 51.740197 \nL 300.665452 51.178065 \nL 300.983159 50.901464 \nL 301.173229 50.791204 \nL 301.39937 50.593626 \nL 302.359429 50.355541 \nL 302.561984 50.24444 \nL 302.727081 49.978594 \nL 302.847782 49.888255 \nL 304.769287 49.007778 \nL 305.045374 48.80551 \nL 305.164687 48.753084 \nL 305.615582 48.472563 \nL 306.201052 47.771797 \nL 306.317591 47.703915 \nL 306.825367 47.593655 \nL 307.041797 47.415789 \nL 307.766003 46.932234 \nL 307.888091 46.768047 \nL 308.875898 46.657935 \nL 309.226902 46.291768 \nL 309.362864 46.089255 \nL 309.494664 45.972889 \nL 310.590685 45.502306 \nL 311.160893 45.208267 \nL 311.503573 45.097921 \nL 311.717228 44.977066 \nL 312.32767 44.520636 \nL 312.442822 44.506366 \nL 312.569072 44.395464 \nL 312.842384 44.272399 \nL 313.006093 44.161893 \nL 313.287729 43.882454 \nL 313.670643 43.775792 \nL 313.789956 43.689382 \nL 314.275535 43.648487 \nL 314.353228 43.539673 \nL 314.651512 43.102564 \nL 314.794411 42.994921 \nL 315.058011 42.63463 \nL 315.542202 42.523681 \nL 315.872396 42.367379 \nL 316.929571 41.776751 \nL 317.213981 41.666039 \nL 317.549724 41.542784 \nL 317.879918 41.432032 \nL 318.373821 41.247407 \nL 318.49591 41.152839 \nL 318.608286 41.019671 \nL 318.952354 40.762894 \nL 318.956516 40.762894 \nL 319.07028 40.391025 \nL 319.236764 40.114238 \nL 319.430996 39.827025 \nL 319.865242 39.717841 \nL 319.988718 39.573439 \nL 320.234282 39.43708 \nL 320.443775 39.337719 \nL 320.590836 38.969146 \nL 321.018145 38.858771 \nL 321.46904 38.735179 \nL 322.025375 38.631194 \nL 322.146076 38.546917 \nL 322.455459 38.345172 \nL 322.637204 38.134335 \nL 322.749581 38.111267 \nL 323.093648 38.000258 \nL 323.409968 37.623114 \nL 323.526507 37.565344 \nL 323.826179 37.45448 \nL 324.209092 37.409366 \nL 324.630852 37.331457 \nL 324.744617 37.082219 \nL 325.239907 36.785454 \nL 325.539579 36.678351 \nL 325.657505 36.629476 \nL 326.030707 36.519595 \nL 326.298469 36.31752 \nL 326.732715 36.208597 \nL 326.950532 35.849586 \nL 327.595658 35.738709 \nL 327.792665 35.665415 \nL 328.937244 35.35508 \nL 329.349292 34.726955 \nL 330.05685 34.240558 \nL 330.590987 33.9682 \nL 330.713075 33.80782 \nL 331.072403 33.666901 \nL 331.908987 33.319854 \nL 332.173974 33.089959 \nL 332.716435 32.574048 \nL 333.063277 32.46341 \nL 333.231149 32.034498 \nL 333.362949 31.945223 \nL 333.758348 31.825686 \nL 333.906797 31.674589 \nL 334.055245 31.482202 \nL 334.29526 31.383263 \nL 334.411799 31.326224 \nL 334.778064 31.215407 \nL 335.013917 31.117634 \nL 336.06138 30.726811 \nL 336.238963 30.315429 \nL 336.599679 29.752264 \nL 336.756451 29.610466 \nL 336.821658 29.500275 \nL 337.043637 29.29851 \nL 337.183761 29.197335 \nL 337.319723 28.908565 \nL 338.358862 28.800818 \nL 338.487887 28.577111 \nL 338.936007 28.422206 \nL 340.045902 28.105271 \nL 340.321988 27.972697 \nL 340.639695 27.862214 \nL 340.838089 27.660741 \nL 340.919944 27.560585 \nL 341.03787 27.412015 \nL 341.827283 26.843408 \nL 342.052036 26.646884 \nL 342.358645 26.535815 \nL 342.61947 26.490906 \nL 343.132796 26.381451 \nL 343.368649 26.256939 \nL 343.603114 26.146479 \nL 343.769598 25.921134 \nL 345.000194 25.517043 \nL 345.169453 25.322285 \nL 345.509358 25.007528 \nL 345.62451 24.931126 \nL 345.770183 24.828034 \nL 345.931118 24.463191 \nL 346.43612 24.353073 \nL 346.744116 23.987167 \nL 347.018815 23.76129 \nL 347.529366 23.650608 \nL 347.937253 23.605312 \nL 348.332653 23.494406 \nL 349.357918 23.215367 \nL 349.470295 22.747358 \nL 350.347111 22.435477 \nL 350.642621 22.324535 \nL 350.971427 22.026062 \nL 351.162884 21.806135 \nL 351.896802 21.557622 \nL 352.536379 20.962843 \nL 353.399322 20.646265 \nL 353.569968 20.64173 \nL 353.755875 20.545371 \nL 353.91681 19.948813 \nL 354.258103 19.338252 \nL 354.47592 19.102295 \nL 354.60772 19.008531 \nL 355.839703 18.354707 \nL 356.699871 18.146082 \nL 357.096658 18.035904 \nL 357.321412 17.990104 \nL 357.751496 17.882119 \nL 357.868035 17.834126 \nL 358.65606 17.723066 \nL 358.889138 17.570819 \nL 359.008452 17.210214 \nL 359.206846 17.099602 \nL 359.231818 17.083636 \nL 359.231818 17.083636 \n\" style=\"fill:none;stroke:#1f77b4;stroke-linecap:square;stroke-width:1.5;\"/>\n   </g>\n   <g id=\"patch_3\">\n    <path d=\"M 39.65 224.64 \nL 39.65 7.2 \n\" style=\"fill:none;stroke:#000000;stroke-linecap:square;stroke-linejoin:miter;stroke-width:0.8;\"/>\n   </g>\n   <g id=\"patch_4\">\n    <path d=\"M 374.45 224.64 \nL 374.45 7.2 \n\" style=\"fill:none;stroke:#000000;stroke-linecap:square;stroke-linejoin:miter;stroke-width:0.8;\"/>\n   </g>\n   <g id=\"patch_5\">\n    <path d=\"M 39.65 224.64 \nL 374.45 224.64 \n\" style=\"fill:none;stroke:#000000;stroke-linecap:square;stroke-linejoin:miter;stroke-width:0.8;\"/>\n   </g>\n   <g id=\"patch_6\">\n    <path d=\"M 39.65 7.2 \nL 374.45 7.2 \n\" style=\"fill:none;stroke:#000000;stroke-linecap:square;stroke-linejoin:miter;stroke-width:0.8;\"/>\n   </g>\n  </g>\n </g>\n <defs>\n  <clipPath id=\"pd013afa220\">\n   <rect height=\"217.44\" width=\"334.8\" x=\"39.65\" y=\"7.2\"/>\n  </clipPath>\n </defs>\n</svg>\n",
      "text/plain": "<Figure size 432x288 with 1 Axes>"
     },
     "metadata": {
      "needs_background": "light"
     },
     "output_type": "display_data"
    }
   ],
   "source": [
    "# Run this code:\n",
    "\n",
    "%matplotlib inline\n",
    "import matplotlib.pyplot as plt\n",
    "\n",
    "plt.plot(x_new, f(x_new))"
   ]
  },
  {
   "cell_type": "markdown",
   "metadata": {},
   "source": [
    "Next create a function that will generate a cubic interpolation function. Name the function `g`"
   ]
  },
  {
   "cell_type": "code",
   "execution_count": 40,
   "metadata": {},
   "outputs": [
    {
     "ename": "ValueError",
     "evalue": "Expect x to be a 1-D sorted array_like.",
     "output_type": "error",
     "traceback": [
      "\u001b[0;31m---------------------------------------------------------------------------\u001b[0m",
      "\u001b[0;31mValueError\u001b[0m                                Traceback (most recent call last)",
      "\u001b[0;32m<ipython-input-40-92e256be4089>\u001b[0m in \u001b[0;36m<module>\u001b[0;34m\u001b[0m\n\u001b[1;32m      1\u001b[0m \u001b[0;31m# This gives me an error, not sure why...\u001b[0m\u001b[0;34m\u001b[0m\u001b[0;34m\u001b[0m\u001b[0;34m\u001b[0m\u001b[0m\n\u001b[1;32m      2\u001b[0m \u001b[0;31m#g = interp1d(sorted(list(df.usd_pledged_real)), sorted(list(df.backers)), kind= 'cubic')\u001b[0m\u001b[0;34m\u001b[0m\u001b[0;34m\u001b[0m\u001b[0;34m\u001b[0m\u001b[0m\n\u001b[0;32m----> 3\u001b[0;31m \u001b[0minterp1d\u001b[0m\u001b[0;34m(\u001b[0m\u001b[0msorted\u001b[0m\u001b[0;34m(\u001b[0m\u001b[0mdf\u001b[0m\u001b[0;34m.\u001b[0m\u001b[0musd_pledged_real\u001b[0m\u001b[0;34m)\u001b[0m\u001b[0;34m,\u001b[0m \u001b[0msorted\u001b[0m\u001b[0;34m(\u001b[0m\u001b[0mdf\u001b[0m\u001b[0;34m.\u001b[0m\u001b[0mbackers\u001b[0m\u001b[0;34m)\u001b[0m\u001b[0;34m,\u001b[0m\u001b[0mkind\u001b[0m\u001b[0;34m=\u001b[0m\u001b[0;34m'cubic'\u001b[0m\u001b[0;34m)\u001b[0m\u001b[0;34m\u001b[0m\u001b[0;34m\u001b[0m\u001b[0m\n\u001b[0m",
      "\u001b[0;32m~/.local/lib/python3.7/site-packages/scipy/interpolate/interpolate.py\u001b[0m in \u001b[0;36m__init__\u001b[0;34m(***failed resolving arguments***)\u001b[0m\n\u001b[1;32m    531\u001b[0m \u001b[0;34m\u001b[0m\u001b[0m\n\u001b[1;32m    532\u001b[0m             self._spline = make_interp_spline(xx, yy, k=order,\n\u001b[0;32m--> 533\u001b[0;31m                                               check_finite=False)\n\u001b[0m\u001b[1;32m    534\u001b[0m             \u001b[0;32mif\u001b[0m \u001b[0mrewrite_nan\u001b[0m\u001b[0;34m:\u001b[0m\u001b[0;34m\u001b[0m\u001b[0;34m\u001b[0m\u001b[0m\n\u001b[1;32m    535\u001b[0m                 \u001b[0mself\u001b[0m\u001b[0;34m.\u001b[0m\u001b[0m_call\u001b[0m \u001b[0;34m=\u001b[0m \u001b[0mself\u001b[0m\u001b[0;34m.\u001b[0m\u001b[0m__class__\u001b[0m\u001b[0;34m.\u001b[0m\u001b[0m_call_nan_spline\u001b[0m\u001b[0;34m\u001b[0m\u001b[0;34m\u001b[0m\u001b[0m\n",
      "\u001b[0;32m~/.local/lib/python3.7/site-packages/scipy/interpolate/_bsplines.py\u001b[0m in \u001b[0;36mmake_interp_spline\u001b[0;34m(x, y, k, t, bc_type, axis, check_finite)\u001b[0m\n\u001b[1;32m    797\u001b[0m \u001b[0;34m\u001b[0m\u001b[0m\n\u001b[1;32m    798\u001b[0m     \u001b[0;32mif\u001b[0m \u001b[0mx\u001b[0m\u001b[0;34m.\u001b[0m\u001b[0mndim\u001b[0m \u001b[0;34m!=\u001b[0m \u001b[0;36m1\u001b[0m \u001b[0;32mor\u001b[0m \u001b[0mnp\u001b[0m\u001b[0;34m.\u001b[0m\u001b[0many\u001b[0m\u001b[0;34m(\u001b[0m\u001b[0mx\u001b[0m\u001b[0;34m[\u001b[0m\u001b[0;36m1\u001b[0m\u001b[0;34m:\u001b[0m\u001b[0;34m]\u001b[0m \u001b[0;34m<=\u001b[0m \u001b[0mx\u001b[0m\u001b[0;34m[\u001b[0m\u001b[0;34m:\u001b[0m\u001b[0;34m-\u001b[0m\u001b[0;36m1\u001b[0m\u001b[0;34m]\u001b[0m\u001b[0;34m)\u001b[0m\u001b[0;34m:\u001b[0m\u001b[0;34m\u001b[0m\u001b[0;34m\u001b[0m\u001b[0m\n\u001b[0;32m--> 799\u001b[0;31m         \u001b[0;32mraise\u001b[0m \u001b[0mValueError\u001b[0m\u001b[0;34m(\u001b[0m\u001b[0;34m\"Expect x to be a 1-D sorted array_like.\"\u001b[0m\u001b[0;34m)\u001b[0m\u001b[0;34m\u001b[0m\u001b[0;34m\u001b[0m\u001b[0m\n\u001b[0m\u001b[1;32m    800\u001b[0m     \u001b[0;32mif\u001b[0m \u001b[0mk\u001b[0m \u001b[0;34m<\u001b[0m \u001b[0;36m0\u001b[0m\u001b[0;34m:\u001b[0m\u001b[0;34m\u001b[0m\u001b[0;34m\u001b[0m\u001b[0m\n\u001b[1;32m    801\u001b[0m         \u001b[0;32mraise\u001b[0m \u001b[0mValueError\u001b[0m\u001b[0;34m(\u001b[0m\u001b[0;34m\"Expect non-negative k.\"\u001b[0m\u001b[0;34m)\u001b[0m\u001b[0;34m\u001b[0m\u001b[0;34m\u001b[0m\u001b[0m\n",
      "\u001b[0;31mValueError\u001b[0m: Expect x to be a 1-D sorted array_like."
     ]
    }
   ],
   "source": [
    "# This gives me an error, not sure why...\n",
    "#g = interp1d(sorted(list(df.usd_pledged_real)), sorted(list(df.backers)), kind= 'cubic')\n",
    "interp1d(sorted(df.usd_pledged_real), sorted(df.backers),kind='cubic')"
   ]
  },
  {
   "cell_type": "code",
   "execution_count": 0,
   "metadata": {},
   "outputs": [],
   "source": [
    "# Run this code:\n",
    "\n",
    "plt.plot(x_new, g(x_new))"
   ]
  },
  {
   "cell_type": "markdown",
   "metadata": {},
   "source": [
    "# Bonus Challenge - The Binomial Distribution\n",
    "\n",
    "The binomial distribution allows us to calculate the probability of k successes in n trials for a random variable with two possible outcomes (which we typically label success and failure).  \n",
    "\n",
    "The probability of success is typically denoted by p and the probability of failure is denoted by 1-p.\n",
    "\n",
    "The `scipy.stats` submodule contains a `binom` function for computing the probabilites of a random variable with the binomial distribution. You may read more about the binomial distribution [here](https://en.wikipedia.org/wiki/Binomial_distribution) and about the `binom` function [here](https://docs.scipy.org/doc/scipy/reference/generated/scipy.stats.binom.html#scipy.stats.binom).\n",
    "\n",
    "In the cell below, compute the probability that a die lands on 5 exactly 3 times in 8 tries.\n",
    "\n",
    "Hint: the probability of rolling a 5 is 1/6."
   ]
  },
  {
   "cell_type": "code",
   "execution_count": 0,
   "metadata": {},
   "outputs": [],
   "source": [
    "# Your code here:\n",
    "\n"
   ]
  },
  {
   "cell_type": "code",
   "execution_count": null,
   "metadata": {},
   "outputs": [],
   "source": []
  }
 ],
 "metadata": {
  "kernelspec": {
   "display_name": "Python 3.7.6 64-bit",
   "language": "python",
   "name": "python37664bitc736265aa96942798be544ff59087e30"
  },
  "language_info": {
   "codemirror_mode": {
    "name": "ipython",
    "version": 3
   },
   "file_extension": ".py",
   "mimetype": "text/x-python",
   "name": "python",
   "nbconvert_exporter": "python",
   "pygments_lexer": "ipython3",
   "version": "3.7.6-final"
  }
 },
 "nbformat": 4,
 "nbformat_minor": 2
}