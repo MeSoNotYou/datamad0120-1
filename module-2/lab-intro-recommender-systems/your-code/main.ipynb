{
 "cells": [
  {
   "cell_type": "markdown",
   "metadata": {},
   "source": [
    "# Intro to Recommender Systems Lab\n",
    "\n",
    "Complete the exercises below to solidify your knowledge and understanding of recommender systems.\n",
    "\n",
    "For this lab, we are going to be putting together a user similarity based recommender system in a step-by-step fashion. Our data set contains customer grocery purchases, and we will use similar purchase behavior to inform our recommender system. Our recommender system will generate 5 recommendations for each customer based on the purchases they have made."
   ]
  },
  {
   "cell_type": "code",
   "execution_count": 2,
   "metadata": {},
   "outputs": [],
   "source": [
    "import pandas as pd\n",
    "from scipy.spatial.distance import pdist, squareform"
   ]
  },
  {
   "cell_type": "code",
   "execution_count": 3,
   "metadata": {},
   "outputs": [],
   "source": [
    "data = pd.read_csv('../data/customer_product_sales.csv')"
   ]
  },
  {
   "cell_type": "code",
   "execution_count": 11,
   "metadata": {},
   "outputs": [
    {
     "data": {
      "text/html": "<div>\n<style scoped>\n    .dataframe tbody tr th:only-of-type {\n        vertical-align: middle;\n    }\n\n    .dataframe tbody tr th {\n        vertical-align: top;\n    }\n\n    .dataframe thead th {\n        text-align: right;\n    }\n</style>\n<table border=\"1\" class=\"dataframe\">\n  <thead>\n    <tr style=\"text-align: right;\">\n      <th></th>\n      <th>CustomerID</th>\n      <th>FirstName</th>\n      <th>LastName</th>\n      <th>SalesID</th>\n      <th>ProductID</th>\n      <th>ProductName</th>\n      <th>Quantity</th>\n    </tr>\n  </thead>\n  <tbody>\n    <tr>\n      <th>0</th>\n      <td>61288</td>\n      <td>Rosa</td>\n      <td>Andersen</td>\n      <td>134196</td>\n      <td>229</td>\n      <td>Bread - Hot Dog Buns</td>\n      <td>16</td>\n    </tr>\n    <tr>\n      <th>1</th>\n      <td>77352</td>\n      <td>Myron</td>\n      <td>Murray</td>\n      <td>6167892</td>\n      <td>229</td>\n      <td>Bread - Hot Dog Buns</td>\n      <td>20</td>\n    </tr>\n    <tr>\n      <th>2</th>\n      <td>40094</td>\n      <td>Susan</td>\n      <td>Stevenson</td>\n      <td>5970885</td>\n      <td>229</td>\n      <td>Bread - Hot Dog Buns</td>\n      <td>11</td>\n    </tr>\n    <tr>\n      <th>3</th>\n      <td>23548</td>\n      <td>Tricia</td>\n      <td>Vincent</td>\n      <td>6426954</td>\n      <td>229</td>\n      <td>Bread - Hot Dog Buns</td>\n      <td>6</td>\n    </tr>\n    <tr>\n      <th>4</th>\n      <td>78981</td>\n      <td>Scott</td>\n      <td>Burch</td>\n      <td>819094</td>\n      <td>229</td>\n      <td>Bread - Hot Dog Buns</td>\n      <td>20</td>\n    </tr>\n  </tbody>\n</table>\n</div>",
      "text/plain": "   CustomerID FirstName   LastName  SalesID  ProductID           ProductName  \\\n0       61288      Rosa   Andersen   134196        229  Bread - Hot Dog Buns   \n1       77352     Myron     Murray  6167892        229  Bread - Hot Dog Buns   \n2       40094     Susan  Stevenson  5970885        229  Bread - Hot Dog Buns   \n3       23548    Tricia    Vincent  6426954        229  Bread - Hot Dog Buns   \n4       78981     Scott      Burch   819094        229  Bread - Hot Dog Buns   \n\n   Quantity  \n0        16  \n1        20  \n2        11  \n3         6  \n4        20  "
     },
     "metadata": {},
     "output_type": "display_data"
    },
    {
     "data": {
      "text/plain": "(68584, 7)"
     },
     "execution_count": 11,
     "metadata": {},
     "output_type": "execute_result"
    }
   ],
   "source": [
    "display(data.head())\n",
    "data.shape"
   ]
  },
  {
   "cell_type": "markdown",
   "metadata": {},
   "source": [
    "## Step 1: Create a data frame that contains the total quantity of each product purchased by each customer.\n",
    "\n",
    "You will need to group by CustomerID and ProductName and then sum the Quantity field."
   ]
  },
  {
   "cell_type": "code",
   "execution_count": 15,
   "metadata": {},
   "outputs": [
    {
     "data": {
      "text/html": "<div>\n<style scoped>\n    .dataframe tbody tr th:only-of-type {\n        vertical-align: middle;\n    }\n\n    .dataframe tbody tr th {\n        vertical-align: top;\n    }\n\n    .dataframe thead th {\n        text-align: right;\n    }\n</style>\n<table border=\"1\" class=\"dataframe\">\n  <thead>\n    <tr style=\"text-align: right;\">\n      <th></th>\n      <th>CustomerID</th>\n      <th>ProductID</th>\n      <th>Quantity</th>\n    </tr>\n  </thead>\n  <tbody>\n    <tr>\n      <th>0</th>\n      <td>33</td>\n      <td>23</td>\n      <td>1</td>\n    </tr>\n    <tr>\n      <th>1</th>\n      <td>33</td>\n      <td>51</td>\n      <td>1</td>\n    </tr>\n    <tr>\n      <th>2</th>\n      <td>33</td>\n      <td>53</td>\n      <td>1</td>\n    </tr>\n    <tr>\n      <th>3</th>\n      <td>33</td>\n      <td>67</td>\n      <td>1</td>\n    </tr>\n    <tr>\n      <th>4</th>\n      <td>33</td>\n      <td>70</td>\n      <td>1</td>\n    </tr>\n  </tbody>\n</table>\n</div>",
      "text/plain": "   CustomerID  ProductID  Quantity\n0          33         23         1\n1          33         51         1\n2          33         53         1\n3          33         67         1\n4          33         70         1"
     },
     "execution_count": 15,
     "metadata": {},
     "output_type": "execute_result"
    }
   ],
   "source": [
    "#bycust = pd.pivot_table(data, values='Quantity', aggfunc='sum', index='CustomerID', columns=data.columns)\n",
    "\n",
    "qPerCust = data.groupby(['CustomerID', 'ProductID'], as_index=False).agg({'Quantity': 'sum'})\n",
    "qPerCust.head()"
   ]
  },
  {
   "cell_type": "markdown",
   "metadata": {},
   "source": [
    "## Step 2: Use the `pivot_table` method to create a product by customer matrix.\n",
    "\n",
    "The rows of the matrix should represent the products, the columns should represent the customers, and the values should be the quantities of each product purchased by each customer. You will also need to replace nulls with zeros, which you can do using the `fillna` method."
   ]
  },
  {
   "cell_type": "code",
   "execution_count": 20,
   "metadata": {},
   "outputs": [
    {
     "data": {
      "text/html": "<div>\n<style scoped>\n    .dataframe tbody tr th:only-of-type {\n        vertical-align: middle;\n    }\n\n    .dataframe tbody tr th {\n        vertical-align: top;\n    }\n\n    .dataframe thead th {\n        text-align: right;\n    }\n</style>\n<table border=\"1\" class=\"dataframe\">\n  <thead>\n    <tr style=\"text-align: right;\">\n      <th>CustomerID</th>\n      <th>33</th>\n      <th>200</th>\n      <th>264</th>\n      <th>356</th>\n      <th>412</th>\n      <th>464</th>\n      <th>477</th>\n      <th>639</th>\n      <th>649</th>\n      <th>669</th>\n      <th>...</th>\n      <th>97697</th>\n      <th>97753</th>\n      <th>97769</th>\n      <th>97793</th>\n      <th>97900</th>\n      <th>97928</th>\n      <th>98069</th>\n      <th>98159</th>\n      <th>98185</th>\n      <th>98200</th>\n    </tr>\n    <tr>\n      <th>ProductID</th>\n      <th></th>\n      <th></th>\n      <th></th>\n      <th></th>\n      <th></th>\n      <th></th>\n      <th></th>\n      <th></th>\n      <th></th>\n      <th></th>\n      <th></th>\n      <th></th>\n      <th></th>\n      <th></th>\n      <th></th>\n      <th></th>\n      <th></th>\n      <th></th>\n      <th></th>\n      <th></th>\n      <th></th>\n    </tr>\n  </thead>\n  <tbody>\n    <tr>\n      <th>1</th>\n      <td>NaN</td>\n      <td>NaN</td>\n      <td>NaN</td>\n      <td>NaN</td>\n      <td>NaN</td>\n      <td>NaN</td>\n      <td>NaN</td>\n      <td>1.0</td>\n      <td>NaN</td>\n      <td>NaN</td>\n      <td>...</td>\n      <td>NaN</td>\n      <td>NaN</td>\n      <td>NaN</td>\n      <td>NaN</td>\n      <td>NaN</td>\n      <td>NaN</td>\n      <td>25.0</td>\n      <td>NaN</td>\n      <td>NaN</td>\n      <td>25.0</td>\n    </tr>\n    <tr>\n      <th>2</th>\n      <td>NaN</td>\n      <td>NaN</td>\n      <td>1.0</td>\n      <td>NaN</td>\n      <td>NaN</td>\n      <td>NaN</td>\n      <td>1.0</td>\n      <td>NaN</td>\n      <td>NaN</td>\n      <td>NaN</td>\n      <td>...</td>\n      <td>NaN</td>\n      <td>NaN</td>\n      <td>NaN</td>\n      <td>NaN</td>\n      <td>NaN</td>\n      <td>NaN</td>\n      <td>NaN</td>\n      <td>NaN</td>\n      <td>NaN</td>\n      <td>NaN</td>\n    </tr>\n    <tr>\n      <th>3</th>\n      <td>NaN</td>\n      <td>NaN</td>\n      <td>NaN</td>\n      <td>NaN</td>\n      <td>NaN</td>\n      <td>NaN</td>\n      <td>NaN</td>\n      <td>NaN</td>\n      <td>1.0</td>\n      <td>NaN</td>\n      <td>...</td>\n      <td>NaN</td>\n      <td>NaN</td>\n      <td>NaN</td>\n      <td>NaN</td>\n      <td>NaN</td>\n      <td>NaN</td>\n      <td>NaN</td>\n      <td>NaN</td>\n      <td>NaN</td>\n      <td>NaN</td>\n    </tr>\n    <tr>\n      <th>4</th>\n      <td>NaN</td>\n      <td>1.0</td>\n      <td>NaN</td>\n      <td>NaN</td>\n      <td>NaN</td>\n      <td>NaN</td>\n      <td>1.0</td>\n      <td>1.0</td>\n      <td>NaN</td>\n      <td>1.0</td>\n      <td>...</td>\n      <td>25.0</td>\n      <td>NaN</td>\n      <td>NaN</td>\n      <td>NaN</td>\n      <td>NaN</td>\n      <td>NaN</td>\n      <td>NaN</td>\n      <td>NaN</td>\n      <td>NaN</td>\n      <td>NaN</td>\n    </tr>\n    <tr>\n      <th>5</th>\n      <td>NaN</td>\n      <td>NaN</td>\n      <td>NaN</td>\n      <td>NaN</td>\n      <td>NaN</td>\n      <td>NaN</td>\n      <td>NaN</td>\n      <td>NaN</td>\n      <td>NaN</td>\n      <td>NaN</td>\n      <td>...</td>\n      <td>NaN</td>\n      <td>NaN</td>\n      <td>NaN</td>\n      <td>NaN</td>\n      <td>NaN</td>\n      <td>NaN</td>\n      <td>NaN</td>\n      <td>NaN</td>\n      <td>NaN</td>\n      <td>NaN</td>\n    </tr>\n  </tbody>\n</table>\n<p>5 rows × 1000 columns</p>\n</div>",
      "text/plain": "CustomerID  33     200    264    356    412    464    477    639    649    \\\nProductID                                                                   \n1             NaN    NaN    NaN    NaN    NaN    NaN    NaN    1.0    NaN   \n2             NaN    NaN    1.0    NaN    NaN    NaN    1.0    NaN    NaN   \n3             NaN    NaN    NaN    NaN    NaN    NaN    NaN    NaN    1.0   \n4             NaN    1.0    NaN    NaN    NaN    NaN    1.0    1.0    NaN   \n5             NaN    NaN    NaN    NaN    NaN    NaN    NaN    NaN    NaN   \n\nCustomerID  669    ...  97697  97753  97769  97793  97900  97928  98069  \\\nProductID          ...                                                    \n1             NaN  ...    NaN    NaN    NaN    NaN    NaN    NaN   25.0   \n2             NaN  ...    NaN    NaN    NaN    NaN    NaN    NaN    NaN   \n3             NaN  ...    NaN    NaN    NaN    NaN    NaN    NaN    NaN   \n4             1.0  ...   25.0    NaN    NaN    NaN    NaN    NaN    NaN   \n5             NaN  ...    NaN    NaN    NaN    NaN    NaN    NaN    NaN   \n\nCustomerID  98159  98185  98200  \nProductID                        \n1             NaN    NaN   25.0  \n2             NaN    NaN    NaN  \n3             NaN    NaN    NaN  \n4             NaN    NaN    NaN  \n5             NaN    NaN    NaN  \n\n[5 rows x 1000 columns]"
     },
     "execution_count": 20,
     "metadata": {},
     "output_type": "execute_result"
    }
   ],
   "source": [
    "pivotT = pd.pivot_table(qPerCust, columns='CustomerID', index='ProductID', values='Quantity', aggfunc='sum')\n",
    "pivotT.head()"
   ]
  },
  {
   "cell_type": "code",
   "execution_count": 54,
   "metadata": {},
   "outputs": [],
   "source": [
    "pivotT.fillna(0, inplace=True)"
   ]
  },
  {
   "cell_type": "markdown",
   "metadata": {},
   "source": [
    "## Step 3: Create a customer similarity matrix using `squareform` and `pdist`. For the distance metric, choose \"euclidean.\""
   ]
  },
  {
   "cell_type": "code",
   "execution_count": 55,
   "metadata": {},
   "outputs": [
    {
     "data": {
      "text/plain": "array([256.56578104, 257.46067661, 260.43809245, ..., 268.19582398,\n       253.71243564, 261.21829951])"
     },
     "execution_count": 55,
     "metadata": {},
     "output_type": "execute_result"
    }
   ],
   "source": [
    "pdist(pivotT)"
   ]
  },
  {
   "cell_type": "code",
   "execution_count": 56,
   "metadata": {},
   "outputs": [],
   "source": [
    "distances = pd.DataFrame(1/(1 + squareform(pdist(pivotT.T, 'euclidean'))), \n",
    "                         index=pivotT.columns, columns=pivotT.columns)"
   ]
  },
  {
   "cell_type": "code",
   "execution_count": 57,
   "metadata": {},
   "outputs": [
    {
     "data": {
      "text/html": "<div>\n<style scoped>\n    .dataframe tbody tr th:only-of-type {\n        vertical-align: middle;\n    }\n\n    .dataframe tbody tr th {\n        vertical-align: top;\n    }\n\n    .dataframe thead th {\n        text-align: right;\n    }\n</style>\n<table border=\"1\" class=\"dataframe\">\n  <thead>\n    <tr style=\"text-align: right;\">\n      <th>CustomerID</th>\n      <th>33</th>\n      <th>200</th>\n      <th>264</th>\n      <th>356</th>\n      <th>412</th>\n      <th>464</th>\n      <th>477</th>\n      <th>639</th>\n      <th>649</th>\n      <th>669</th>\n      <th>...</th>\n      <th>97697</th>\n      <th>97753</th>\n      <th>97769</th>\n      <th>97793</th>\n      <th>97900</th>\n      <th>97928</th>\n      <th>98069</th>\n      <th>98159</th>\n      <th>98185</th>\n      <th>98200</th>\n    </tr>\n    <tr>\n      <th>CustomerID</th>\n      <th></th>\n      <th></th>\n      <th></th>\n      <th></th>\n      <th></th>\n      <th></th>\n      <th></th>\n      <th></th>\n      <th></th>\n      <th></th>\n      <th></th>\n      <th></th>\n      <th></th>\n      <th></th>\n      <th></th>\n      <th></th>\n      <th></th>\n      <th></th>\n      <th></th>\n      <th></th>\n      <th></th>\n    </tr>\n  </thead>\n  <tbody>\n    <tr>\n      <th>33</th>\n      <td>1.000000</td>\n      <td>0.077421</td>\n      <td>0.087047</td>\n      <td>0.081800</td>\n      <td>0.080634</td>\n      <td>0.082709</td>\n      <td>0.074573</td>\n      <td>0.083020</td>\n      <td>0.081503</td>\n      <td>0.080070</td>\n      <td>...</td>\n      <td>0.004811</td>\n      <td>0.004669</td>\n      <td>0.004412</td>\n      <td>0.005019</td>\n      <td>0.004312</td>\n      <td>0.004515</td>\n      <td>0.004583</td>\n      <td>0.004355</td>\n      <td>0.004167</td>\n      <td>0.004333</td>\n    </tr>\n    <tr>\n      <th>200</th>\n      <td>0.077421</td>\n      <td>1.000000</td>\n      <td>0.078448</td>\n      <td>0.076435</td>\n      <td>0.073693</td>\n      <td>0.075255</td>\n      <td>0.075956</td>\n      <td>0.076435</td>\n      <td>0.077674</td>\n      <td>0.076923</td>\n      <td>...</td>\n      <td>0.004824</td>\n      <td>0.004681</td>\n      <td>0.004431</td>\n      <td>0.005047</td>\n      <td>0.004311</td>\n      <td>0.004521</td>\n      <td>0.004614</td>\n      <td>0.004367</td>\n      <td>0.004166</td>\n      <td>0.004335</td>\n    </tr>\n    <tr>\n      <th>264</th>\n      <td>0.087047</td>\n      <td>0.078448</td>\n      <td>1.000000</td>\n      <td>0.080070</td>\n      <td>0.081800</td>\n      <td>0.080350</td>\n      <td>0.076923</td>\n      <td>0.080634</td>\n      <td>0.082100</td>\n      <td>0.078448</td>\n      <td>...</td>\n      <td>0.004822</td>\n      <td>0.004674</td>\n      <td>0.004416</td>\n      <td>0.005035</td>\n      <td>0.004322</td>\n      <td>0.004543</td>\n      <td>0.004595</td>\n      <td>0.004365</td>\n      <td>0.004179</td>\n      <td>0.004333</td>\n    </tr>\n    <tr>\n      <th>356</th>\n      <td>0.081800</td>\n      <td>0.076435</td>\n      <td>0.080070</td>\n      <td>1.000000</td>\n      <td>0.076435</td>\n      <td>0.078187</td>\n      <td>0.075025</td>\n      <td>0.082403</td>\n      <td>0.077171</td>\n      <td>0.075956</td>\n      <td>...</td>\n      <td>0.004816</td>\n      <td>0.004671</td>\n      <td>0.004416</td>\n      <td>0.005038</td>\n      <td>0.004310</td>\n      <td>0.004526</td>\n      <td>0.004578</td>\n      <td>0.004365</td>\n      <td>0.004175</td>\n      <td>0.004339</td>\n    </tr>\n    <tr>\n      <th>412</th>\n      <td>0.080634</td>\n      <td>0.073693</td>\n      <td>0.081800</td>\n      <td>0.076435</td>\n      <td>1.000000</td>\n      <td>0.078711</td>\n      <td>0.075025</td>\n      <td>0.082403</td>\n      <td>0.078187</td>\n      <td>0.078448</td>\n      <td>...</td>\n      <td>0.004810</td>\n      <td>0.004702</td>\n      <td>0.004414</td>\n      <td>0.005034</td>\n      <td>0.004318</td>\n      <td>0.004530</td>\n      <td>0.004578</td>\n      <td>0.004367</td>\n      <td>0.004177</td>\n      <td>0.004349</td>\n    </tr>\n  </tbody>\n</table>\n<p>5 rows × 1000 columns</p>\n</div>",
      "text/plain": "CustomerID     33        200       264       356       412       464    \\\nCustomerID                                                               \n33          1.000000  0.077421  0.087047  0.081800  0.080634  0.082709   \n200         0.077421  1.000000  0.078448  0.076435  0.073693  0.075255   \n264         0.087047  0.078448  1.000000  0.080070  0.081800  0.080350   \n356         0.081800  0.076435  0.080070  1.000000  0.076435  0.078187   \n412         0.080634  0.073693  0.081800  0.076435  1.000000  0.078711   \n\nCustomerID     477       639       649       669    ...     97697     97753  \\\nCustomerID                                          ...                       \n33          0.074573  0.083020  0.081503  0.080070  ...  0.004811  0.004669   \n200         0.075956  0.076435  0.077674  0.076923  ...  0.004824  0.004681   \n264         0.076923  0.080634  0.082100  0.078448  ...  0.004822  0.004674   \n356         0.075025  0.082403  0.077171  0.075956  ...  0.004816  0.004671   \n412         0.075025  0.082403  0.078187  0.078448  ...  0.004810  0.004702   \n\nCustomerID     97769     97793     97900     97928     98069     98159  \\\nCustomerID                                                               \n33          0.004412  0.005019  0.004312  0.004515  0.004583  0.004355   \n200         0.004431  0.005047  0.004311  0.004521  0.004614  0.004367   \n264         0.004416  0.005035  0.004322  0.004543  0.004595  0.004365   \n356         0.004416  0.005038  0.004310  0.004526  0.004578  0.004365   \n412         0.004414  0.005034  0.004318  0.004530  0.004578  0.004367   \n\nCustomerID     98185     98200  \nCustomerID                      \n33          0.004167  0.004333  \n200         0.004166  0.004335  \n264         0.004179  0.004333  \n356         0.004175  0.004339  \n412         0.004177  0.004349  \n\n[5 rows x 1000 columns]"
     },
     "execution_count": 57,
     "metadata": {},
     "output_type": "execute_result"
    }
   ],
   "source": [
    "distances.head()"
   ]
  },
  {
   "cell_type": "markdown",
   "metadata": {},
   "source": [
    "## Step 4: Check your results by generating a list of the top 5 most similar customers for a specific CustomerID."
   ]
  },
  {
   "cell_type": "code",
   "execution_count": 59,
   "metadata": {},
   "outputs": [
    {
     "data": {
      "text/plain": "CustomerID\n3535    0.084959\n3317    0.083651\n639     0.083020\n1008    0.082100\n3305    0.081800\nName: 669, dtype: float64"
     },
     "execution_count": 59,
     "metadata": {},
     "output_type": "execute_result"
    }
   ],
   "source": [
    "distances[669].sort_values(ascending=False, na_position='last')[1:6]"
   ]
  },
  {
   "cell_type": "markdown",
   "metadata": {},
   "source": [
    "## Step 5: From the data frame you created in Step 1, select the records for the list of similar CustomerIDs you obtained in Step 4."
   ]
  },
  {
   "cell_type": "code",
   "execution_count": null,
   "metadata": {},
   "outputs": [],
   "source": []
  },
  {
   "cell_type": "markdown",
   "metadata": {},
   "source": [
    "## Step 6: Aggregate those customer purchase records by ProductName, sum the Quantity field, and then rank them in descending order by quantity.\n",
    "\n",
    "This will give you the total number of each product purchased by the 5 most similar customers to the customer you selected in order from most purchased to least."
   ]
  },
  {
   "cell_type": "code",
   "execution_count": null,
   "metadata": {},
   "outputs": [],
   "source": []
  },
  {
   "cell_type": "markdown",
   "metadata": {},
   "source": [
    "## Step 7: Filter the list for products that the chosen customer has not yet purchased and then recommend the top 5 products with the highest quantities that are left.\n",
    "\n",
    "- Merge the ranked products data frame with the customer product matrix on the ProductName field.\n",
    "- Filter for records where the chosen customer has not purchased the product.\n",
    "- Show the top 5 results."
   ]
  },
  {
   "cell_type": "code",
   "execution_count": null,
   "metadata": {},
   "outputs": [],
   "source": []
  },
  {
   "cell_type": "markdown",
   "metadata": {},
   "source": [
    "## Step 8: Now that we have generated product recommendations for a single user, put the pieces together and iterate over a list of all CustomerIDs.\n",
    "\n",
    "- Create an empty dictionary that will hold the recommendations for all customers.\n",
    "- Create a list of unique CustomerIDs to iterate over.\n",
    "- Iterate over the customer list performing steps 4 through 7 for each and appending the results of each iteration to the dictionary you created."
   ]
  },
  {
   "cell_type": "code",
   "execution_count": null,
   "metadata": {},
   "outputs": [],
   "source": []
  },
  {
   "cell_type": "markdown",
   "metadata": {},
   "source": [
    "##  Step 9: Store the results in a Pandas data frame. The data frame should a column for Customer ID and then a column for each of the 5 product recommendations for each customer."
   ]
  },
  {
   "cell_type": "code",
   "execution_count": null,
   "metadata": {
    "scrolled": true
   },
   "outputs": [],
   "source": []
  },
  {
   "cell_type": "markdown",
   "metadata": {},
   "source": [
    "## Step 10: Change the distance metric used in Step 3 to something other than euclidean (correlation, cityblock, consine, jaccard, etc.). Regenerate the recommendations for all customers and note the differences."
   ]
  },
  {
   "cell_type": "code",
   "execution_count": null,
   "metadata": {},
   "outputs": [],
   "source": []
  }
 ],
 "metadata": {
  "kernelspec": {
   "display_name": "Python 3",
   "language": "python",
   "name": "python3"
  },
  "language_info": {
   "codemirror_mode": {
    "name": "ipython",
    "version": 3
   },
   "file_extension": ".py",
   "mimetype": "text/x-python",
   "name": "python",
   "nbconvert_exporter": "python",
   "pygments_lexer": "ipython3",
   "version": "3.7.6-final"
  }
 },
 "nbformat": 4,
 "nbformat_minor": 2
}