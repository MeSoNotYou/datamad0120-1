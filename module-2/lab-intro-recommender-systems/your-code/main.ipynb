{
 "cells": [
  {
   "cell_type": "markdown",
   "metadata": {},
   "source": [
    "# Intro to Recommender Systems Lab\n",
    "\n",
    "Complete the exercises below to solidify your knowledge and understanding of recommender systems.\n",
    "\n",
    "For this lab, we are going to be putting together a user similarity based recommender system in a step-by-step fashion. Our data set contains customer grocery purchases, and we will use similar purchase behavior to inform our recommender system. Our recommender system will generate 5 recommendations for each customer based on the purchases they have made."
   ]
  },
  {
   "cell_type": "code",
   "execution_count": 2,
   "metadata": {},
   "outputs": [],
   "source": [
    "import pandas as pd\n",
    "from scipy.spatial.distance import pdist, squareform"
   ]
  },
  {
   "cell_type": "code",
   "execution_count": 3,
   "metadata": {},
   "outputs": [],
   "source": [
    "data = pd.read_csv('../data/customer_product_sales.csv')"
   ]
  },
  {
   "cell_type": "code",
   "execution_count": 11,
   "metadata": {},
   "outputs": [
    {
     "data": {
      "text/html": "<div>\n<style scoped>\n    .dataframe tbody tr th:only-of-type {\n        vertical-align: middle;\n    }\n\n    .dataframe tbody tr th {\n        vertical-align: top;\n    }\n\n    .dataframe thead th {\n        text-align: right;\n    }\n</style>\n<table border=\"1\" class=\"dataframe\">\n  <thead>\n    <tr style=\"text-align: right;\">\n      <th></th>\n      <th>CustomerID</th>\n      <th>FirstName</th>\n      <th>LastName</th>\n      <th>SalesID</th>\n      <th>ProductID</th>\n      <th>ProductName</th>\n      <th>Quantity</th>\n    </tr>\n  </thead>\n  <tbody>\n    <tr>\n      <th>0</th>\n      <td>61288</td>\n      <td>Rosa</td>\n      <td>Andersen</td>\n      <td>134196</td>\n      <td>229</td>\n      <td>Bread - Hot Dog Buns</td>\n      <td>16</td>\n    </tr>\n    <tr>\n      <th>1</th>\n      <td>77352</td>\n      <td>Myron</td>\n      <td>Murray</td>\n      <td>6167892</td>\n      <td>229</td>\n      <td>Bread - Hot Dog Buns</td>\n      <td>20</td>\n    </tr>\n    <tr>\n      <th>2</th>\n      <td>40094</td>\n      <td>Susan</td>\n      <td>Stevenson</td>\n      <td>5970885</td>\n      <td>229</td>\n      <td>Bread - Hot Dog Buns</td>\n      <td>11</td>\n    </tr>\n    <tr>\n      <th>3</th>\n      <td>23548</td>\n      <td>Tricia</td>\n      <td>Vincent</td>\n      <td>6426954</td>\n      <td>229</td>\n      <td>Bread - Hot Dog Buns</td>\n      <td>6</td>\n    </tr>\n    <tr>\n      <th>4</th>\n      <td>78981</td>\n      <td>Scott</td>\n      <td>Burch</td>\n      <td>819094</td>\n      <td>229</td>\n      <td>Bread - Hot Dog Buns</td>\n      <td>20</td>\n    </tr>\n  </tbody>\n</table>\n</div>",
      "text/plain": "   CustomerID FirstName   LastName  SalesID  ProductID           ProductName  \\\n0       61288      Rosa   Andersen   134196        229  Bread - Hot Dog Buns   \n1       77352     Myron     Murray  6167892        229  Bread - Hot Dog Buns   \n2       40094     Susan  Stevenson  5970885        229  Bread - Hot Dog Buns   \n3       23548    Tricia    Vincent  6426954        229  Bread - Hot Dog Buns   \n4       78981     Scott      Burch   819094        229  Bread - Hot Dog Buns   \n\n   Quantity  \n0        16  \n1        20  \n2        11  \n3         6  \n4        20  "
     },
     "metadata": {},
     "output_type": "display_data"
    },
    {
     "data": {
      "text/plain": "(68584, 7)"
     },
     "execution_count": 11,
     "metadata": {},
     "output_type": "execute_result"
    }
   ],
   "source": [
    "display(data.head())\n",
    "data.shape"
   ]
  },
  {
   "cell_type": "markdown",
   "metadata": {},
   "source": [
    "## Step 1: Create a data frame that contains the total quantity of each product purchased by each customer.\n",
    "\n",
    "You will need to group by CustomerID and ProductName and then sum the Quantity field."
   ]
  },
  {
   "cell_type": "code",
   "execution_count": 73,
   "metadata": {},
   "outputs": [
    {
     "data": {
      "text/html": "<div>\n<style scoped>\n    .dataframe tbody tr th:only-of-type {\n        vertical-align: middle;\n    }\n\n    .dataframe tbody tr th {\n        vertical-align: top;\n    }\n\n    .dataframe thead th {\n        text-align: right;\n    }\n</style>\n<table border=\"1\" class=\"dataframe\">\n  <thead>\n    <tr style=\"text-align: right;\">\n      <th></th>\n      <th>CustomerID</th>\n      <th>ProductID</th>\n      <th>ProductName</th>\n      <th>Quantity</th>\n    </tr>\n  </thead>\n  <tbody>\n    <tr>\n      <th>0</th>\n      <td>33</td>\n      <td>23</td>\n      <td>Crab - Imitation Flakes</td>\n      <td>1</td>\n    </tr>\n    <tr>\n      <th>1</th>\n      <td>33</td>\n      <td>51</td>\n      <td>Wine - Crozes Hermitage E.</td>\n      <td>1</td>\n    </tr>\n    <tr>\n      <th>2</th>\n      <td>33</td>\n      <td>53</td>\n      <td>Cassis</td>\n      <td>1</td>\n    </tr>\n    <tr>\n      <th>3</th>\n      <td>33</td>\n      <td>67</td>\n      <td>Wine - Sogrape Mateus Rose</td>\n      <td>1</td>\n    </tr>\n    <tr>\n      <th>4</th>\n      <td>33</td>\n      <td>70</td>\n      <td>Squid - Tubes / Tenticles 10/20</td>\n      <td>1</td>\n    </tr>\n  </tbody>\n</table>\n</div>",
      "text/plain": "   CustomerID  ProductID                      ProductName  Quantity\n0          33         23          Crab - Imitation Flakes         1\n1          33         51       Wine - Crozes Hermitage E.         1\n2          33         53                           Cassis         1\n3          33         67       Wine - Sogrape Mateus Rose         1\n4          33         70  Squid - Tubes / Tenticles 10/20         1"
     },
     "execution_count": 73,
     "metadata": {},
     "output_type": "execute_result"
    }
   ],
   "source": [
    "#bycust = pd.pivot_table(data, values='Quantity', aggfunc='sum', index='CustomerID', columns=data.columns)\n",
    "\n",
    "qPerCust = data.groupby(['CustomerID', 'ProductID', 'ProductName'], as_index=False).agg({'Quantity': 'sum'})\n",
    "qPerCust.head()"
   ]
  },
  {
   "cell_type": "markdown",
   "metadata": {},
   "source": [
    "## Step 2: Use the `pivot_table` method to create a product by customer matrix.\n",
    "\n",
    "The rows of the matrix should represent the products, the columns should represent the customers, and the values should be the quantities of each product purchased by each customer. You will also need to replace nulls with zeros, which you can do using the `fillna` method."
   ]
  },
  {
   "cell_type": "code",
   "execution_count": 20,
   "metadata": {},
   "outputs": [
    {
     "data": {
      "text/html": "<div>\n<style scoped>\n    .dataframe tbody tr th:only-of-type {\n        vertical-align: middle;\n    }\n\n    .dataframe tbody tr th {\n        vertical-align: top;\n    }\n\n    .dataframe thead th {\n        text-align: right;\n    }\n</style>\n<table border=\"1\" class=\"dataframe\">\n  <thead>\n    <tr style=\"text-align: right;\">\n      <th>CustomerID</th>\n      <th>33</th>\n      <th>200</th>\n      <th>264</th>\n      <th>356</th>\n      <th>412</th>\n      <th>464</th>\n      <th>477</th>\n      <th>639</th>\n      <th>649</th>\n      <th>669</th>\n      <th>...</th>\n      <th>97697</th>\n      <th>97753</th>\n      <th>97769</th>\n      <th>97793</th>\n      <th>97900</th>\n      <th>97928</th>\n      <th>98069</th>\n      <th>98159</th>\n      <th>98185</th>\n      <th>98200</th>\n    </tr>\n    <tr>\n      <th>ProductID</th>\n      <th></th>\n      <th></th>\n      <th></th>\n      <th></th>\n      <th></th>\n      <th></th>\n      <th></th>\n      <th></th>\n      <th></th>\n      <th></th>\n      <th></th>\n      <th></th>\n      <th></th>\n      <th></th>\n      <th></th>\n      <th></th>\n      <th></th>\n      <th></th>\n      <th></th>\n      <th></th>\n      <th></th>\n    </tr>\n  </thead>\n  <tbody>\n    <tr>\n      <th>1</th>\n      <td>NaN</td>\n      <td>NaN</td>\n      <td>NaN</td>\n      <td>NaN</td>\n      <td>NaN</td>\n      <td>NaN</td>\n      <td>NaN</td>\n      <td>1.0</td>\n      <td>NaN</td>\n      <td>NaN</td>\n      <td>...</td>\n      <td>NaN</td>\n      <td>NaN</td>\n      <td>NaN</td>\n      <td>NaN</td>\n      <td>NaN</td>\n      <td>NaN</td>\n      <td>25.0</td>\n      <td>NaN</td>\n      <td>NaN</td>\n      <td>25.0</td>\n    </tr>\n    <tr>\n      <th>2</th>\n      <td>NaN</td>\n      <td>NaN</td>\n      <td>1.0</td>\n      <td>NaN</td>\n      <td>NaN</td>\n      <td>NaN</td>\n      <td>1.0</td>\n      <td>NaN</td>\n      <td>NaN</td>\n      <td>NaN</td>\n      <td>...</td>\n      <td>NaN</td>\n      <td>NaN</td>\n      <td>NaN</td>\n      <td>NaN</td>\n      <td>NaN</td>\n      <td>NaN</td>\n      <td>NaN</td>\n      <td>NaN</td>\n      <td>NaN</td>\n      <td>NaN</td>\n    </tr>\n    <tr>\n      <th>3</th>\n      <td>NaN</td>\n      <td>NaN</td>\n      <td>NaN</td>\n      <td>NaN</td>\n      <td>NaN</td>\n      <td>NaN</td>\n      <td>NaN</td>\n      <td>NaN</td>\n      <td>1.0</td>\n      <td>NaN</td>\n      <td>...</td>\n      <td>NaN</td>\n      <td>NaN</td>\n      <td>NaN</td>\n      <td>NaN</td>\n      <td>NaN</td>\n      <td>NaN</td>\n      <td>NaN</td>\n      <td>NaN</td>\n      <td>NaN</td>\n      <td>NaN</td>\n    </tr>\n    <tr>\n      <th>4</th>\n      <td>NaN</td>\n      <td>1.0</td>\n      <td>NaN</td>\n      <td>NaN</td>\n      <td>NaN</td>\n      <td>NaN</td>\n      <td>1.0</td>\n      <td>1.0</td>\n      <td>NaN</td>\n      <td>1.0</td>\n      <td>...</td>\n      <td>25.0</td>\n      <td>NaN</td>\n      <td>NaN</td>\n      <td>NaN</td>\n      <td>NaN</td>\n      <td>NaN</td>\n      <td>NaN</td>\n      <td>NaN</td>\n      <td>NaN</td>\n      <td>NaN</td>\n    </tr>\n    <tr>\n      <th>5</th>\n      <td>NaN</td>\n      <td>NaN</td>\n      <td>NaN</td>\n      <td>NaN</td>\n      <td>NaN</td>\n      <td>NaN</td>\n      <td>NaN</td>\n      <td>NaN</td>\n      <td>NaN</td>\n      <td>NaN</td>\n      <td>...</td>\n      <td>NaN</td>\n      <td>NaN</td>\n      <td>NaN</td>\n      <td>NaN</td>\n      <td>NaN</td>\n      <td>NaN</td>\n      <td>NaN</td>\n      <td>NaN</td>\n      <td>NaN</td>\n      <td>NaN</td>\n    </tr>\n  </tbody>\n</table>\n<p>5 rows × 1000 columns</p>\n</div>",
      "text/plain": "CustomerID  33     200    264    356    412    464    477    639    649    \\\nProductID                                                                   \n1             NaN    NaN    NaN    NaN    NaN    NaN    NaN    1.0    NaN   \n2             NaN    NaN    1.0    NaN    NaN    NaN    1.0    NaN    NaN   \n3             NaN    NaN    NaN    NaN    NaN    NaN    NaN    NaN    1.0   \n4             NaN    1.0    NaN    NaN    NaN    NaN    1.0    1.0    NaN   \n5             NaN    NaN    NaN    NaN    NaN    NaN    NaN    NaN    NaN   \n\nCustomerID  669    ...  97697  97753  97769  97793  97900  97928  98069  \\\nProductID          ...                                                    \n1             NaN  ...    NaN    NaN    NaN    NaN    NaN    NaN   25.0   \n2             NaN  ...    NaN    NaN    NaN    NaN    NaN    NaN    NaN   \n3             NaN  ...    NaN    NaN    NaN    NaN    NaN    NaN    NaN   \n4             1.0  ...   25.0    NaN    NaN    NaN    NaN    NaN    NaN   \n5             NaN  ...    NaN    NaN    NaN    NaN    NaN    NaN    NaN   \n\nCustomerID  98159  98185  98200  \nProductID                        \n1             NaN    NaN   25.0  \n2             NaN    NaN    NaN  \n3             NaN    NaN    NaN  \n4             NaN    NaN    NaN  \n5             NaN    NaN    NaN  \n\n[5 rows x 1000 columns]"
     },
     "execution_count": 20,
     "metadata": {},
     "output_type": "execute_result"
    }
   ],
   "source": [
    "pivotT = pd.pivot_table(qPerCust, columns='CustomerID', index='ProductID', values='Quantity', aggfunc='sum')\n",
    "pivotT.head()"
   ]
  },
  {
   "cell_type": "code",
   "execution_count": 54,
   "metadata": {},
   "outputs": [],
   "source": [
    "pivotT.fillna(0, inplace=True)"
   ]
  },
  {
   "cell_type": "markdown",
   "metadata": {},
   "source": [
    "## Step 3: Create a customer similarity matrix using `squareform` and `pdist`. For the distance metric, choose \"euclidean.\""
   ]
  },
  {
   "cell_type": "code",
   "execution_count": 55,
   "metadata": {},
   "outputs": [
    {
     "data": {
      "text/plain": "array([256.56578104, 257.46067661, 260.43809245, ..., 268.19582398,\n       253.71243564, 261.21829951])"
     },
     "execution_count": 55,
     "metadata": {},
     "output_type": "execute_result"
    }
   ],
   "source": [
    "pdist(pivotT)"
   ]
  },
  {
   "cell_type": "code",
   "execution_count": 56,
   "metadata": {},
   "outputs": [],
   "source": [
    "distances = pd.DataFrame(1/(1 + squareform(pdist(pivotT.T, 'euclidean'))), \n",
    "                         index=pivotT.columns, columns=pivotT.columns)"
   ]
  },
  {
   "cell_type": "code",
   "execution_count": 57,
   "metadata": {},
   "outputs": [
    {
     "data": {
      "text/html": "<div>\n<style scoped>\n    .dataframe tbody tr th:only-of-type {\n        vertical-align: middle;\n    }\n\n    .dataframe tbody tr th {\n        vertical-align: top;\n    }\n\n    .dataframe thead th {\n        text-align: right;\n    }\n</style>\n<table border=\"1\" class=\"dataframe\">\n  <thead>\n    <tr style=\"text-align: right;\">\n      <th>CustomerID</th>\n      <th>33</th>\n      <th>200</th>\n      <th>264</th>\n      <th>356</th>\n      <th>412</th>\n      <th>464</th>\n      <th>477</th>\n      <th>639</th>\n      <th>649</th>\n      <th>669</th>\n      <th>...</th>\n      <th>97697</th>\n      <th>97753</th>\n      <th>97769</th>\n      <th>97793</th>\n      <th>97900</th>\n      <th>97928</th>\n      <th>98069</th>\n      <th>98159</th>\n      <th>98185</th>\n      <th>98200</th>\n    </tr>\n    <tr>\n      <th>CustomerID</th>\n      <th></th>\n      <th></th>\n      <th></th>\n      <th></th>\n      <th></th>\n      <th></th>\n      <th></th>\n      <th></th>\n      <th></th>\n      <th></th>\n      <th></th>\n      <th></th>\n      <th></th>\n      <th></th>\n      <th></th>\n      <th></th>\n      <th></th>\n      <th></th>\n      <th></th>\n      <th></th>\n      <th></th>\n    </tr>\n  </thead>\n  <tbody>\n    <tr>\n      <th>33</th>\n      <td>1.000000</td>\n      <td>0.077421</td>\n      <td>0.087047</td>\n      <td>0.081800</td>\n      <td>0.080634</td>\n      <td>0.082709</td>\n      <td>0.074573</td>\n      <td>0.083020</td>\n      <td>0.081503</td>\n      <td>0.080070</td>\n      <td>...</td>\n      <td>0.004811</td>\n      <td>0.004669</td>\n      <td>0.004412</td>\n      <td>0.005019</td>\n      <td>0.004312</td>\n      <td>0.004515</td>\n      <td>0.004583</td>\n      <td>0.004355</td>\n      <td>0.004167</td>\n      <td>0.004333</td>\n    </tr>\n    <tr>\n      <th>200</th>\n      <td>0.077421</td>\n      <td>1.000000</td>\n      <td>0.078448</td>\n      <td>0.076435</td>\n      <td>0.073693</td>\n      <td>0.075255</td>\n      <td>0.075956</td>\n      <td>0.076435</td>\n      <td>0.077674</td>\n      <td>0.076923</td>\n      <td>...</td>\n      <td>0.004824</td>\n      <td>0.004681</td>\n      <td>0.004431</td>\n      <td>0.005047</td>\n      <td>0.004311</td>\n      <td>0.004521</td>\n      <td>0.004614</td>\n      <td>0.004367</td>\n      <td>0.004166</td>\n      <td>0.004335</td>\n    </tr>\n    <tr>\n      <th>264</th>\n      <td>0.087047</td>\n      <td>0.078448</td>\n      <td>1.000000</td>\n      <td>0.080070</td>\n      <td>0.081800</td>\n      <td>0.080350</td>\n      <td>0.076923</td>\n      <td>0.080634</td>\n      <td>0.082100</td>\n      <td>0.078448</td>\n      <td>...</td>\n      <td>0.004822</td>\n      <td>0.004674</td>\n      <td>0.004416</td>\n      <td>0.005035</td>\n      <td>0.004322</td>\n      <td>0.004543</td>\n      <td>0.004595</td>\n      <td>0.004365</td>\n      <td>0.004179</td>\n      <td>0.004333</td>\n    </tr>\n    <tr>\n      <th>356</th>\n      <td>0.081800</td>\n      <td>0.076435</td>\n      <td>0.080070</td>\n      <td>1.000000</td>\n      <td>0.076435</td>\n      <td>0.078187</td>\n      <td>0.075025</td>\n      <td>0.082403</td>\n      <td>0.077171</td>\n      <td>0.075956</td>\n      <td>...</td>\n      <td>0.004816</td>\n      <td>0.004671</td>\n      <td>0.004416</td>\n      <td>0.005038</td>\n      <td>0.004310</td>\n      <td>0.004526</td>\n      <td>0.004578</td>\n      <td>0.004365</td>\n      <td>0.004175</td>\n      <td>0.004339</td>\n    </tr>\n    <tr>\n      <th>412</th>\n      <td>0.080634</td>\n      <td>0.073693</td>\n      <td>0.081800</td>\n      <td>0.076435</td>\n      <td>1.000000</td>\n      <td>0.078711</td>\n      <td>0.075025</td>\n      <td>0.082403</td>\n      <td>0.078187</td>\n      <td>0.078448</td>\n      <td>...</td>\n      <td>0.004810</td>\n      <td>0.004702</td>\n      <td>0.004414</td>\n      <td>0.005034</td>\n      <td>0.004318</td>\n      <td>0.004530</td>\n      <td>0.004578</td>\n      <td>0.004367</td>\n      <td>0.004177</td>\n      <td>0.004349</td>\n    </tr>\n  </tbody>\n</table>\n<p>5 rows × 1000 columns</p>\n</div>",
      "text/plain": "CustomerID     33        200       264       356       412       464    \\\nCustomerID                                                               \n33          1.000000  0.077421  0.087047  0.081800  0.080634  0.082709   \n200         0.077421  1.000000  0.078448  0.076435  0.073693  0.075255   \n264         0.087047  0.078448  1.000000  0.080070  0.081800  0.080350   \n356         0.081800  0.076435  0.080070  1.000000  0.076435  0.078187   \n412         0.080634  0.073693  0.081800  0.076435  1.000000  0.078711   \n\nCustomerID     477       639       649       669    ...     97697     97753  \\\nCustomerID                                          ...                       \n33          0.074573  0.083020  0.081503  0.080070  ...  0.004811  0.004669   \n200         0.075956  0.076435  0.077674  0.076923  ...  0.004824  0.004681   \n264         0.076923  0.080634  0.082100  0.078448  ...  0.004822  0.004674   \n356         0.075025  0.082403  0.077171  0.075956  ...  0.004816  0.004671   \n412         0.075025  0.082403  0.078187  0.078448  ...  0.004810  0.004702   \n\nCustomerID     97769     97793     97900     97928     98069     98159  \\\nCustomerID                                                               \n33          0.004412  0.005019  0.004312  0.004515  0.004583  0.004355   \n200         0.004431  0.005047  0.004311  0.004521  0.004614  0.004367   \n264         0.004416  0.005035  0.004322  0.004543  0.004595  0.004365   \n356         0.004416  0.005038  0.004310  0.004526  0.004578  0.004365   \n412         0.004414  0.005034  0.004318  0.004530  0.004578  0.004367   \n\nCustomerID     98185     98200  \nCustomerID                      \n33          0.004167  0.004333  \n200         0.004166  0.004335  \n264         0.004179  0.004333  \n356         0.004175  0.004339  \n412         0.004177  0.004349  \n\n[5 rows x 1000 columns]"
     },
     "execution_count": 57,
     "metadata": {},
     "output_type": "execute_result"
    }
   ],
   "source": [
    "distances.head()"
   ]
  },
  {
   "cell_type": "markdown",
   "metadata": {},
   "source": [
    "## Step 4: Check your results by generating a list of the top 5 most similar customers for a specific CustomerID."
   ]
  },
  {
   "cell_type": "code",
   "execution_count": 70,
   "metadata": {},
   "outputs": [
    {
     "data": {
      "text/plain": "CustomerID\n3535    0.084959\n3317    0.083651\n639     0.083020\n1008    0.082100\n3305    0.081800\nName: 669, dtype: float64"
     },
     "execution_count": 70,
     "metadata": {},
     "output_type": "execute_result"
    }
   ],
   "source": [
    "similarto669 = distances[669].sort_values(ascending=False, na_position='last')[1:6]\n",
    "similarto669"
   ]
  },
  {
   "cell_type": "markdown",
   "metadata": {},
   "source": [
    "## Step 5: From the data frame you created in Step 1, select the records for the list of similar CustomerIDs you obtained in Step 4."
   ]
  },
  {
   "cell_type": "code",
   "execution_count": 74,
   "metadata": {},
   "outputs": [
    {
     "data": {
      "text/html": "<div>\n<style scoped>\n    .dataframe tbody tr th:only-of-type {\n        vertical-align: middle;\n    }\n\n    .dataframe tbody tr th {\n        vertical-align: top;\n    }\n\n    .dataframe thead th {\n        text-align: right;\n    }\n</style>\n<table border=\"1\" class=\"dataframe\">\n  <thead>\n    <tr style=\"text-align: right;\">\n      <th></th>\n      <th>CustomerID</th>\n      <th>ProductID</th>\n      <th>ProductName</th>\n      <th>Quantity</th>\n    </tr>\n  </thead>\n  <tbody>\n    <tr>\n      <th>452</th>\n      <td>639</td>\n      <td>1</td>\n      <td>Flour - Whole Wheat</td>\n      <td>1</td>\n    </tr>\n    <tr>\n      <th>453</th>\n      <td>639</td>\n      <td>4</td>\n      <td>Sauce - Gravy, Au Jus, Mix</td>\n      <td>1</td>\n    </tr>\n    <tr>\n      <th>454</th>\n      <td>639</td>\n      <td>8</td>\n      <td>Halibut - Steaks</td>\n      <td>1</td>\n    </tr>\n    <tr>\n      <th>455</th>\n      <td>639</td>\n      <td>13</td>\n      <td>Water, Tap</td>\n      <td>1</td>\n    </tr>\n    <tr>\n      <th>456</th>\n      <td>639</td>\n      <td>25</td>\n      <td>Soupcontfoam16oz 116con</td>\n      <td>1</td>\n    </tr>\n  </tbody>\n</table>\n</div>",
      "text/plain": "     CustomerID  ProductID                 ProductName  Quantity\n452         639          1         Flour - Whole Wheat         1\n453         639          4  Sauce - Gravy, Au Jus, Mix         1\n454         639          8            Halibut - Steaks         1\n455         639         13                  Water, Tap         1\n456         639         25     Soupcontfoam16oz 116con         1"
     },
     "execution_count": 74,
     "metadata": {},
     "output_type": "execute_result"
    }
   ],
   "source": [
    "productsPurchased = qPerCust[qPerCust.CustomerID.isin(similarto669.keys())]\n",
    "productsPurchased.head()"
   ]
  },
  {
   "cell_type": "markdown",
   "metadata": {},
   "source": [
    "## Step 6: Aggregate those customer purchase records by ProductName, sum the Quantity field, and then rank them in descending order by quantity.\n",
    "\n",
    "This will give you the total number of each product purchased by the 5 most similar customers to the customer you selected in order from most purchased to least."
   ]
  },
  {
   "cell_type": "code",
   "execution_count": 80,
   "metadata": {},
   "outputs": [
    {
     "data": {
      "text/html": "<div>\n<style scoped>\n    .dataframe tbody tr th:only-of-type {\n        vertical-align: middle;\n    }\n\n    .dataframe tbody tr th {\n        vertical-align: top;\n    }\n\n    .dataframe thead th {\n        text-align: right;\n    }\n</style>\n<table border=\"1\" class=\"dataframe\">\n  <thead>\n    <tr style=\"text-align: right;\">\n      <th></th>\n      <th>Quantity</th>\n    </tr>\n    <tr>\n      <th>ProductName</th>\n      <th></th>\n    </tr>\n  </thead>\n  <tbody>\n    <tr>\n      <th>Veal - Inside, Choice</th>\n      <td>4</td>\n    </tr>\n    <tr>\n      <th>Sardines</th>\n      <td>3</td>\n    </tr>\n    <tr>\n      <th>Sauce - Gravy, Au Jus, Mix</th>\n      <td>3</td>\n    </tr>\n    <tr>\n      <th>Wine - Ej Gallo Sierra Valley</th>\n      <td>3</td>\n    </tr>\n    <tr>\n      <th>Cheese - Cambozola</th>\n      <td>3</td>\n    </tr>\n  </tbody>\n</table>\n</div>",
      "text/plain": "                               Quantity\nProductName                            \nVeal - Inside, Choice                 4\nSardines                              3\nSauce - Gravy, Au Jus, Mix            3\nWine - Ej Gallo Sierra Valley         3\nCheese - Cambozola                    3"
     },
     "execution_count": 80,
     "metadata": {},
     "output_type": "execute_result"
    }
   ],
   "source": [
    "allprods669 = productsPurchased.groupby('ProductName').agg({'Quantity':'sum'}).sort_values(by='Quantity', ascending=False)\n",
    "allprods669.head()"
   ]
  },
  {
   "cell_type": "markdown",
   "metadata": {},
   "source": [
    "## Step 7: Filter the list for products that the chosen customer has not yet purchased and then recommend the top 5 products with the highest quantities that are left.\n",
    "\n",
    "- Merge the ranked products data frame with the customer product matrix on the ProductName field.\n",
    "- Filter for records where the chosen customer has not purchased the product.\n",
    "- Show the top 5 results."
   ]
  },
  {
   "cell_type": "code",
   "execution_count": 88,
   "metadata": {},
   "outputs": [
    {
     "data": {
      "text/html": "<div>\n<style scoped>\n    .dataframe tbody tr th:only-of-type {\n        vertical-align: middle;\n    }\n\n    .dataframe tbody tr th {\n        vertical-align: top;\n    }\n\n    .dataframe thead th {\n        text-align: right;\n    }\n</style>\n<table border=\"1\" class=\"dataframe\">\n  <thead>\n    <tr style=\"text-align: right;\">\n      <th></th>\n      <th>CustomerID</th>\n      <th>ProductID</th>\n      <th>ProductName</th>\n      <th>Quantity_x</th>\n      <th>Quantity_y</th>\n    </tr>\n  </thead>\n  <tbody>\n    <tr>\n      <th>0</th>\n      <td>639</td>\n      <td>1</td>\n      <td>Flour - Whole Wheat</td>\n      <td>1</td>\n      <td>1</td>\n    </tr>\n    <tr>\n      <th>1</th>\n      <td>639</td>\n      <td>4</td>\n      <td>Sauce - Gravy, Au Jus, Mix</td>\n      <td>1</td>\n      <td>3</td>\n    </tr>\n    <tr>\n      <th>2</th>\n      <td>1008</td>\n      <td>4</td>\n      <td>Sauce - Gravy, Au Jus, Mix</td>\n      <td>1</td>\n      <td>3</td>\n    </tr>\n    <tr>\n      <th>3</th>\n      <td>3317</td>\n      <td>4</td>\n      <td>Sauce - Gravy, Au Jus, Mix</td>\n      <td>1</td>\n      <td>3</td>\n    </tr>\n    <tr>\n      <th>4</th>\n      <td>639</td>\n      <td>8</td>\n      <td>Halibut - Steaks</td>\n      <td>1</td>\n      <td>2</td>\n    </tr>\n  </tbody>\n</table>\n</div>",
      "text/plain": "   CustomerID  ProductID                 ProductName  Quantity_x  Quantity_y\n0         639          1         Flour - Whole Wheat           1           1\n1         639          4  Sauce - Gravy, Au Jus, Mix           1           3\n2        1008          4  Sauce - Gravy, Au Jus, Mix           1           3\n3        3317          4  Sauce - Gravy, Au Jus, Mix           1           3\n4         639          8            Halibut - Steaks           1           2"
     },
     "execution_count": 88,
     "metadata": {},
     "output_type": "execute_result"
    }
   ],
   "source": [
    "merged = productsPurchased.merge(allprods669, on='ProductName')\n",
    "merged.head()"
   ]
  },
  {
   "cell_type": "code",
   "execution_count": 89,
   "metadata": {},
   "outputs": [
    {
     "data": {
      "text/plain": "Index(['CustomerID', 'ProductID', 'ProductName', 'Quantity_y'], dtype='object')"
     },
     "execution_count": 89,
     "metadata": {},
     "output_type": "execute_result"
    }
   ],
   "source": [
    "merged.drop(columns='Quantity_x', inplace=True)\n"
   ]
  },
  {
   "cell_type": "code",
   "execution_count": 93,
   "metadata": {},
   "outputs": [],
   "source": [
    "merged.rename(columns={'Quantity_y':'quantity'}, inplace=True)"
   ]
  },
  {
   "cell_type": "code",
   "execution_count": 107,
   "metadata": {},
   "outputs": [
    {
     "data": {
      "text/html": "<div>\n<style scoped>\n    .dataframe tbody tr th:only-of-type {\n        vertical-align: middle;\n    }\n\n    .dataframe tbody tr th {\n        vertical-align: top;\n    }\n\n    .dataframe thead th {\n        text-align: right;\n    }\n</style>\n<table border=\"1\" class=\"dataframe\">\n  <thead>\n    <tr style=\"text-align: right;\">\n      <th></th>\n      <th>quantity</th>\n    </tr>\n    <tr>\n      <th>ProductName</th>\n      <th></th>\n    </tr>\n  </thead>\n  <tbody>\n    <tr>\n      <th>Veal - Inside, Choice</th>\n      <td>12</td>\n    </tr>\n    <tr>\n      <th>Wine - Blue Nun Qualitatswein</th>\n      <td>9</td>\n    </tr>\n    <tr>\n      <th>Pepper - Black, Whole</th>\n      <td>6</td>\n    </tr>\n    <tr>\n      <th>Sauce - Gravy, Au Jus, Mix</th>\n      <td>6</td>\n    </tr>\n    <tr>\n      <th>Wine - Ej Gallo Sierra Valley</th>\n      <td>6</td>\n    </tr>\n  </tbody>\n</table>\n</div>",
      "text/plain": "                               quantity\nProductName                            \nVeal - Inside, Choice                12\nWine - Blue Nun Qualitatswein         9\nPepper - Black, Whole                 6\nSauce - Gravy, Au Jus, Mix            6\nWine - Ej Gallo Sierra Valley         6"
     },
     "execution_count": 107,
     "metadata": {},
     "output_type": "execute_result"
    }
   ],
   "source": [
    "mergedNotPurchased = merged[merged.CustomerID != 639]\n",
    "topAndQ = mergedNotPurchased.groupby('ProductName').agg({'quantity':'sum'}).sort_values(by='quantity', ascending=False)[:5]\n",
    "topAndQ"
   ]
  },
  {
   "cell_type": "code",
   "execution_count": 111,
   "metadata": {},
   "outputs": [
    {
     "data": {
      "text/plain": "['Veal - Inside, Choice',\n 'Wine - Blue Nun Qualitatswein',\n 'Pepper - Black, Whole',\n 'Sauce - Gravy, Au Jus, Mix',\n 'Wine - Ej Gallo Sierra Valley']"
     },
     "execution_count": 111,
     "metadata": {},
     "output_type": "execute_result"
    }
   ],
   "source": [
    "top = mergedNotPurchased.groupby('ProductName').agg({'quantity':'sum'}).sort_values(by='quantity', ascending=False)[:5].index\n",
    "list(top)"
   ]
  },
  {
   "cell_type": "code",
   "execution_count": null,
   "metadata": {},
   "outputs": [],
   "source": []
  },
  {
   "cell_type": "markdown",
   "metadata": {},
   "source": [
    "## Step 8: Now that we have generated product recommendations for a single user, put the pieces together and iterate over a list of all CustomerIDs.\n",
    "\n",
    "- Create an empty dictionary that will hold the recommendations for all customers.\n",
    "- Create a list of unique CustomerIDs to iterate over.\n",
    "- Iterate over the customer list performing steps 4 through 7 for each and appending the results of each iteration to the dictionary you created."
   ]
  },
  {
   "cell_type": "code",
   "execution_count": 118,
   "metadata": {},
   "outputs": [],
   "source": [
    "def getReccomendations(customerID):\n",
    "    similartoCustID = distances[customerID].sort_values(ascending=False, na_position='last')[1:6]\n",
    "    productsPurchased = qPerCust[qPerCust.CustomerID.isin(similartoCustID.keys())]\n",
    "    allprodscustomer = productsPurchased.groupby('ProductName').agg({'Quantity':'sum'}).sort_values(by='Quantity', ascending=False)\n",
    "    merged = productsPurchased.merge(allprodscustomer, on='ProductName')\n",
    "    mergedNotPurchased = merged[merged.CustomerID != customerID]\n",
    "    top = mergedNotPurchased.groupby('ProductName').agg({'Quantity_y':'sum'}).sort_values(by='Quantity_y', ascending=False)[:5].index\n",
    "    return list(top)"
   ]
  },
  {
   "cell_type": "code",
   "execution_count": 119,
   "metadata": {},
   "outputs": [
    {
     "data": {
      "text/plain": "['Wine - Blue Nun Qualitatswein',\n 'Soup - Campbells Bean Medley',\n 'Towels - Paper / Kraft',\n 'Butter - Unsalted',\n 'Pepper - Black, Whole']"
     },
     "execution_count": 119,
     "metadata": {},
     "output_type": "execute_result"
    }
   ],
   "source": [
    "getReccomendations(33)"
   ]
  },
  {
   "cell_type": "code",
   "execution_count": 122,
   "metadata": {},
   "outputs": [],
   "source": [
    "custAndProducts = {}\n",
    "for customer in distances.index:\n",
    "    custAndProducts[customer] = getReccomendations(customer)\n"
   ]
  },
  {
   "cell_type": "code",
   "execution_count": 131,
   "metadata": {},
   "outputs": [],
   "source": [
    "#custAndProducts"
   ]
  },
  {
   "cell_type": "code",
   "execution_count": 132,
   "metadata": {},
   "outputs": [
    {
     "data": {
      "text/plain": "1000"
     },
     "execution_count": 132,
     "metadata": {},
     "output_type": "execute_result"
    }
   ],
   "source": [
    "len(custAndProducts)"
   ]
  },
  {
   "cell_type": "markdown",
   "metadata": {},
   "source": [
    "##  Step 9: Store the results in a Pandas data frame. The data frame should a column for Customer ID and then a column for each of the 5 product recommendations for each customer."
   ]
  },
  {
   "cell_type": "code",
   "execution_count": 135,
   "metadata": {},
   "outputs": [
    {
     "data": {
      "text/html": "<div>\n<style scoped>\n    .dataframe tbody tr th:only-of-type {\n        vertical-align: middle;\n    }\n\n    .dataframe tbody tr th {\n        vertical-align: top;\n    }\n\n    .dataframe thead th {\n        text-align: right;\n    }\n</style>\n<table border=\"1\" class=\"dataframe\">\n  <thead>\n    <tr style=\"text-align: right;\">\n      <th></th>\n      <th>0</th>\n      <th>1</th>\n      <th>2</th>\n      <th>3</th>\n      <th>4</th>\n    </tr>\n  </thead>\n  <tbody>\n    <tr>\n      <th>33</th>\n      <td>Wine - Blue Nun Qualitatswein</td>\n      <td>Soup - Campbells Bean Medley</td>\n      <td>Towels - Paper / Kraft</td>\n      <td>Butter - Unsalted</td>\n      <td>Pepper - Black, Whole</td>\n    </tr>\n    <tr>\n      <th>200</th>\n      <td>Soup - Campbells Bean Medley</td>\n      <td>Wanton Wrap</td>\n      <td>Lamb - Ground</td>\n      <td>Muffin - Carrot Individual Wrap</td>\n      <td>Pepper - Black, Whole</td>\n    </tr>\n    <tr>\n      <th>264</th>\n      <td>Soupfoamcont12oz 112con</td>\n      <td>Fish - Scallops, Cold Smoked</td>\n      <td>Potatoes - Idaho 100 Count</td>\n      <td>Wine - Two Oceans Cabernet</td>\n      <td>Wine - Blue Nun Qualitatswein</td>\n    </tr>\n    <tr>\n      <th>356</th>\n      <td>Veal - Inside, Choice</td>\n      <td>Wine - Blue Nun Qualitatswein</td>\n      <td>Tart Shells - Sweet, 4</td>\n      <td>Potatoes - Idaho 100 Count</td>\n      <td>Beef - Inside Round</td>\n    </tr>\n    <tr>\n      <th>412</th>\n      <td>Olive - Spread Tapenade</td>\n      <td>Wine - Blue Nun Qualitatswein</td>\n      <td>Sprouts - Baby Pea Tendrils</td>\n      <td>Soup - Campbells Bean Medley</td>\n      <td>Veal - Inside, Choice</td>\n    </tr>\n    <tr>\n      <th>...</th>\n      <td>...</td>\n      <td>...</td>\n      <td>...</td>\n      <td>...</td>\n      <td>...</td>\n    </tr>\n    <tr>\n      <th>97928</th>\n      <td>Bouq All Italian - Primerba</td>\n      <td>Cheese - Brie,danish</td>\n      <td>Tea - Jasmin Green</td>\n      <td>Bacardi Breezer - Tropical</td>\n      <td>Shrimp - 31/40</td>\n    </tr>\n    <tr>\n      <th>98069</th>\n      <td>Skirt - 29 Foot</td>\n      <td>Chocolate - Dark</td>\n      <td>Sprouts - Baby Pea Tendrils</td>\n      <td>Mustard Prepared</td>\n      <td>Sugar - Fine</td>\n    </tr>\n    <tr>\n      <th>98159</th>\n      <td>Chips Potato All Dressed - 43g</td>\n      <td>Lamb - Whole, Fresh</td>\n      <td>Table Cloth 81x81 White</td>\n      <td>Ice - Clear, 300 Lb For Carving</td>\n      <td>Curry Paste - Madras</td>\n    </tr>\n    <tr>\n      <th>98185</th>\n      <td>Halibut - Steaks</td>\n      <td>Cod - Black Whole Fillet</td>\n      <td>Chicken - Wieners</td>\n      <td>Turkey - Oven Roast Breast</td>\n      <td>Wine - Pinot Noir Latour</td>\n    </tr>\n    <tr>\n      <th>98200</th>\n      <td>Sea Bass - Whole</td>\n      <td>Sherry - Dry</td>\n      <td>Ecolab - Mikroklene 4/4 L</td>\n      <td>Soup - Campbells, Cream Of</td>\n      <td>Apricots - Halves</td>\n    </tr>\n  </tbody>\n</table>\n<p>1000 rows × 5 columns</p>\n</div>",
      "text/plain": "                                    0                              1  \\\n33      Wine - Blue Nun Qualitatswein   Soup - Campbells Bean Medley   \n200      Soup - Campbells Bean Medley                    Wanton Wrap   \n264           Soupfoamcont12oz 112con   Fish - Scallops, Cold Smoked   \n356             Veal - Inside, Choice  Wine - Blue Nun Qualitatswein   \n412           Olive - Spread Tapenade  Wine - Blue Nun Qualitatswein   \n...                               ...                            ...   \n97928     Bouq All Italian - Primerba           Cheese - Brie,danish   \n98069                 Skirt - 29 Foot               Chocolate - Dark   \n98159  Chips Potato All Dressed - 43g            Lamb - Whole, Fresh   \n98185                Halibut - Steaks       Cod - Black Whole Fillet   \n98200                Sea Bass - Whole                   Sherry - Dry   \n\n                                 2                                3  \\\n33          Towels - Paper / Kraft                Butter - Unsalted   \n200                  Lamb - Ground  Muffin - Carrot Individual Wrap   \n264     Potatoes - Idaho 100 Count       Wine - Two Oceans Cabernet   \n356         Tart Shells - Sweet, 4       Potatoes - Idaho 100 Count   \n412    Sprouts - Baby Pea Tendrils     Soup - Campbells Bean Medley   \n...                            ...                              ...   \n97928           Tea - Jasmin Green       Bacardi Breezer - Tropical   \n98069  Sprouts - Baby Pea Tendrils                 Mustard Prepared   \n98159      Table Cloth 81x81 White  Ice - Clear, 300 Lb For Carving   \n98185            Chicken - Wieners       Turkey - Oven Roast Breast   \n98200    Ecolab - Mikroklene 4/4 L       Soup - Campbells, Cream Of   \n\n                                   4  \n33             Pepper - Black, Whole  \n200            Pepper - Black, Whole  \n264    Wine - Blue Nun Qualitatswein  \n356              Beef - Inside Round  \n412            Veal - Inside, Choice  \n...                              ...  \n97928                 Shrimp - 31/40  \n98069                   Sugar - Fine  \n98159           Curry Paste - Madras  \n98185       Wine - Pinot Noir Latour  \n98200              Apricots - Halves  \n\n[1000 rows x 5 columns]"
     },
     "execution_count": 135,
     "metadata": {},
     "output_type": "execute_result"
    }
   ],
   "source": [
    "pd.DataFrame.from_dict(custAndProducts, orient='index')"
   ]
  },
  {
   "cell_type": "markdown",
   "metadata": {},
   "source": [
    "## Step 10: Change the distance metric used in Step 3 to something other than euclidean (correlation, cityblock, consine, jaccard, etc.). Regenerate the recommendations for all customers and note the differences."
   ]
  },
  {
   "cell_type": "code",
   "execution_count": 136,
   "metadata": {},
   "outputs": [],
   "source": [
    "distances = pd.DataFrame(1/(1 + squareform(pdist(pivotT.T, 'jaccard'))), \n",
    "                         index=pivotT.columns, columns=pivotT.columns)"
   ]
  },
  {
   "cell_type": "code",
   "execution_count": 137,
   "metadata": {},
   "outputs": [
    {
     "data": {
      "text/html": "<div>\n<style scoped>\n    .dataframe tbody tr th:only-of-type {\n        vertical-align: middle;\n    }\n\n    .dataframe tbody tr th {\n        vertical-align: top;\n    }\n\n    .dataframe thead th {\n        text-align: right;\n    }\n</style>\n<table border=\"1\" class=\"dataframe\">\n  <thead>\n    <tr style=\"text-align: right;\">\n      <th></th>\n      <th>0</th>\n      <th>1</th>\n      <th>2</th>\n      <th>3</th>\n      <th>4</th>\n    </tr>\n  </thead>\n  <tbody>\n    <tr>\n      <th>33</th>\n      <td>Loquat</td>\n      <td>Tea - Jasmin Green</td>\n      <td>Bananas</td>\n      <td>Quiche Assorted</td>\n      <td>Cheese Cloth No 100</td>\n    </tr>\n    <tr>\n      <th>200</th>\n      <td>Muffin - Carrot Individual Wrap</td>\n      <td>Beans - Kidney, Canned</td>\n      <td>Beef Ground Medium</td>\n      <td>Wine - Gato Negro Cabernet</td>\n      <td>Olives - Stuffed</td>\n    </tr>\n    <tr>\n      <th>264</th>\n      <td>Wine - Two Oceans Cabernet</td>\n      <td>Sauce - Demi Glace</td>\n      <td>Flavouring - Orange</td>\n      <td>Grouper - Fresh</td>\n      <td>Lettuce - Spring Mix</td>\n    </tr>\n    <tr>\n      <th>356</th>\n      <td>Veal - Inside, Choice</td>\n      <td>Potatoes - Idaho 100 Count</td>\n      <td>Bread - Italian Roll With Herbs</td>\n      <td>Corn Meal</td>\n      <td>Tart Shells - Sweet, 4</td>\n    </tr>\n    <tr>\n      <th>412</th>\n      <td>Wine - Wyndham Estate Bin 777</td>\n      <td>Curry Paste - Madras</td>\n      <td>Scallop - St. Jaques</td>\n      <td>Wonton Wrappers</td>\n      <td>Banana - Leaves</td>\n    </tr>\n    <tr>\n      <th>...</th>\n      <td>...</td>\n      <td>...</td>\n      <td>...</td>\n      <td>...</td>\n      <td>...</td>\n    </tr>\n    <tr>\n      <th>97928</th>\n      <td>Pernod</td>\n      <td>Pastry - Choclate Baked</td>\n      <td>Tray - 16in Rnd Blk</td>\n      <td>Wine - White, Mosel Gold</td>\n      <td>Table Cloth 81x81 White</td>\n    </tr>\n    <tr>\n      <th>98069</th>\n      <td>Spinach - Baby</td>\n      <td>Tea - Jasmin Green</td>\n      <td>Bread - French Baquette</td>\n      <td>Cheese - Parmesan Cubes</td>\n      <td>Tuna - Salad Premix</td>\n    </tr>\n    <tr>\n      <th>98159</th>\n      <td>Chocolate - Compound Coating</td>\n      <td>Oil - Shortening - All - Purpose</td>\n      <td>Wine - White, Mosel Gold</td>\n      <td>Apricots - Halves</td>\n      <td>Mustard Prepared</td>\n    </tr>\n    <tr>\n      <th>98185</th>\n      <td>Nut - Pistachio, Shelled</td>\n      <td>Cheese - Cheddarsliced</td>\n      <td>Cheese - Brie,danish</td>\n      <td>Pasta - Detalini, White, Fresh</td>\n      <td>Juice - Apple Cider</td>\n    </tr>\n    <tr>\n      <th>98200</th>\n      <td>Wasabi Powder</td>\n      <td>Muffin - Carrot Individual Wrap</td>\n      <td>Wine - Magnotta - Belpaese</td>\n      <td>Rum - Coconut, Malibu</td>\n      <td>Pasta - Detalini, White, Fresh</td>\n    </tr>\n  </tbody>\n</table>\n<p>1000 rows × 5 columns</p>\n</div>",
      "text/plain": "                                     0                                 1  \\\n33                              Loquat                Tea - Jasmin Green   \n200    Muffin - Carrot Individual Wrap            Beans - Kidney, Canned   \n264         Wine - Two Oceans Cabernet                Sauce - Demi Glace   \n356              Veal - Inside, Choice        Potatoes - Idaho 100 Count   \n412      Wine - Wyndham Estate Bin 777              Curry Paste - Madras   \n...                                ...                               ...   \n97928                           Pernod           Pastry - Choclate Baked   \n98069                   Spinach - Baby                Tea - Jasmin Green   \n98159     Chocolate - Compound Coating  Oil - Shortening - All - Purpose   \n98185         Nut - Pistachio, Shelled            Cheese - Cheddarsliced   \n98200                    Wasabi Powder   Muffin - Carrot Individual Wrap   \n\n                                     2                               3  \\\n33                             Bananas                 Quiche Assorted   \n200                 Beef Ground Medium      Wine - Gato Negro Cabernet   \n264                Flavouring - Orange                 Grouper - Fresh   \n356    Bread - Italian Roll With Herbs                       Corn Meal   \n412               Scallop - St. Jaques                 Wonton Wrappers   \n...                                ...                             ...   \n97928              Tray - 16in Rnd Blk        Wine - White, Mosel Gold   \n98069          Bread - French Baquette         Cheese - Parmesan Cubes   \n98159         Wine - White, Mosel Gold               Apricots - Halves   \n98185             Cheese - Brie,danish  Pasta - Detalini, White, Fresh   \n98200       Wine - Magnotta - Belpaese           Rum - Coconut, Malibu   \n\n                                    4  \n33                Cheese Cloth No 100  \n200                  Olives - Stuffed  \n264              Lettuce - Spring Mix  \n356            Tart Shells - Sweet, 4  \n412                   Banana - Leaves  \n...                               ...  \n97928         Table Cloth 81x81 White  \n98069             Tuna - Salad Premix  \n98159                Mustard Prepared  \n98185             Juice - Apple Cider  \n98200  Pasta - Detalini, White, Fresh  \n\n[1000 rows x 5 columns]"
     },
     "execution_count": 137,
     "metadata": {},
     "output_type": "execute_result"
    }
   ],
   "source": [
    "custAndProducts2 = {}\n",
    "for customer in distances.index:\n",
    "    custAndProducts2[customer] = getReccomendations(customer)\n",
    "\n",
    "pd.DataFrame.from_dict(custAndProducts2, orient='index')"
   ]
  },
  {
   "cell_type": "code",
   "execution_count": null,
   "metadata": {},
   "outputs": [],
   "source": []
  }
 ],
 "metadata": {
  "kernelspec": {
   "display_name": "Python 3",
   "language": "python",
   "name": "python3"
  },
  "language_info": {
   "codemirror_mode": {
    "name": "ipython",
    "version": 3
   },
   "file_extension": ".py",
   "mimetype": "text/x-python",
   "name": "python",
   "nbconvert_exporter": "python",
   "pygments_lexer": "ipython3",
   "version": "3.7.6-final"
  }
 },
 "nbformat": 4,
 "nbformat_minor": 2
}