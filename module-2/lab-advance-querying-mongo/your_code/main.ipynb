{
 "cells": [
  {
   "cell_type": "markdown",
   "metadata": {},
   "source": [
    "# Advanced Querying Mongo"
   ]
  },
  {
   "cell_type": "markdown",
   "metadata": {},
   "source": [
    "Importing libraries and setting up connection"
   ]
  },
  {
   "cell_type": "code",
   "execution_count": 3,
   "metadata": {},
   "outputs": [],
   "source": [
    "from pymongo import MongoClient\n",
    "\n",
    "client = MongoClient(\"mongodb://localhost/companies\")"
   ]
  },
  {
   "cell_type": "code",
   "execution_count": 9,
   "metadata": {},
   "outputs": [
    {
     "data": {
      "text/plain": "<pymongo.cursor.Cursor at 0x7f5cecaed310>"
     },
     "execution_count": 9,
     "metadata": {},
     "output_type": "execute_result"
    }
   ],
   "source": [
    "db = client.get_database()\n",
    "c = \"companies\"\n",
    "db[c].find()[:1]"
   ]
  },
  {
   "cell_type": "markdown",
   "metadata": {},
   "source": [
    "### 1. All the companies whose name match 'Babelgum'. Retrieve only their `name` field."
   ]
  },
  {
   "cell_type": "code",
   "execution_count": 23,
   "metadata": {},
   "outputs": [
    {
     "data": {
      "text/plain": "'Babelgum'"
     },
     "execution_count": 23,
     "metadata": {},
     "output_type": "execute_result"
    }
   ],
   "source": [
    "# Your Code\n",
    "babel = list(db[c].find({\"name\":\"Babelgum\"}))\n",
    "babel[0]\n",
    "len(babel)\n",
    "babel[0].keys()\n",
    "babel[0]['name']"
   ]
  },
  {
   "cell_type": "markdown",
   "metadata": {},
   "source": [
    "### 2. All the companies that have more than 5000 employees. Limit the search to 20 companies and sort them by **number of employees**."
   ]
  },
  {
   "cell_type": "code",
   "execution_count": 62,
   "metadata": {},
   "outputs": [
    {
     "name": "stdout",
     "output_type": "stream",
     "text": "Siemens 405000\nIBM 388000\nToyota 320000\nPayPal 300000\nNippon Telegraph and Telephone Corporation 227000\nSamsung Electronics 221726\nAccenture 205000\nTata Consultancy Services 200300\nFlextronics International 200000\nSafeway 186000\nSony 180500\nLG 177000\nFord 171000\nBoeing 160000\nDigital Equipment Corporation 140000\nNokia 125000\nMItsubishi Electric 107000\nMItsubishi Electric 107000\nComcast 100000\nBertelsmann 100000\n"
    }
   ],
   "source": [
    "bigcompanies = db[c].find({\"number_of_employees\": {\"$gt\": 5000}}).limit(20).sort(\"number_of_employees\", -1)\n",
    "for dict in bigcompanies:\n",
    "    print(dict['name'], dict['number_of_employees'])"
   ]
  },
  {
   "cell_type": "markdown",
   "metadata": {},
   "source": [
    "### 3. All the companies founded between 2000 and 2005, both years included. Retrieve only the `name` and `founded_year` fields."
   ]
  },
  {
   "cell_type": "code",
   "execution_count": 67,
   "metadata": {},
   "outputs": [
    {
     "name": "stdout",
     "output_type": "stream",
     "text": "Wetpaint   2005\nOmnidrive   2005\nZoho   2005\nGizmoz   2003\nDigg   2004\nHelio   2005\nStumbleUpon   2002\nPlaxo   2002\nTechnorati   2002\nAddThis   2004\nVeoh   2004\nJingle Networks   2005\nMeetup   2002\nFacebook   2004\nLifeLock   2005\nJangl SMS   2005\nWesabe   2005\nSmugMug   2002\nJajah   2005\nYouTube   2005\n"
    }
   ],
   "source": [
    "comps2k = db[c].find({\"$and\": [{\"founded_year\": {\"$gte\":2000}}, {\"founded_year\":{\"$lte\":2005}}]})\n",
    "for e in comps2k[:20]:\n",
    "    print(e[\"name\"],' ',e['founded_year'])\n"
   ]
  },
  {
   "cell_type": "markdown",
   "metadata": {},
   "source": [
    "### 4. All the companies that had a Valuation Amount of more than 100.000.000 and have been founded before 2010. Retrieve only the `name` and `ipo` fields."
   ]
  },
  {
   "cell_type": "code",
   "execution_count": 114,
   "metadata": {},
   "outputs": [],
   "source": [
    "# def getattrib(cursor,*args, lim=10):\n",
    "#     return [[e[arg] for e in cursor[:lim]] for arg in args]\n",
    "\n",
    "# def getattrib(cursor,*args, lim=10):\n",
    "#     for e in cursor[:lim]:\n",
    "#         print(\";\".join([e[arg] for arg in args]))\n",
    "\n",
    "def names(cursor, lim=10):\n",
    "    for e in cursor[:lim]:\n",
    "        print(e['name'])"
   ]
  },
  {
   "cell_type": "code",
   "execution_count": 82,
   "metadata": {},
   "outputs": [
    {
     "name": "stdout",
     "output_type": "stream",
     "text": "Twitter {'valuation_amount': 18100000000, 'valuation_currency_code': 'USD', 'pub_year': 2013, 'pub_month': 11, 'pub_day': 7, 'stock_symbol': 'NYSE:TWTR'}\nFacebook {'valuation_amount': 104000000000, 'valuation_currency_code': 'USD', 'pub_year': 2012, 'pub_month': 5, 'pub_day': 18, 'stock_symbol': 'NASDAQ:FB'}\nYelp {'valuation_amount': 1300000000, 'valuation_currency_code': 'USD', 'pub_year': 2012, 'pub_month': 3, 'pub_day': 2, 'stock_symbol': 'NYSE:YELP'}\nLinkedIn {'valuation_amount': 9310000000, 'valuation_currency_code': 'USD', 'pub_year': 2011, 'pub_month': 7, 'pub_day': 20, 'stock_symbol': 'NYSE:LNKD'}\nBrightcove {'valuation_amount': 290000000, 'valuation_currency_code': 'USD', 'pub_year': 2012, 'pub_month': 2, 'pub_day': 17, 'stock_symbol': 'NASDAQ:BCOV'}\n"
    }
   ],
   "source": [
    "valuable = db[c].find({\"$and\": [ {\"ipo.valuation_amount\":{\"$gte\":1E8}}, {\"founded_year\": {\"$lt\": 2010}} ] })\n",
    "\n",
    "\n",
    "for e in valuable[:5]:\n",
    "    print(e[\"name\"], e[\"ipo\"])\n"
   ]
  },
  {
   "cell_type": "markdown",
   "metadata": {},
   "source": [
    "### 5. All the companies that have less than 1000 employees and have been founded before 2005. Order them by the number of employees and limit the search to 10 companies."
   ]
  },
  {
   "cell_type": "code",
   "execution_count": 90,
   "metadata": {},
   "outputs": [
    {
     "name": "stdout",
     "output_type": "stream",
     "text": "AdventNet\nDigg\nFox Interactive Media\nPlaxo\nTechnorati\nAddThis\nMeetup\nSmugMug\nPando Networks\nIkan\n"
    }
   ],
   "source": [
    "smol = db[c].find({\"$and\": [ {\"number_of_employees\": {\"$lt\": 1000}}, {\"founded_year\": {\"$lt\": 2005}} ] } ).limit(10)\n",
    "\n",
    "for e in smol:\n",
    "    print(e[\"name\"])"
   ]
  },
  {
   "cell_type": "markdown",
   "metadata": {},
   "source": [
    "### 6. All the companies that don't include the `partners` field."
   ]
  },
  {
   "cell_type": "code",
   "execution_count": 138,
   "metadata": {},
   "outputs": [],
   "source": [
    "nopartner = db[c].find({\"partners\": \"null\" })\n",
    "\n",
    "#nopartner[0] \n",
    "#Returns an error, bc the query is empty, there no companies without a partners field."
   ]
  },
  {
   "cell_type": "code",
   "execution_count": 140,
   "metadata": {},
   "outputs": [
    {
     "name": "stdout",
     "output_type": "stream",
     "text": "AdventNet\nWetpaint\nOmnidrive\nZoho\nPostini\nGeni\nGizmoz\nDigg\nSlacker\nScribd\n"
    }
   ],
   "source": [
    "nopartner = db[c].find({\"partners\": []}) #Asi si los encuentra  \n",
    "\n",
    "names(nopartner)"
   ]
  },
  {
   "cell_type": "code",
   "execution_count": null,
   "metadata": {},
   "outputs": [],
   "source": []
  },
  {
   "cell_type": "markdown",
   "metadata": {},
   "source": [
    "### 7. All the companies that have a null type of value on the `category_code` field."
   ]
  },
  {
   "cell_type": "code",
   "execution_count": 112,
   "metadata": {},
   "outputs": [
    {
     "name": "stdout",
     "output_type": "stream",
     "text": "Collective\nKoolIM\nSnimmer\nLevel9 Media\nVidKing\nDrigg\nSpaceTime\nTouch Clarity\nMMDAYS\nInside Group\n"
    }
   ],
   "source": [
    "nocat = db[c].find( { \"category_code\" : { \"$type\": 10 } })\n",
    "#for e in nocat['name']\n",
    "\n",
    "names(nocat)"
   ]
  },
  {
   "cell_type": "markdown",
   "metadata": {},
   "source": [
    "### 8. All the companies that have at least 100 employees but less than 1000. Retrieve only the `name` and `number of employees` fields."
   ]
  },
  {
   "cell_type": "code",
   "execution_count": 117,
   "metadata": {},
   "outputs": [
    {
     "name": "stdout",
     "output_type": "stream",
     "text": "AdventNet 600\nAddThis 120\nLifeLock 644\nOpenX 305\nJajah 110\nLivestream 120\nUstream 250\niContact 300\nYelp 800\nDailymotion 120\n"
    }
   ],
   "source": [
    "medium = db[c].find({\"$and\": [{\"number_of_employees\":{\"$gte\":100}}, {\"number_of_employees\":{\"$lt\":1000}}]})\n",
    "for e in medium[:10]:\n",
    "    print(e['name'],e[\"number_of_employees\"])"
   ]
  },
  {
   "cell_type": "markdown",
   "metadata": {},
   "source": [
    "### 9. Order all the companies by their IPO price in a descending order."
   ]
  },
  {
   "cell_type": "code",
   "execution_count": 122,
   "metadata": {},
   "outputs": [
    {
     "name": "stdout",
     "output_type": "stream",
     "text": "GREE\nFacebook\nAmazon\nTwitter\nGroupon\nTencent\nWestern Digital\nLinkedIn\nBMC Software\nRackspace\n"
    }
   ],
   "source": [
    "orderprice = db[c].find().sort(\"ipo.valuation_amount\", -1)\n",
    "names(orderprice)"
   ]
  },
  {
   "cell_type": "markdown",
   "metadata": {},
   "source": [
    "### 10. Retrieve the 10 companies with more employees, order by the `number of employees`"
   ]
  },
  {
   "cell_type": "code",
   "execution_count": 124,
   "metadata": {},
   "outputs": [
    {
     "name": "stdout",
     "output_type": "stream",
     "text": "Siemens\nIBM\nToyota\nPayPal\nNippon Telegraph and Telephone Corporation\nSamsung Electronics\nAccenture\nTata Consultancy Services\nFlextronics International\nSafeway\n"
    }
   ],
   "source": [
    "comp = db[c]\n",
    "emp10 = comp.find().sort(\"number_of_employees\", -1).limit(10)\n",
    "names(emp10)"
   ]
  },
  {
   "cell_type": "markdown",
   "metadata": {},
   "source": [
    "### 11. All the companies founded on the second semester of the year. Limit your search to 1000 companies."
   ]
  },
  {
   "cell_type": "code",
   "execution_count": 175,
   "metadata": {},
   "outputs": [
    {
     "name": "stdout",
     "output_type": "stream",
     "text": "Wetpaint\nOmnidrive\nZoho\nPostini\nGeni\nDigg\nFox Interactive Media\nJoost\nPlaxo\nTechnorati\n"
    }
   ],
   "source": [
    "rang = [e for e in range(6,13)]\n",
    "secondtrim = comp.find({\"founded_month\":{\"$in\": rang}}).limit(1000)\n",
    "names(secondtrim)"
   ]
  },
  {
   "cell_type": "markdown",
   "metadata": {},
   "source": [
    "### 12. All the companies founded before 2000 that have an acquisition amount of more than 1.000.000"
   ]
  },
  {
   "cell_type": "code",
   "execution_count": 142,
   "metadata": {},
   "outputs": [
    {
     "name": "stdout",
     "output_type": "stream",
     "text": "Postini\nSideStep\nRecipezaar\nCyworld\nPayPal\nSnapfish\nNeopets\nZappos\nAlibaba\nSun Microsystems\n"
    }
   ],
   "source": [
    "bef2000 = comp.find({\"$and\":[{\"founded_year\":{\"$lt\":2000}},{\"acquisition.price_amount\":{\"$gt\":1E6}}]})\n",
    "names(bef2000)"
   ]
  },
  {
   "cell_type": "markdown",
   "metadata": {},
   "source": [
    "### 13. All the companies that have been acquired after 2010, order by the acquisition amount, and retrieve only their `name` and `acquisition` field."
   ]
  },
  {
   "cell_type": "code",
   "execution_count": 149,
   "metadata": {},
   "outputs": [
    {
     "name": "stdout",
     "output_type": "stream",
     "text": "Geni {'price_amount': None, 'price_currency_code': 'USD', 'term_code': None, 'source_url': 'http://techcrunch.com/2012/11/28/all-in-the-family-myheritage-buys-former-yammer-stablemate-geni-com-raises-25m/', 'source_description': 'MyHeritage acquires Geni and $25M to build family tree of the whole world', 'acquired_year': 2012, 'acquired_month': 11, 'acquired_day': 28, 'acquiring_company': {'name': 'MyHeritage', 'permalink': 'myheritage'}}\nKyte {'price_amount': None, 'price_currency_code': 'USD', 'term_code': None, 'source_url': 'http://techcrunch.com/2011/01/31/exclusive-kit-digital-acquires-kickapps-kewego-and-kyte-for-77-2-million/', 'source_description': 'KIT digital Acquires KickApps, Kewego AND Kyte For $77.2 Million', 'acquired_year': 2011, 'acquired_month': 1, 'acquired_day': 31, 'acquiring_company': {'name': 'KIT digital', 'permalink': 'kit-digital'}}\nblogTV {'price_amount': None, 'price_currency_code': 'USD', 'term_code': None, 'source_url': 'http://techcrunch.com/2013/03/13/younow-buys-blogtv/', 'source_description': 'Live Social Video Network YouNow Acquires Streaming Service BlogTV', 'acquired_year': 2013, 'acquired_month': 3, 'acquired_day': 13, 'acquiring_company': {'name': 'YouNow', 'permalink': 'younow'}}\ndelicious {'price_amount': None, 'price_currency_code': 'USD', 'term_code': None, 'source_url': 'http://techcrunch.com/2011/04/27/yahoo-sells-delicious-to-youtube-founders/', 'source_description': 'Yahoo Sells Delicious To YouTube Founders', 'acquired_year': 2011, 'acquired_month': 4, 'acquired_day': 27, 'acquiring_company': {'name': 'AVOS Systems', 'permalink': 'avos'}}\nMashery {'price_amount': None, 'price_currency_code': 'USD', 'term_code': None, 'source_url': 'http://allthingsd.com/20130417/intel-acquires-api-manager-mashery/', 'source_description': 'Intel Acquires API Manager Mashery', 'acquired_year': 2013, 'acquired_month': 4, 'acquired_day': 17, 'acquiring_company': {'name': 'Intel', 'permalink': 'intel'}}\n"
    }
   ],
   "source": [
    "after2010 = comp.find({\"acquisition.acquired_year\":{\"$gt\":2010}}).sort(\"acquisition.price_amount\")\n",
    "\n",
    "for e in after2010[:5]:\n",
    "    print(e[\"name\"], e[\"acquisition\"])"
   ]
  },
  {
   "cell_type": "markdown",
   "metadata": {},
   "source": [
    "### 14. Order the companies by their `founded year`, retrieving only their `name` and `founded year`."
   ]
  },
  {
   "cell_type": "code",
   "execution_count": 160,
   "metadata": {},
   "outputs": [
    {
     "name": "stdout",
     "output_type": "stream",
     "text": "Alstrasoft 1800\nSmallWorlds 1800\nUS Army 1800\nDuPont 1802\nMcKesson 1833\nBachmann Industries 1833\nBertelsmann 1835\nAccuity 1836\nCENTRA 1839\nWeGame 1840\n"
    }
   ],
   "source": [
    "founded = comp.find({\"founded_year\":{\"$ne\":None}}).sort(\"founded_year\",1)\n",
    "for e in founded[:10]:\n",
    "    print(e['name'], e['founded_year'])"
   ]
  },
  {
   "cell_type": "markdown",
   "metadata": {},
   "source": [
    "### 15. All the companies that have been founded on the first seven days of the month, including the seventh. Sort them by their `acquisition price` in a descending order. Limit the search to 10 documents."
   ]
  },
  {
   "cell_type": "code",
   "execution_count": 170,
   "metadata": {},
   "outputs": [
    {
     "name": "stdout",
     "output_type": "stream",
     "text": "Omnidrive\nPostini\nGeni\nGizmoz\nFox Interactive Media\nHelio\nJoost\nStumbleUpon\nBabelgum\nTechnorati\n"
    }
   ],
   "source": [
    "rang = [e for e in range(1,8)]\n",
    "lucky7 = comp.find({\"founded_day\":{\"$in\":rang}}).sort(\"acquisition price\",-1)\n",
    "names(lucky7)"
   ]
  },
  {
   "cell_type": "markdown",
   "metadata": {},
   "source": [
    "### 16. All the companies on the 'web' `category` that have more than 4000 employees. Sort them by the amount of employees in ascending order."
   ]
  },
  {
   "cell_type": "code",
   "execution_count": 172,
   "metadata": {},
   "outputs": [
    {
     "name": "stdout",
     "output_type": "stream",
     "text": "Expedia\nAOL\nWebkinz\nRakuten\nLos Angeles Times Media Group\nGroupon\nYahoo!\neBay\nExperian\n"
    }
   ],
   "source": [
    "webs = comp.find({\"$and\": [{\"category_code\":\"web\"}, {\"number_of_employees\":{\"$gt\":4000}}]}).sort(\"number_of_employees\",1)\n",
    "names(webs)\n",
    "\n"
   ]
  },
  {
   "cell_type": "markdown",
   "metadata": {},
   "source": [
    "### 17. All the companies whose acquisition amount is more than 10.000.000, and currency is 'EUR'."
   ]
  },
  {
   "cell_type": "code",
   "execution_count": 174,
   "metadata": {},
   "outputs": [
    {
     "name": "stdout",
     "output_type": "stream",
     "text": "ZYB\nApertio\nGreenfield Online\nMobile Trend\nCitizenside\nExcite Europe\nYelloYello\nWebedia\nWayfinder\nBranded Payment Solutions\n"
    }
   ],
   "source": [
    "expensiveEUR = comp.find({\"$and\":[{\"acquisition.price_amount\":{\"$gt\":1E4}}, {\"acquisition.price_currency_code\":\"EUR\"}]})\n",
    "names(expensiveEUR)"
   ]
  },
  {
   "cell_type": "markdown",
   "metadata": {},
   "source": [
    "### 18. All the companies that have been acquired on the first trimester of the year. Limit the search to 10 companies, and retrieve only their `name` and `acquisition` fields."
   ]
  },
  {
   "cell_type": "code",
   "execution_count": 178,
   "metadata": {},
   "outputs": [
    {
     "name": "stdout",
     "output_type": "stream",
     "text": "Kyte {'price_amount': None, 'price_currency_code': 'USD', 'term_code': None, 'source_url': 'http://techcrunch.com/2011/01/31/exclusive-kit-digital-acquires-kickapps-kewego-and-kyte-for-77-2-million/', 'source_description': 'KIT digital Acquires KickApps, Kewego AND Kyte For $77.2 Million', 'acquired_year': 2011, 'acquired_month': 1, 'acquired_day': 31, 'acquiring_company': {'name': 'KIT digital', 'permalink': 'kit-digital'}}\nNetRatings {'price_amount': 327000000, 'price_currency_code': 'USD', 'term_code': 'cash', 'source_url': 'http://login.vnuemedia.com/hr/login/login_subscribe.jsp?id=0oqDem1gYIfIclz9i2%2Ffqj5NxCp2AC5DPbVnyT2da8GyV2mXjasabE128n69OrmcAh52%2FGE3pSG%2F%0AEKRYD9vh9EhrJrxukmUzh532fSMTZXL42gwPB80UWVtF1NwJ5UZSM%2BCkLU1mpYBoHFgiH%2Fi0f6Ax%0A9yMIVxt47t%2BHamhEQ0nkOEK24L', 'source_description': 'Nielsen buys rest of NetRatings', 'acquired_year': 2007, 'acquired_month': 2, 'acquired_day': None, 'acquiring_company': {'name': 'Nielsen', 'permalink': 'nielsen'}}\nblogTV {'price_amount': None, 'price_currency_code': 'USD', 'term_code': None, 'source_url': 'http://techcrunch.com/2013/03/13/younow-buys-blogtv/', 'source_description': 'Live Social Video Network YouNow Acquires Streaming Service BlogTV', 'acquired_year': 2013, 'acquired_month': 3, 'acquired_day': 13, 'acquiring_company': {'name': 'YouNow', 'permalink': 'younow'}}\nLivestream {'price_amount': None, 'price_currency_code': 'USD', 'term_code': 'cash_and_stock', 'source_url': '', 'source_description': 'company', 'acquired_year': 2008, 'acquired_month': 1, 'acquired_day': 1, 'acquiring_company': {'name': 'Adviqo', 'permalink': 'adviqo'}}\niContact {'price_amount': 169000000, 'price_currency_code': 'USD', 'term_code': 'cash_and_stock', 'source_url': 'http://techcrunch.com/2012/02/28/vocus-buys-email-marketing-company-icontact-for-169-million/', 'source_description': 'Vocus Buys Email Marketing Company iContact For $169 Million', 'acquired_year': 2012, 'acquired_month': 2, 'acquired_day': 28, 'acquiring_company': {'name': 'Vocus', 'permalink': 'vocus'}}\n"
    }
   ],
   "source": [
    "rang = [e for e in range(1,4)]\n",
    "firsttrim = comp.find({\"acquisition.acquired_month\":{\"$in\": rang}}).limit(10)\n",
    "for e in firsttrim[:5]:\n",
    "    print(e[\"name\"], e[\"acquisition\"])\n"
   ]
  },
  {
   "cell_type": "markdown",
   "metadata": {},
   "source": [
    "# Bonus\n",
    "### 19. All the companies that have been founded between 2000 and 2010, but have not been acquired before 2011."
   ]
  },
  {
   "cell_type": "code",
   "execution_count": null,
   "metadata": {},
   "outputs": [],
   "source": [
    "# Your Code"
   ]
  },
  {
   "cell_type": "markdown",
   "metadata": {},
   "source": [
    "### 20. All the companies that have been 'deadpooled' after the third year."
   ]
  },
  {
   "cell_type": "code",
   "execution_count": null,
   "metadata": {},
   "outputs": [],
   "source": [
    "# Your Code"
   ]
  }
 ],
 "metadata": {
  "kernelspec": {
   "display_name": "Python 3",
   "language": "python",
   "name": "python3"
  },
  "language_info": {
   "codemirror_mode": {
    "name": "ipython",
    "version": 3
   },
   "file_extension": ".py",
   "mimetype": "text/x-python",
   "name": "python",
   "nbconvert_exporter": "python",
   "pygments_lexer": "ipython3",
   "version": "3.7.6-final"
  }
 },
 "nbformat": 4,
 "nbformat_minor": 2
}