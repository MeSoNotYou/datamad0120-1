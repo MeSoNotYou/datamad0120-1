{
 "cells": [
  {
   "cell_type": "markdown",
   "metadata": {},
   "source": [
    "# Interactive Visualization: iPyWidgets\n",
    "\n",
    "\n",
    "Lesson Goals\n",
    "\n",
    "    Learn about iPyWidgets.\n",
    "    Introduce the interact decorator.\n",
    "    Create visualizations with interactive sliders.\n",
    "    Create visualizations with interactive drop-down boxes.\n",
    "    Create visualizations with interactive check boxes.\n",
    "    Create visualizations with interactive text boxes.\n",
    "\n",
    "Introduction\n",
    "\n",
    "In the last lesson, we covered how to make interactive, Javascript-based visualizations using Python and the plotly and cufflinks libraries. This provided us with the ability to hover over the plot points in the chart to see the values, and it also enabled us to include and exclude groups from the visualization by simply clicking on them in the legend.\n",
    "\n",
    "The interactivity doesn't have to stop there. In this lesson, we are going learn how to make our visualizations even more interactive via the use of widgets such as sliders, drop-down boxes, check boxes, and text boxes. These widgets are going to control aspects of the information that get passed to our visualizations. Using these widgets to change values is going to cause the visualizations to change themselves. We will be using these widgets to extend the interactivity of charts generated with plotly and cufflinks.\n",
    "\n",
    "To incorporate widgets into our visualizations, we will need to ensure that we have the iPyWidgets library installed.\n",
    "\n",
    "$ pip install ipywidgets\n",
    "\n",
    "Let's also go ahead and import everything we are going to need for this lesson."
   ]
  },
  {
   "cell_type": "code",
   "execution_count": 1,
   "metadata": {},
   "outputs": [
    {
     "ename": "ModuleNotFoundError",
     "evalue": "No module named 'lineup_widget'",
     "output_type": "error",
     "traceback": [
      "\u001b[0;31m---------------------------------------------------------------------------\u001b[0m",
      "\u001b[0;31mModuleNotFoundError\u001b[0m                       Traceback (most recent call last)",
      "\u001b[0;32m<ipython-input-1-cad045e07484>\u001b[0m in \u001b[0;36m<module>\u001b[0;34m\u001b[0m\n\u001b[1;32m      1\u001b[0m \u001b[0;32mimport\u001b[0m \u001b[0mpandas\u001b[0m \u001b[0;32mas\u001b[0m \u001b[0mpd\u001b[0m\u001b[0;34m\u001b[0m\u001b[0;34m\u001b[0m\u001b[0m\n\u001b[0;32m----> 2\u001b[0;31m \u001b[0;32mimport\u001b[0m \u001b[0mlineup_widget\u001b[0m\u001b[0;34m\u001b[0m\u001b[0;34m\u001b[0m\u001b[0m\n\u001b[0m\u001b[1;32m      3\u001b[0m \u001b[0;32mfrom\u001b[0m \u001b[0mIPython\u001b[0m\u001b[0;34m.\u001b[0m\u001b[0mdisplay\u001b[0m \u001b[0;32mimport\u001b[0m \u001b[0mdisplay\u001b[0m\u001b[0;34m\u001b[0m\u001b[0;34m\u001b[0m\u001b[0m\n\u001b[1;32m      4\u001b[0m \u001b[0;32mimport\u001b[0m \u001b[0mchart_studio\u001b[0m\u001b[0;34m.\u001b[0m\u001b[0mplotly\u001b[0m \u001b[0;32mas\u001b[0m \u001b[0mpy\u001b[0m\u001b[0;34m\u001b[0m\u001b[0;34m\u001b[0m\u001b[0m\n\u001b[1;32m      5\u001b[0m \u001b[0;32mimport\u001b[0m \u001b[0mcufflinks\u001b[0m \u001b[0;32mas\u001b[0m \u001b[0mcf\u001b[0m\u001b[0;34m\u001b[0m\u001b[0;34m\u001b[0m\u001b[0m\n",
      "\u001b[0;31mModuleNotFoundError\u001b[0m: No module named 'lineup_widget'"
     ]
    }
   ],
   "source": [
    "import pandas as pd\n",
    "import lineup_widget\n",
    "from IPython.display import display\n",
    "import chart_studio.plotly as py\n",
    "import cufflinks as cf\n",
    "from ipywidgets import interact\n",
    "\n",
    "cf.go_offline()"
   ]
  },
  {
   "cell_type": "markdown",
   "metadata": {},
   "source": [
    "Finally, for this lesson we will continue using the same churn data set that we used for the plotly and cufflinks lesson, so make sure that is imported as well."
   ]
  },
  {
   "cell_type": "code",
   "execution_count": null,
   "metadata": {},
   "outputs": [],
   "source": [
    "df = pd.read_csv('../data/churn.csv')\n",
    "df.head()"
   ]
  },
  {
   "cell_type": "markdown",
   "metadata": {},
   "source": [
    "# The Interact Decorator\n",
    "\n",
    "IPyWidgets library has a variety of functionality for creating interactive widgets, but the interact decorator is both the easiest way to get started and the most useful, so we will be focusing it for this lesson.\n",
    "\n",
    "The interact decorator accepts a few different types of inputs, and the format of those inputs determines the type of widget that is displayed.\n",
    "\n",
    "    Slider: a numeric value, (min, max), or (min, max, step)\n",
    "    Drop-Down Box: a list or dictionary\n",
    "    Check Box: True or False values\n",
    "    Text Box: a string enclosed in quotes\n",
    "\n",
    "We will see examples of each of these in the sections below, both individually and then all together.\n",
    "\n",
    "\n",
    "# Interactive Sliders\n",
    "\n",
    "One of the most useful types of widgets you can use for numeric variables is the slider. Sliders allow you to modify numeric inputs that are fed to your visualizations.\n",
    "\n",
    "We can see a basic example of this with the histogram below. One of the challenges of working with histograms is determining an appropriate number of bins. Widgets can help us with this by allowing us to quickly and easily view different numbers of bins without having to manually input them into our code and regenerate the visualization.\n",
    "\n",
    "We can use the interact decorator to create a slider widget where we specify a range of bins (from as few as 8 to as many as there are unique tenures). Then, we can simply define a hist function (it really doesn't matter what you name it) that accepts the dynamic number of bins and plugs them in to a plotly histogram so that the number of bins in the visualization updates as you modify the values with the slider."
   ]
  },
  {
   "cell_type": "code",
   "execution_count": null,
   "metadata": {},
   "outputs": [],
   "source": [
    "@interact(bins = (8, len(df['tenure'].unique())))\n",
    "def hist(bins):\n",
    "    df['tenure'].iplot(kind='hist', bins=bins, title='Tenure Distribution')"
   ]
  },
  {
   "cell_type": "markdown",
   "metadata": {},
   "source": [
    "If we slide the slider all the way to the right, the number of bins increases to 72, which is the number of unique tenure values there are in our data set.\n"
   ]
  },
  {
   "cell_type": "markdown",
   "metadata": {},
   "source": [
    "# Interactive Drop-Down Boxes\n",
    "\n",
    "Another useful widget when you have the same visualization that you'd like to view for either different fields or for different field values is the drop-down box. To generate one, we can pass a list to our interact decorator consisting of the fields we would like to be able to choose from. We can then define a linechart function that accepts the input we have chosen from the drop-down box, pivots our data set so that the columns represent the categorical values in the field we have chosen, and then generates a plotly line chart with lines showing changes in churn rate for each category.\n",
    "\n"
   ]
  },
  {
   "cell_type": "code",
   "execution_count": null,
   "metadata": {},
   "outputs": [],
   "source": [
    "@interact(Selection=['gender', 'SeniorCitizen', 'Partner', \n",
    "                     'Dependents', 'InternetService', 'PaymentMethod'])\n",
    "def linechart(Selection):\n",
    "    data = df.pivot_table(values='ChurnBinary', columns=Selection,\n",
    "                            index='tenure', aggfunc='mean').reset_index()\n",
    "\n",
    "    data.iplot(kind='line', x='tenure', xTitle='Tenure', \n",
    "               yTitle='Avg. Churn Rate', title='Avg. Churn Rate by ' + Selection.title())"
   ]
  },
  {
   "cell_type": "markdown",
   "metadata": {},
   "source": [
    "As you can see, having the check box where we can choose the field we want to see saves us from having to jump back into the code, create a pivot table for the specific field, and then regenerate the visualization. This has the potential to save us a significant amount of time in our data exploration workflow.\n",
    "\n",
    "Let's look at another example where we use multiple checkboxes to filter our data down to a point where we can investigate it at a granular level.\n",
    "\n",
    "Below, we are creating 4 different drop-down boxes containing the unique categorical values in the gender, Partner, InternetService, and PaymentMethod fields respectively. We then define a scatter function where we filter our data down by the values chosen in each of the drop-down boxes and then generate a scatter plot that plots how much each customer is charged by their tenure and color codes the points by the type of contract they have."
   ]
  },
  {
   "cell_type": "code",
   "execution_count": null,
   "metadata": {},
   "outputs": [],
   "source": [
    "@interact(Gender=list(df['gender'].unique()), \n",
    "          Partner=list(df['Partner'].unique()),\n",
    "          Internet=list(df['InternetService'].unique()), \n",
    "          Payment=list(df['PaymentMethod'].unique())\n",
    "         )\n",
    "\n",
    "def scatter(Gender, Partner, Internet, Payment):\n",
    "    data = df[(df['gender']==Gender) & \n",
    "              (df['Partner']==Partner) & \n",
    "              (df['InternetService']==Internet) & \n",
    "              (df['PaymentMethod']==Payment)]\n",
    "\n",
    "    data.iplot(kind='scatter', x='tenure', y='MonthlyCharges', \n",
    "               categories='Contract', text='customerID', \n",
    "               xTitle='Tenure', yTitle='Monthly Charges',\n",
    "               title='Charges vs. Tenure')"
   ]
  },
  {
   "cell_type": "markdown",
   "metadata": {},
   "source": [
    "Note that we added a text argument to our iplot method that will show us each customer's customerID in addition to the monthly amount they are paying when we hover over the data points.\n",
    "\n",
    "\n",
    "\n",
    "# Interactive Check Boxes\n",
    "\n",
    "Interactive check boxes can also help you explore a data set, especially when there are binary fields whose impact you'd like to visualize. The way to do this is to map whether the check box is checked to a corresponding condition for the binary field. Once that is done, you'd just need to filter the data set based on those conditions.\n",
    "\n",
    "Below is an example that does exactly this. The interact decorator has two True/False arguments which it will render as check boxes - one for Senior and one for PhoneService. Inside our barchart function, we write some conditional statements that will translate those True/False options into conditions that we can use to filter our data. We then apply those filters and group the data by PaymentMethod, calculating the average churn rate for each. Finally, we generate a bar chart that displays the average churn rate for each payment method based on the filters applied via the check boxes."
   ]
  },
  {
   "cell_type": "code",
   "execution_count": null,
   "metadata": {},
   "outputs": [],
   "source": [
    "@interact(Senior=False, PhoneService=True)\n",
    "\n",
    "def barchart(Senior, PhoneService):\n",
    "    if Senior==True:\n",
    "        senior = df['SeniorCitizen']==1\n",
    "    else:\n",
    "        senior = df['SeniorCitizen']==0\n",
    "    \n",
    "    if PhoneService==True:\n",
    "        phone = df['PhoneService']=='Yes'\n",
    "    else:\n",
    "        phone = df['PhoneService']=='No'\n",
    "    \n",
    "    data = df[(senior) & (phone)].groupby('PaymentMethod').agg({'ChurnBinary':'mean'}).reset_index()\n",
    "    \n",
    "    data.iplot(kind='bar', x='PaymentMethod', xTitle='Payment Method',\n",
    "               yTitle='Avg. Churn Rate', color='blue', \n",
    "               title='Churn Rate by Payment Method')"
   ]
  },
  {
   "cell_type": "markdown",
   "metadata": {},
   "source": [
    "The code above generates the following bar chart visualization. By default, the PhoneService check box is checked because we initially set it to True."
   ]
  },
  {
   "cell_type": "markdown",
   "metadata": {},
   "source": [
    "If we also check the Senior checkbox, the visualization instantly updates to look like the bar chart below.\n"
   ]
  },
  {
   "cell_type": "markdown",
   "metadata": {},
   "source": [
    "# Interactive Text Boxes\n",
    "\n",
    "The last type of widget we are going to cover in this lesson is the interactive text box. These are good for filtering when you have categorical variables that are different but have some string in common. For example, the PaymentMethod field in our data set has four unique values.\n",
    "\n"
   ]
  },
  {
   "cell_type": "code",
   "execution_count": null,
   "metadata": {},
   "outputs": [],
   "source": [
    "df['PaymentMethod'].unique()\n"
   ]
  },
  {
   "cell_type": "markdown",
   "metadata": {},
   "source": [
    "Notice that there are similarities between pairs of these unique categories - two of them have the string 'check' in common and the other two have the string 'automatic' in common. We can use a text box to provide a flexible means by which we can visualize any of these options based on the unique strings they contain or groups of them based on their co-occurring strings.\n",
    "\n",
    "To do this, we will once again use the interact decorator, passing a Payment argument with a blank string. This will create a text box into which we can type any string we want. In our chart function, we will then filter our data set to just the payment methods that contain the string typed into the text box. We then aggregate, sort, and visualize as a bar chart."
   ]
  },
  {
   "cell_type": "code",
   "execution_count": null,
   "metadata": {},
   "outputs": [],
   "source": [
    "@interact(Payment='')\n",
    "\n",
    "def chart(Payment):\n",
    "    data = df[df['PaymentMethod'].str.contains(Payment)]\n",
    "    data = data.groupby('TenureLevel').agg({'MonthlyCharges':'sum'}).reset_index()\n",
    "    custom_dict = {'New': 0, 'Regular': 1, 'Loyal': 2, 'Very Loyal' : 3}  \n",
    "    data = data.iloc[data['TenureLevel'].map(custom_dict).argsort()].set_index('TenureLevel')\n",
    "    \n",
    "    data.iplot(kind='bar', xTitle='Values')"
   ]
  },
  {
   "cell_type": "markdown",
   "metadata": {},
   "source": [
    "When we type 'check' into the text box, the chart updates and shows us the total Monthly Charges the company collects from each tenure level. These are all relatively even."
   ]
  },
  {
   "cell_type": "markdown",
   "metadata": {},
   "source": [
    "However, when we type 'auto' into the text box, the chart shows that more loyal customers tend to use these payment methods to pay their bills."
   ]
  },
  {
   "cell_type": "code",
   "execution_count": null,
   "metadata": {},
   "outputs": [],
   "source": []
  }
 ],
 "metadata": {
  "kernelspec": {
   "display_name": "Python 3",
   "language": "python",
   "name": "python3"
  },
  "language_info": {
   "codemirror_mode": {
    "name": "ipython",
    "version": 3
   },
   "file_extension": ".py",
   "mimetype": "text/x-python",
   "name": "python",
   "nbconvert_exporter": "python",
   "pygments_lexer": "ipython3",
   "version": "3.7.6"
  }
 },
 "nbformat": 4,
 "nbformat_minor": 2
}
